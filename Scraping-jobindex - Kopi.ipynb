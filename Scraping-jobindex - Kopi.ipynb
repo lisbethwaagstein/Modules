{
 "cells": [
  {
   "cell_type": "markdown",
   "metadata": {},
   "source": [
    "# Exam: Scraping job postings from Jobindex\n",
    "\n",
    "...."
   ]
  },
  {
   "cell_type": "code",
   "execution_count": 21,
   "metadata": {},
   "outputs": [],
   "source": [
    "import scraping_class\n",
    "logfile = 'log_jobindex_scraping.txt' ## name your log file.\n",
    "connector = scraping_class.Connector(logfile)"
   ]
  },
  {
   "cell_type": "code",
   "execution_count": 73,
   "metadata": {},
   "outputs": [],
   "source": [
    "import requests\n",
    "from bs4 import BeautifulSoup\n",
    "import numpy as np\n",
    "\n",
    "#define url and fetch the HTML using the requests module\n",
    "url = 'https://www.jobindex.dk/jobsoegning?lang=da.html'\n",
    "response = requests.get(url)  \n",
    "html = response.text  \n",
    "soup = BeautifulSoup(html,'lxml') # parse the raw html using BeautifoulSoup\n",
    "#print(soup)"
   ]
  },
  {
   "cell_type": "code",
   "execution_count": 89,
   "metadata": {},
   "outputs": [
    {
     "name": "stdout",
     "output_type": "stream",
     "text": [
      "657\n"
     ]
    }
   ],
   "source": [
    "#find the max page number\n",
    "max_page = soup.find('ul',{'class':'pagination'})\n",
    "max_page2 = max_page.find_all('a', {'class':'page-link'})\n",
    "\n",
    "def convert_value_type(value_node):\n",
    "    if value_node.name == 'a':\n",
    "        return value_node.text\n",
    "\n",
    "page_list = []\n",
    "for page in max_page2:\n",
    "    page_list.append(convert_value_type(page))\n",
    "#print(page_list[-1])\n",
    "\n",
    "last_page = int(page_list[-1]) + 1 # we add one to use it in range in for-loop\n",
    "print(last_page)"
   ]
  },
  {
   "cell_type": "code",
   "execution_count": 105,
   "metadata": {},
   "outputs": [
    {
     "name": "stdout",
     "output_type": "stream",
     "text": [
      "<div class=\"jobsearch-result\"><div data-beacon-tid=\"h1002386\"> <div class=\"PaidJob\">\n",
      "<a data-click=\"/c?t=h1002386&amp;ctx=w&amp;u=20347743\" href=\"https://nomia.dk/\" rel=\"noopener\" target=\"_blank\"><img align=\"right\" alt=\"Nomia Roskilde\" src=\"/img/logo/Nomia_logo_2019.png\" style=\"border: 0px; margin: 0 0 5px 20px;\"/></a><a data-click=\"/c?t=h1002386&amp;ctx=w&amp;u=20347744\" href=\"https://www.jobindex.dk/jobannonce/366040/regnskabskonsulent\" rel=\"noopener\" target=\"_blank\"><b>Regnskabskonsulent</b></a>\n",
      "<p>\n",
      "<a data-click=\"/c?t=h1002386&amp;ctx=w&amp;u=20347743\" href=\"https://nomia.dk/\" rel=\"noopener\" target=\"_blank\"><b>Nomia Roskilde</b></a></p>\n",
      "<p><i> Har du styr på de klassiske opgaver indenfor bogholderi? Har du interesse og snilde indenfor de nyeste teknologier? Og kan du lide at have kundekontakt? Så er det dig, vi leder efter. </i></p>\n",
      "<p> Ønsker du at være omgivet af et team af servicemindede regnskabskonsulenter, der vil gøre alt for at hjælpe vores kunder i en travl hverdag, som kan lide at arbejde med de nyeste elektroniske løsninger og have fart på. I så fald er du måske vores nye kollega. </p>\n",
      "<p> Din faglige platform skal være solid. Du er uddannet bogholder eller økonomimedarbejder med minimum 5 års erfaring fra revisionskontor eller lignende. Du vil få din egen kundeportefølje, som du arbejder tæt sammen med - enten hos kunden eller i vores spændende bygning i Roskilde. Du organiserer selv din arbejdsdag med opgaver, kundebesøg, møder osv. </p>\n",
      "<div class=\"jix_toolbar jix_appetizer_toolbar\" id=\"jix_toolbar_h1002386\">\n",
      "<ul class=\"toolbar-line toolbar-line-primary\">\n",
      "<li class=\"jobad-element-myjob\" data-state=\"unsaved\">\n",
      "<a data-action=\"add-dialog\" href=\"/bruger/dine-job/h1002386/gem\" rel=\"nofollow\">\n",
      "<svg class=\"svg-icon svg-icon-inline\"><use xlink:href=\"#svg-myjob-unsaved\" xmlns:xlink=\"http://www.w3.org/1999/xlink\"></use></svg>\n",
      "        Gem job\n",
      "</a></li>\n",
      "<li class=\"jobad-element-myjob-interest\" data-state=\"notallowed\">\n",
      "<a data-action=\"handlecontact\" href=\"/bruger/dine-job/h1002386/skift_kontakt\" rel=\"nofollow\">\n",
      "<span class=\"\"><svg class=\"svg-icon svg-icon-inline\"><use xlink:href=\"#svg-myjob-interest-unselected\" xmlns:xlink=\"http://www.w3.org/1999/xlink\"></use></svg>Vis interesse</span>\n",
      "</a></li>\n",
      "<li class=\"jobad-element-share\"><a data-share-popup-url=\"/share/popup/h1002386\" data-share-tid=\"h1002386\" data-share-title=\"Regnskabskonsulent\" data-share-url=\"https://www.jobindex.dk/vis-job/h1002386\" href=\"/send-link?link=https%253A%252F%252Fwww.jobindex.dk%252Fvis-job%252Fh1002386&amp;s=542176736cc9bf366494d3b5412e7081aee69419\">Del</a></li>\n",
      "<li class=\"toolbar-pubdate\"><span class=\"d-none d-md-inline\">Indrykket </span><time datetime=\"2020-08-21\">21. august</time></li>\n",
      "</ul>\n",
      "<ul class=\"toolbar-line toolbar-line-secondary has-rating\">\n",
      "<li class=\"toolbar-companyprofile\">\n",
      "<a href=\"/virksomhed/25857/dansk-revision-a-s\" onclick=\"ga('send', 'event', 'jobannonce', 'click', 'om-virksomheden', {transport: 'beacon'})\">Om virksomheden</a>\n",
      "<span class=\"ratings\">\n",
      "<a class=\"rating-score\" href=\"/virksomhed/25857/dansk-revision-a-s#show_rating\" onclick=\"ga('send', 'event', 'jobannonce', 'click', 'evalueringsstjerner', {transport: 'beacon'})\">\n",
      "<svg class=\"svg-icon svg-icon-inline\"><use xlink:href=\"#svg-rating-selected\" xmlns:xlink=\"http://www.w3.org/1999/xlink\"></use></svg><svg class=\"svg-icon svg-icon-inline\"><use xlink:href=\"#svg-rating-selected\" xmlns:xlink=\"http://www.w3.org/1999/xlink\"></use></svg><svg class=\"svg-icon svg-icon-inline\"><use xlink:href=\"#svg-rating-selected\" xmlns:xlink=\"http://www.w3.org/1999/xlink\"></use></svg><svg class=\"svg-icon svg-icon-inline\"><use xlink:href=\"#svg-rating-unselected\" xmlns:xlink=\"http://www.w3.org/1999/xlink\"></use></svg><svg class=\"svg-icon svg-icon-inline\"><use xlink:href=\"#svg-rating-unselected\" xmlns:xlink=\"http://www.w3.org/1999/xlink\"></use></svg>\n",
      "<span class=\"sr-only\">3 af 5 stjerner</span>\n",
      "</a>\n",
      "<a class=\"num-ratings\" href=\"/virksomhed/25857/dansk-revision-a-s#show_rating\" onclick=\"ga('send', 'event', 'jobannonce', 'click', 'evalueringsstjerner', {transport: 'beacon'})\">15</a>\n",
      "</span>\n",
      "</li>\n",
      "<li class=\"jobad-element-quickapply\">\n",
      "<a class=\"btn btn-sm btn-primary\" href=\"https://www.jobindex.dk/ansoegninger/opret/1307544\" onclick='ga(\"send\", \"event\", \"jobannonce\", \"click\", \"quick-apply\", {transport: \"beacon\"})'>QuickApply</a>\n",
      "</li>\n",
      "</ul>\n",
      "</div>\n",
      "<div style=\"clear:both;\"></div>\n",
      "</div>\n",
      "</div></div>\n"
     ]
    },
    {
     "data": {
      "text/plain": [
       "\"\\n#Extract data from all the links\\njobindex_data = []\\nfor link in jobindex_links:\\n    response = requests.get(link)  \\n    html = response.text  \\n    soup = BeautifulSoup(html,'lxml') # parse the raw html using BeautifoulSoup\\n    \\n    #print(soup) \""
      ]
     },
     "execution_count": 105,
     "metadata": {},
     "output_type": "execute_result"
    }
   ],
   "source": [
    "#Get all link pages from jobindex\n",
    "jobindex_links = []\n",
    "for i in range(1,last_page):\n",
    "    url = f'https://www.jobindex.dk/jobsoegning?lang=da?page={i}.html'\n",
    "    jobindex_links.append(url)   \n",
    "#print(jobindex_links)\n",
    "\n",
    "#Extract data from one page link first. We want the \n",
    "url = 'https://www.jobindex.dk/jobsoegning?lang=da?page=1.html'\n",
    "response = requests.get(url)  \n",
    "html = response.text  \n",
    "soup = BeautifulSoup(html,'lxml')\n",
    "\n",
    "joblistings = soup.find('div',{'class':'jobsearch-result'})\n",
    "print(joblistings)\n",
    "\n",
    "# now find the a href hyperlinks of the individual jos postings. note: postings have many hyperlinks.\n",
    "\n",
    "                                       \n",
    "'''\n",
    "#Extract data from all the links\n",
    "jobindex_data = []\n",
    "for link in jobindex_links:\n",
    "    response = requests.get(link)  \n",
    "    html = response.text  \n",
    "    soup = BeautifulSoup(html,'lxml') # parse the raw html using BeautifoulSoup\n",
    "    \n",
    "    #print(soup) '''   "
   ]
  },
  {
   "cell_type": "code",
   "execution_count": null,
   "metadata": {},
   "outputs": [],
   "source": []
  }
 ],
 "metadata": {
  "kernelspec": {
   "display_name": "Python 3",
   "language": "python",
   "name": "python3"
  },
  "language_info": {
   "codemirror_mode": {
    "name": "ipython",
    "version": 3
   },
   "file_extension": ".py",
   "mimetype": "text/x-python",
   "name": "python",
   "nbconvert_exporter": "python",
   "pygments_lexer": "ipython3",
   "version": "3.8.3"
  }
 },
 "nbformat": 4,
 "nbformat_minor": 4
}
