{
 "cells": [
  {
   "cell_type": "markdown",
   "metadata": {},
   "source": [
    "# Exam: Scraping job postings from Jobindex\n",
    "\n",
    "...."
   ]
  },
  {
   "cell_type": "code",
   "execution_count": 1,
   "metadata": {},
   "outputs": [],
   "source": [
    "import scraping_class\n",
    "logfile = 'log_jobindex_scraping.txt'\n",
    "connector = scraping_class.Connector(logfile)"
   ]
  },
  {
   "cell_type": "code",
   "execution_count": 2,
   "metadata": {},
   "outputs": [],
   "source": [
    "import requests\n",
    "from bs4 import BeautifulSoup\n",
    "import numpy as np\n",
    "\n",
    "#define url and fetch the HTML using the requests module\n",
    "url = 'https://www.jobindex.dk/jobsoegning?lang=da.html'\n",
    "response = requests.get(url)  \n",
    "html = response.text  \n",
    "soup = BeautifulSoup(html,'lxml') # parse the raw html using BeautifoulSoup\n",
    "#print(soup)"
   ]
  },
  {
   "cell_type": "code",
   "execution_count": 3,
   "metadata": {},
   "outputs": [
    {
     "name": "stdout",
     "output_type": "stream",
     "text": [
      "648\n"
     ]
    }
   ],
   "source": [
    "#find the max page number\n",
    "max_page = soup.find('ul',{'class':'pagination'})\n",
    "max_page2 = max_page.find_all('a', {'class':'page-link'})\n",
    "\n",
    "def convert_value_type(value_node):\n",
    "    if value_node.name == 'a':\n",
    "        return value_node.text\n",
    "\n",
    "page_list = []\n",
    "for page in max_page2:\n",
    "    page_list.append(convert_value_type(page))\n",
    "#print(page_list[-1])\n",
    "\n",
    "last_page = int(page_list[-1]) + 1 # we add one to use it in range in for-loop\n",
    "print(last_page)"
   ]
  },
  {
   "cell_type": "code",
   "execution_count": 19,
   "metadata": {},
   "outputs": [],
   "source": [
    "#check exercise 6.1.4??\n",
    "import re\n",
    "#Get all link pages from jobindex\n",
    "jobindex_links = []\n",
    "for i in range(1,3):\n",
    "    url = f'https://www.jobindex.dk/jobsoegning?lang=da?page={i}.html'\n",
    "    jobindex_links.append(url)   \n",
    "#print(jobindex_links)\n",
    "html = []\n",
    "job_links = []\n",
    "for url in jobindex_links:\n",
    "    response = requests.get(url)  \n",
    "    html = response.text  \n",
    "    soup = BeautifulSoup(html,'lxml')\n",
    "    #one job result is given by class=jobsearch-result\n",
    "    joblistings = soup.find_all('div',{'class':'jobsearch-result'})\n",
    "    #print(joblistings)\n",
    "    for joblisting in joblistings:\n",
    "        links = re.findall(\"href=[\\\"\\'](.*?)[\\\"\\']\", str(joblisting))\n",
    "        link = links[1]\n",
    "        job_links.append(link)\n",
    "    \n",
    "\n",
    "len(job_links)"
   ]
  },
  {
   "cell_type": "code",
   "execution_count": 21,
   "metadata": {},
   "outputs": [
    {
     "data": {
      "text/plain": [
       "['https://www.jobindex.dk/jobannonce/366044/valuation-manager-til-investeringsforvalter',\n",
       " 'https://ikast-brande.emply.net/recruitment/vacancyAd.aspx?publishingId=1fb545a3-1946-4afc-8484-9c336901cb5b',\n",
       " 'https://ikast-brande.emply.net/recruitment/vacancyAd.aspx?publishingId=5346be46-89e6-4202-aa7e-5f497d5ada6b',\n",
       " 'https://www.jobindex.dk/jobannonce/366043/socialfaglig-medarbejder',\n",
       " 'https://www.birn-partners.com/jobs/?hr=show-job%2F59547&amp;locale=da_DK',\n",
       " 'https://www.jobindex.dk/jobannonce/366045/udekoerende-daekmontoer-til-alsidigt-arbejde',\n",
       " 'https://www.innomate.com/InnomatePublicPagesMedarb/JobNotice.aspx?CompanyId=zbc&amp;JobNoticeId=477',\n",
       " 'https://www.innomate.com/InnomatePublicPagesMedarb/JobNotice.aspx?CompanyId=zbc&amp;JobNoticeId=479',\n",
       " 'https://candidate.hr-manager.net/ApplicationInit.aspx?cid=5001&amp;ProjectId=134384&amp;DepartmentId=7957&amp;MediaId=5&amp;SkipAdvertisement=False',\n",
       " 'https://www.odense.dk/job?VacancyID=27322',\n",
       " 'https://www.innomate.com/InnomatePublicPagesMedarb/JobNotice.aspx?CompanyId=sde&amp;JobNoticeId=1176',\n",
       " 'https://candidate.hr-manager.net/ApplicationInit.aspx?cid=1627&amp;ProjectId=143600&amp;DepartmentId=18956&amp;MediaId=4619',\n",
       " 'https://candidate.hr-manager.net/ApplicationInit.aspx?cid=5001&amp;ProjectId=133616&amp;DepartmentId=8535&amp;MediaId=5&amp;SkipAdvertisement=False',\n",
       " 'https://candidate.hr-manager.net/ApplicationInit.aspx?cid=5001&amp;ProjectId=133879&amp;DepartmentId=9414&amp;MediaId=2873',\n",
       " 'https://stormgroup.recruitee.com/o/salgskonsulent-til-sjov-social-hverdag',\n",
       " 'https://signatur.frontlab.com/ExtJobs/DefaultHosting/JobDetails.aspx?ClientId=1435&amp;WebAdId=53498',\n",
       " 'https://www.jobindex.dk/jobannonce/366040/regnskabskonsulent',\n",
       " 'https://www.jobindex.dk/jobannonce/366038/salgs-og-projektassistent',\n",
       " 'https://www.jobindex.dk/jobannonce/366031/qa-specialist-for-quality-control-qc',\n",
       " 'https://frederikshavn.emply.net/recruitment/vacancyAd.aspx?publishingId=004cab7a-e5de-4811-b886-db43e9eeedc1',\n",
       " 'https://www.jobindex.dk/jobannonce/366044/valuation-manager-til-investeringsforvalter',\n",
       " 'https://ikast-brande.emply.net/recruitment/vacancyAd.aspx?publishingId=1fb545a3-1946-4afc-8484-9c336901cb5b',\n",
       " 'https://ikast-brande.emply.net/recruitment/vacancyAd.aspx?publishingId=5346be46-89e6-4202-aa7e-5f497d5ada6b',\n",
       " 'https://www.jobindex.dk/jobannonce/366043/socialfaglig-medarbejder',\n",
       " 'https://www.birn-partners.com/jobs/?hr=show-job%2F59547&amp;locale=da_DK',\n",
       " 'https://www.jobindex.dk/jobannonce/366045/udekoerende-daekmontoer-til-alsidigt-arbejde',\n",
       " 'https://www.innomate.com/InnomatePublicPagesMedarb/JobNotice.aspx?CompanyId=zbc&amp;JobNoticeId=477',\n",
       " 'https://www.innomate.com/InnomatePublicPagesMedarb/JobNotice.aspx?CompanyId=zbc&amp;JobNoticeId=479',\n",
       " 'https://candidate.hr-manager.net/ApplicationInit.aspx?cid=5001&amp;ProjectId=134384&amp;DepartmentId=7957&amp;MediaId=5&amp;SkipAdvertisement=False',\n",
       " 'https://www.odense.dk/job?VacancyID=27322',\n",
       " 'https://www.innomate.com/InnomatePublicPagesMedarb/JobNotice.aspx?CompanyId=sde&amp;JobNoticeId=1176',\n",
       " 'https://candidate.hr-manager.net/ApplicationInit.aspx?cid=1627&amp;ProjectId=143600&amp;DepartmentId=18956&amp;MediaId=4619',\n",
       " 'https://candidate.hr-manager.net/ApplicationInit.aspx?cid=5001&amp;ProjectId=133616&amp;DepartmentId=8535&amp;MediaId=5&amp;SkipAdvertisement=False',\n",
       " 'https://candidate.hr-manager.net/ApplicationInit.aspx?cid=5001&amp;ProjectId=133879&amp;DepartmentId=9414&amp;MediaId=2873',\n",
       " 'https://stormgroup.recruitee.com/o/salgskonsulent-til-sjov-social-hverdag',\n",
       " 'https://signatur.frontlab.com/ExtJobs/DefaultHosting/JobDetails.aspx?ClientId=1435&amp;WebAdId=53498',\n",
       " 'https://www.jobindex.dk/jobannonce/366040/regnskabskonsulent',\n",
       " 'https://www.jobindex.dk/jobannonce/366038/salgs-og-projektassistent',\n",
       " 'https://www.jobindex.dk/jobannonce/366031/qa-specialist-for-quality-control-qc',\n",
       " 'https://frederikshavn.emply.net/recruitment/vacancyAd.aspx?publishingId=004cab7a-e5de-4811-b886-db43e9eeedc1']"
      ]
     },
     "execution_count": 21,
     "metadata": {},
     "output_type": "execute_result"
    }
   ],
   "source": [
    "job_links"
   ]
  }
 ],
 "metadata": {
  "kernelspec": {
   "display_name": "Python 3",
   "language": "python",
   "name": "python3"
  },
  "language_info": {
   "codemirror_mode": {
    "name": "ipython",
    "version": 3
   },
   "file_extension": ".py",
   "mimetype": "text/x-python",
   "name": "python",
   "nbconvert_exporter": "python",
   "pygments_lexer": "ipython3",
   "version": "3.7.6"
  }
 },
 "nbformat": 4,
 "nbformat_minor": 4
}
