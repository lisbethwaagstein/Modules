{
 "cells": [
  {
   "cell_type": "markdown",
   "metadata": {},
   "source": [
    "> **Note:** In most sessions you will be solving exercises posed in a Jupyter notebook that looks like this one. Because you are cloning a Github repository that only we can push to, you should **NEVER EDIT** any of the files you pull from Github. Instead, what you should do, is either make a new notebook and write your solutions in there, or **make a copy of this notebook and save it somewhere else** on your computer, not inside the `sds` folder that you cloned, so you can write your answers in there. If you edit the notebook you pulled from Github, those edits (possible your solutions to the exercises) may be overwritten and lost the next time you pull from Github. This is important, so don't hesitate to ask if it is unclear."
   ]
  },
  {
   "cell_type": "code",
   "execution_count": 2,
   "metadata": {},
   "outputs": [],
   "source": [
    "import scraping_class\n",
    "logfile = 'log_lisbeth.txt' ## name your log file.\n",
    "connector = scraping_class.Connector(logfile)"
   ]
  },
  {
   "cell_type": "markdown",
   "metadata": {
    "ExecuteTime": {
     "end_time": "2017-08-23T15:30:03.634114Z",
     "start_time": "2017-08-23T15:30:03.629294Z"
    }
   },
   "source": [
    "# Exercise Set 7: Parsing and Information Extraction\n",
    "\n",
    "In this Exercise Set we shall develop our webscraping skills even further by practicing **parsing** and navigating html trees using BeautifoulSoup and furthermore train extracting information from raw text with no html tags to help, using regular expressions. \n",
    "\n",
    "But just as importantly you will get a chance to think about **data quality issues** and how to ensure reliability when curating your own webdata. "
   ]
  },
  {
   "cell_type": "markdown",
   "metadata": {},
   "source": [
    "## Exercise Section 7.1: Logging and data quality\n",
    "\n",
    "> **Ex. 7.1.1:** *Why is is it important to log processes in your data collection?*\n",
    "\n"
   ]
  },
  {
   "cell_type": "code",
   "execution_count": 2,
   "metadata": {},
   "outputs": [],
   "source": [
    "# [Answer to Ex. 7.1.1 here]"
   ]
  },
  {
   "cell_type": "markdown",
   "metadata": {},
   "source": [
    "> **Ex. 7.1.2:**\n",
    "*How does logging help with both ensuring and documenting the quality of your data?*\n"
   ]
  },
  {
   "cell_type": "code",
   "execution_count": 2,
   "metadata": {},
   "outputs": [],
   "source": [
    "# [Answer to Ex. 7.1.2 here]"
   ]
  },
  {
   "cell_type": "markdown",
   "metadata": {},
   "source": [
    "## Exercise Section 7.2: Parsing a Table from HTML using BeautifulSoup.\n",
    "\n",
    "Yesterday I showed you a neat little prepackaged function in pandas that did all the work. However today we should learn the mechanics of it. *(It is not just for educational purposes, sometimes the package will not do exactly as you want.)*\n",
    "\n",
    "We hit the Basketball stats page from yesterday again: https://www.basketball-reference.com/leagues/NBA_2018.html.\n"
   ]
  },
  {
   "cell_type": "markdown",
   "metadata": {},
   "source": [
    "> **Ex. 7.2.1:** Here we practice simply locating the table node of interest using the `find` method build into BeautifoulSoup. But first we have to fetch the HTML using the `requests` module. Parse the tree using `BeautifulSoup`. And then use the **>Inspector<** tool (* right click on the table < press inspect element *) in your browser to see how to locate the Eastern Conference table node - i.e. the *tag* name of the node, and maybe some defining *attributes*."
   ]
  },
  {
   "cell_type": "code",
   "execution_count": 234,
   "metadata": {},
   "outputs": [],
   "source": [
    "from bs4 import BeautifulSoup\n",
    "\n",
    "url = 'https://www.basketball-reference.com/leagues/NBA_2018.html'\n",
    "\n",
    "response,call_id = connector.get(url,'nba')\n",
    "if response.ok:\n",
    "    html = response.text\n",
    "else:\n",
    "    print('error')\n",
    "\n",
    "soup = BeautifulSoup(response.text, 'lxml')\n",
    "\n",
    "table = soup.find('table', id=\"confs_standings_E\")"
   ]
  },
  {
   "cell_type": "markdown",
   "metadata": {},
   "source": [
    "You have located the table should now build a function that starts at a \"table node\" and parses the information, and outputs a pandas DataFrame. \n",
    "\n",
    "Inspect the element either within the notebook or through the **>Inspector<** tool and start to see how a table is written in html. Which tag names can be used to locate rows? How will you iterate through columns. Were is the header located?\n",
    "\n",
    "> **Ex. 7.1.2:** First you parse the header which can be found in the canonical tag name: thead. \n",
    "Next you use the `find_all` method to search for the tag, and iterate through each of the elements extracting the text, using the `.text` method builtin to the the node object. Store the header values in a list container. \n",
    "\n",
    "> **Ex. 7.1.3:** Next you locate the rows, using the canonical tag name: tbody. And from here you search for all rows tags. Fiugre out the tag name yourself, inspecting the tbody node in python or using the **Inspector**. \n",
    "\n",
    "> **Ex. 7.1.4:** Next run through all the rows and extract each value, similar to how you extracted the header. However here is a slight variation: Since each value node can have a different tag depending on whether it is a digit or a string, you should use the `.children` method instead of the `.find_all` - (or write compile a regex that matches both the td tag and the th tag.) \n",
    ">Once the value nodes of each row has been located using the `.children` method you should extract the value. Store the extracted rows as a list of lists: ```[[val1,val2,...valk],...]```"
   ]
  },
  {
   "cell_type": "code",
   "execution_count": 235,
   "metadata": {},
   "outputs": [],
   "source": [
    "def parsing(table):\n",
    "#obtaining list of headers\n",
    "    header = table.find('thead')\n",
    "    headers = header.find_all('th')\n",
    "    headers = [header.text for header in headers]\n",
    "\n",
    "#obtaining list of rows \n",
    "    row = table.find('tbody')\n",
    "    rows = row.find_all('tr')\n",
    "    rows = [row.findChildren(recursive=False) for row in rows]\n",
    "    texts = []\n",
    "    row_list = []\n",
    "    for row in rows :\n",
    "        texts = []\n",
    "        for line in row:\n",
    "            text = line.text\n",
    "            texts.append(text)\n",
    "        row_list.append(texts)\n",
    "# merging headers and rows into the same list\n",
    "    tab = headers + row_list\n",
    "    return tab"
   ]
  },
  {
   "cell_type": "markdown",
   "metadata": {},
   "source": [
    "> **Ex. 7.2.6:** Now locate all tables from the page, using the `.find_all` method searching for the table tag name. Iterate through the table nodes and apply the function created for parsing html tables. Store each table in a dictionary using the table name as key. The name is found by accessing the id attribute of each table node, using dictionary-style syntax - i.e. `table_node['id']`."
   ]
  },
  {
   "cell_type": "code",
   "execution_count": 239,
   "metadata": {},
   "outputs": [],
   "source": [
    "# locating all tables\n",
    "tables = soup.find_all('table')\n",
    "\n",
    "# creating list of ids\n",
    "ids = [] \n",
    "for table in tables:\n",
    "    id = table['id']\n",
    "    ids.append(id)\n",
    "    \n",
    "# creating list of tables\n",
    "list_of_tables = [parsing(table) for table in tables]\n",
    "\n",
    "#creating dictionary from ids and tables\n",
    "dictionary = dict(zip(ids, list_of_tables))"
   ]
  },
  {
   "cell_type": "markdown",
   "metadata": {},
   "source": [
    "> **Ex. 7.2.7. (extra) :** Compare your results to the pandas implementation. pd.read_html"
   ]
  },
  {
   "cell_type": "code",
   "execution_count": 245,
   "metadata": {},
   "outputs": [
    {
     "data": {
      "text/plain": [
       "[      Eastern Conference   W   L   W/L%    GB   PS/G   PA/G   SRS\n",
       " 0       Toronto Raptors*  59  23  0.720     —  111.7  103.9  7.29\n",
       " 1        Boston Celtics*  55  27  0.671   4.0  104.0  100.4  3.23\n",
       " 2    Philadelphia 76ers*  52  30  0.634   7.0  109.8  105.3  4.30\n",
       " 3   Cleveland Cavaliers*  50  32  0.610   9.0  110.9  109.9  0.59\n",
       " 4        Indiana Pacers*  48  34  0.585  11.0  105.6  104.2  1.18\n",
       " 5            Miami Heat*  44  38  0.537  15.0  103.4  102.9  0.15\n",
       " 6       Milwaukee Bucks*  44  38  0.537  15.0  106.5  106.8 -0.45\n",
       " 7    Washington Wizards*  43  39  0.524  16.0  106.6  106.0  0.53\n",
       " 8        Detroit Pistons  39  43  0.476  20.0  103.8  103.9 -0.26\n",
       " 9      Charlotte Hornets  36  46  0.439  23.0  108.2  108.0  0.07\n",
       " 10       New York Knicks  29  53  0.354  30.0  104.5  108.0 -3.53\n",
       " 11         Brooklyn Nets  28  54  0.341  31.0  106.6  110.3 -3.67\n",
       " 12         Chicago Bulls  27  55  0.329  32.0  102.9  110.0 -6.84\n",
       " 13         Orlando Magic  25  57  0.305  34.0  103.4  108.2 -4.92\n",
       " 14         Atlanta Hawks  24  58  0.293  35.0  103.4  108.8 -5.30,\n",
       "          Western Conference   W   L   W/L%    GB   PS/G   PA/G   SRS\n",
       " 0          Houston Rockets*  65  17  0.793     —  112.4  103.9  8.21\n",
       " 1    Golden State Warriors*  58  24  0.707   7.0  113.5  107.5  5.79\n",
       " 2   Portland Trail Blazers*  49  33  0.598  16.0  105.6  103.0  2.60\n",
       " 3    Oklahoma City Thunder*  48  34  0.585  17.0  107.9  104.4  3.42\n",
       " 4                Utah Jazz*  48  34  0.585  17.0  104.1   99.8  4.47\n",
       " 5     New Orleans Pelicans*  48  34  0.585  17.0  111.7  110.4  1.48\n",
       " 6        San Antonio Spurs*  47  35  0.573  18.0  102.7   99.8  2.89\n",
       " 7   Minnesota Timberwolves*  47  35  0.573  18.0  109.5  107.3  2.35\n",
       " 8            Denver Nuggets  46  36  0.561  19.0  110.0  108.5  1.57\n",
       " 9      Los Angeles Clippers  42  40  0.512  23.0  109.0  109.0  0.15\n",
       " 10       Los Angeles Lakers  35  47  0.427  30.0  108.1  109.6 -1.44\n",
       " 11         Sacramento Kings  27  55  0.329  38.0   98.8  105.8 -6.60\n",
       " 12         Dallas Mavericks  24  58  0.293  41.0  102.3  105.4 -2.70\n",
       " 13        Memphis Grizzlies  22  60  0.268  43.0   99.3  105.5 -5.81\n",
       " 14             Phoenix Suns  21  61  0.256  44.0  103.9  113.3 -8.80,\n",
       "       Eastern Conference                   W                   L  \\\n",
       " 0      Atlantic Division   Atlantic Division   Atlantic Division   \n",
       " 1       Toronto Raptors*                  59                  23   \n",
       " 2        Boston Celtics*                  55                  27   \n",
       " 3    Philadelphia 76ers*                  52                  30   \n",
       " 4        New York Knicks                  29                  53   \n",
       " 5          Brooklyn Nets                  28                  54   \n",
       " 6       Central Division    Central Division    Central Division   \n",
       " 7   Cleveland Cavaliers*                  50                  32   \n",
       " 8        Indiana Pacers*                  48                  34   \n",
       " 9       Milwaukee Bucks*                  44                  38   \n",
       " 10       Detroit Pistons                  39                  43   \n",
       " 11         Chicago Bulls                  27                  55   \n",
       " 12    Southeast Division  Southeast Division  Southeast Division   \n",
       " 13           Miami Heat*                  44                  38   \n",
       " 14   Washington Wizards*                  43                  39   \n",
       " 15     Charlotte Hornets                  36                  46   \n",
       " 16         Orlando Magic                  25                  57   \n",
       " 17         Atlanta Hawks                  24                  58   \n",
       " \n",
       "                   W/L%                  GB                PS/G  \\\n",
       " 0    Atlantic Division   Atlantic Division   Atlantic Division   \n",
       " 1                 .720                   —               111.7   \n",
       " 2                 .671                 4.0               104.0   \n",
       " 3                 .634                 7.0               109.8   \n",
       " 4                 .354                30.0               104.5   \n",
       " 5                 .341                31.0               106.6   \n",
       " 6     Central Division    Central Division    Central Division   \n",
       " 7                 .610                   —               110.9   \n",
       " 8                 .585                 2.0               105.6   \n",
       " 9                 .537                 6.0               106.5   \n",
       " 10                .476                11.0               103.8   \n",
       " 11                .329                23.0               102.9   \n",
       " 12  Southeast Division  Southeast Division  Southeast Division   \n",
       " 13                .537                   —               103.4   \n",
       " 14                .524                 1.0               106.6   \n",
       " 15                .439                 8.0               108.2   \n",
       " 16                .305                19.0               103.4   \n",
       " 17                .293                20.0               103.4   \n",
       " \n",
       "                   PA/G                 SRS  \n",
       " 0    Atlantic Division   Atlantic Division  \n",
       " 1                103.9                7.29  \n",
       " 2                100.4                3.23  \n",
       " 3                105.3                4.30  \n",
       " 4                108.0               -3.53  \n",
       " 5                110.3               -3.67  \n",
       " 6     Central Division    Central Division  \n",
       " 7                109.9                0.59  \n",
       " 8                104.2                1.18  \n",
       " 9                106.8               -0.45  \n",
       " 10               103.9               -0.26  \n",
       " 11               110.0               -6.84  \n",
       " 12  Southeast Division  Southeast Division  \n",
       " 13               102.9                0.15  \n",
       " 14               106.0                0.53  \n",
       " 15               108.0                0.07  \n",
       " 16               108.2               -4.92  \n",
       " 17               108.8               -5.30  ,\n",
       "          Western Conference                   W                   L  \\\n",
       " 0        Northwest Division  Northwest Division  Northwest Division   \n",
       " 1   Portland Trail Blazers*                  49                  33   \n",
       " 2    Oklahoma City Thunder*                  48                  34   \n",
       " 3                Utah Jazz*                  48                  34   \n",
       " 4   Minnesota Timberwolves*                  47                  35   \n",
       " 5            Denver Nuggets                  46                  36   \n",
       " 6          Pacific Division    Pacific Division    Pacific Division   \n",
       " 7    Golden State Warriors*                  58                  24   \n",
       " 8      Los Angeles Clippers                  42                  40   \n",
       " 9        Los Angeles Lakers                  35                  47   \n",
       " 10         Sacramento Kings                  27                  55   \n",
       " 11             Phoenix Suns                  21                  61   \n",
       " 12       Southwest Division  Southwest Division  Southwest Division   \n",
       " 13         Houston Rockets*                  65                  17   \n",
       " 14    New Orleans Pelicans*                  48                  34   \n",
       " 15       San Antonio Spurs*                  47                  35   \n",
       " 16         Dallas Mavericks                  24                  58   \n",
       " 17        Memphis Grizzlies                  22                  60   \n",
       " \n",
       "                   W/L%                  GB                PS/G  \\\n",
       " 0   Northwest Division  Northwest Division  Northwest Division   \n",
       " 1                 .598                   —               105.6   \n",
       " 2                 .585                 1.0               107.9   \n",
       " 3                 .585                 1.0               104.1   \n",
       " 4                 .573                 2.0               109.5   \n",
       " 5                 .561                 3.0               110.0   \n",
       " 6     Pacific Division    Pacific Division    Pacific Division   \n",
       " 7                 .707                   —               113.5   \n",
       " 8                 .512                16.0               109.0   \n",
       " 9                 .427                23.0               108.1   \n",
       " 10                .329                31.0                98.8   \n",
       " 11                .256                37.0               103.9   \n",
       " 12  Southwest Division  Southwest Division  Southwest Division   \n",
       " 13                .793                   —               112.4   \n",
       " 14                .585                17.0               111.7   \n",
       " 15                .573                18.0               102.7   \n",
       " 16                .293                41.0               102.3   \n",
       " 17                .268                43.0                99.3   \n",
       " \n",
       "                   PA/G                 SRS  \n",
       " 0   Northwest Division  Northwest Division  \n",
       " 1                103.0                2.60  \n",
       " 2                104.4                3.42  \n",
       " 3                 99.8                4.47  \n",
       " 4                107.3                2.35  \n",
       " 5                108.5                1.57  \n",
       " 6     Pacific Division    Pacific Division  \n",
       " 7                107.5                5.79  \n",
       " 8                109.0                0.15  \n",
       " 9                109.6               -1.44  \n",
       " 10               105.8               -6.60  \n",
       " 11               113.3               -8.80  \n",
       " 12  Southwest Division  Southwest Division  \n",
       " 13               103.9                8.21  \n",
       " 14               110.4                1.48  \n",
       " 15                99.8                2.89  \n",
       " 16               105.4               -2.70  \n",
       " 17               105.5               -5.81  ]"
      ]
     },
     "execution_count": 245,
     "metadata": {},
     "output_type": "execute_result"
    }
   ],
   "source": [
    "import pandas as pd\n",
    "pd.read_html(url)"
   ]
  }
 ],
 "metadata": {
  "kernelspec": {
   "display_name": "Python 3",
   "language": "python",
   "name": "python3"
  },
  "language_info": {
   "codemirror_mode": {
    "name": "ipython",
    "version": 3
   },
   "file_extension": ".py",
   "mimetype": "text/x-python",
   "name": "python",
   "nbconvert_exporter": "python",
   "pygments_lexer": "ipython3",
   "version": "3.7.6"
  },
  "latex_envs": {
   "bibliofile": "biblio.bib",
   "cite_by": "apalike",
   "current_citInitial": 1,
   "eqLabelWithNumbers": true,
   "eqNumInitial": 0
  },
  "nav_menu": {},
  "toc": {
   "nav_menu": {
    "height": "87px",
    "width": "252px"
   },
   "navigate_menu": true,
   "number_sections": false,
   "sideBar": true,
   "threshold": 6,
   "toc_cell": false,
   "toc_section_display": "block",
   "toc_window_display": true
  }
 },
 "nbformat": 4,
 "nbformat_minor": 2
}
