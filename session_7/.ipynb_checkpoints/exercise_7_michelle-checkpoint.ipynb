{
 "cells": [
  {
   "cell_type": "markdown",
   "metadata": {},
   "source": [
    "> **Note:** In most sessions you will be solving exercises posed in a Jupyter notebook that looks like this one. Because you are cloning a Github repository that only we can push to, you should **NEVER EDIT** any of the files you pull from Github. Instead, what you should do, is either make a new notebook and write your solutions in there, or **make a copy of this notebook and save it somewhere else** on your computer, not inside the `sds` folder that you cloned, so you can write your answers in there. If you edit the notebook you pulled from Github, those edits (possible your solutions to the exercises) may be overwritten and lost the next time you pull from Github. This is important, so don't hesitate to ask if it is unclear."
   ]
  },
  {
   "cell_type": "code",
   "execution_count": 4,
   "metadata": {},
   "outputs": [],
   "source": [
    "import scraping_class\n",
    "logfile = 'log_exercise_7.txt' ## name your log file.\n",
    "connector = scraping_class.Connector(logfile)"
   ]
  },
  {
   "cell_type": "markdown",
   "metadata": {
    "ExecuteTime": {
     "end_time": "2017-08-23T15:30:03.634114Z",
     "start_time": "2017-08-23T15:30:03.629294Z"
    }
   },
   "source": [
    "# Exercise Set 7: Parsing and Information Extraction\n",
    "\n",
    "In this Exercise Set we shall develop our webscraping skills even further by practicing **parsing** and navigating html trees using BeautifoulSoup and furthermore train extracting information from raw text with no html tags to help, using regular expressions. \n",
    "\n",
    "But just as importantly you will get a chance to think about **data quality issues** and how to ensure reliability when curating your own webdata. "
   ]
  },
  {
   "cell_type": "markdown",
   "metadata": {},
   "source": [
    "## Exercise Section 7.1: Logging and data quality\n",
    "\n",
    "> **Ex. 7.1.1:** *Why is is it important to log processes in your data collection?*\n",
    "\n"
   ]
  },
  {
   "cell_type": "code",
   "execution_count": 2,
   "metadata": {},
   "outputs": [],
   "source": [
    "# [Answer to Ex. 7.1.1 here]"
   ]
  },
  {
   "cell_type": "markdown",
   "metadata": {},
   "source": [
    "> **Ex. 7.1.2:**\n",
    "*How does logging help with both ensuring and documenting the quality of your data?*\n"
   ]
  },
  {
   "cell_type": "code",
   "execution_count": 2,
   "metadata": {},
   "outputs": [],
   "source": [
    "# [Answer to Ex. 7.1.2 here]"
   ]
  },
  {
   "cell_type": "markdown",
   "metadata": {},
   "source": [
    "## Exercise Section 7.2: Parsing a Table from HTML using BeautifulSoup.\n",
    "\n",
    "Yesterday I showed you a neat little prepackaged function in pandas that did all the work. However today we should learn the mechanics of it. *(It is not just for educational purposes, sometimes the package will not do exactly as you want.)*\n",
    "\n",
    "We hit the Basketball stats page from yesterday again: https://www.basketball-reference.com/leagues/NBA_2018.html.\n"
   ]
  },
  {
   "cell_type": "markdown",
   "metadata": {},
   "source": [
    "> **Ex. 7.2.1:** Here we practice simply locating the table node of interest using the `find` method build into BeautifoulSoup. But first we have to fetch the HTML using the `requests` module. Parse the tree using `BeautifulSoup`. And then use the **>Inspector<** tool (* right click on the table < press inspect element *) in your browser to see how to locate the Eastern Conference table node - i.e. the *tag* name of the node, and maybe some defining *attributes*."
   ]
  },
  {
   "cell_type": "code",
   "execution_count": 56,
   "metadata": {},
   "outputs": [
    {
     "name": "stdout",
     "output_type": "stream",
     "text": [
      "<table class=\"suppress_all sortable stats_table\" data-cols-to-freeze=\"1\" id=\"confs_standings_E\"><caption>Conference Standings Table</caption>\n",
      "<colgroup><col/><col/><col/><col/><col/><col/><col/><col/></colgroup>\n",
      "<thead>\n",
      "<tr>\n",
      "<th aria-label=\"Eastern Conference\" class=\"poptip sort_default_asc left\" data-stat=\"team_name\" scope=\"col\">Eastern Conference</th>\n",
      "<th aria-label=\"Wins\" class=\"poptip right\" data-stat=\"wins\" data-tip=\"Wins\" scope=\"col\">W</th>\n",
      "<th aria-label=\"Losses\" class=\"poptip right\" data-stat=\"losses\" data-tip=\"Losses\" scope=\"col\">L</th>\n",
      "<th aria-label=\"Win-Loss Percentage\" class=\"poptip right\" data-stat=\"win_loss_pct\" data-tip=\"Win-Loss Percentage\" scope=\"col\">W/L%</th>\n",
      "<th aria-label=\"Games Behind\" class=\"poptip sort_default_asc right\" data-stat=\"gb\" data-tip=\"Games Behind\" scope=\"col\">GB</th>\n",
      "<th aria-label=\"Points Per Game\" class=\"poptip right\" data-stat=\"pts_per_g\" data-tip=\"Points Per Game\" scope=\"col\">PS/G</th>\n",
      "<th aria-label=\"Opponent Points Per Game\" class=\"poptip right\" data-stat=\"opp_pts_per_g\" data-tip=\"Opponent Points Per Game\" scope=\"col\">PA/G</th>\n",
      "<th aria-label=\"Simple Rating System\" class=\"poptip right\" data-stat=\"srs\" data-tip=\"Simple Rating System; a team rating that takes into account average point differential and strength of schedule. The rating is denominated in points above/below average, where zero is average.\" scope=\"col\">SRS</th>\n",
      "</tr>\n",
      "</thead>\n",
      "<tbody>\n",
      "<tr class=\"full_table\"><th class=\"left\" data-stat=\"team_name\" scope=\"row\"><a href=\"/teams/TOR/2018.html\">Toronto Raptors</a>*</th><td class=\"right\" data-stat=\"wins\">59</td><td class=\"right\" data-stat=\"losses\">23</td><td class=\"right\" data-stat=\"win_loss_pct\">.720</td><td class=\"right\" data-stat=\"gb\">—</td><td class=\"right\" data-stat=\"pts_per_g\">111.7</td><td class=\"right\" data-stat=\"opp_pts_per_g\">103.9</td><td class=\"right\" data-stat=\"srs\">7.29</td></tr>\n",
      "<tr class=\"full_table\"><th class=\"left\" data-stat=\"team_name\" scope=\"row\"><a href=\"/teams/BOS/2018.html\">Boston Celtics</a>*</th><td class=\"right\" data-stat=\"wins\">55</td><td class=\"right\" data-stat=\"losses\">27</td><td class=\"right\" data-stat=\"win_loss_pct\">.671</td><td class=\"right\" data-stat=\"gb\">4.0</td><td class=\"right\" data-stat=\"pts_per_g\">104.0</td><td class=\"right\" data-stat=\"opp_pts_per_g\">100.4</td><td class=\"right\" data-stat=\"srs\">3.23</td></tr>\n",
      "<tr class=\"full_table\"><th class=\"left\" data-stat=\"team_name\" scope=\"row\"><a href=\"/teams/PHI/2018.html\">Philadelphia 76ers</a>*</th><td class=\"right\" data-stat=\"wins\">52</td><td class=\"right\" data-stat=\"losses\">30</td><td class=\"right\" data-stat=\"win_loss_pct\">.634</td><td class=\"right\" data-stat=\"gb\">7.0</td><td class=\"right\" data-stat=\"pts_per_g\">109.8</td><td class=\"right\" data-stat=\"opp_pts_per_g\">105.3</td><td class=\"right\" data-stat=\"srs\">4.30</td></tr>\n",
      "<tr class=\"full_table\"><th class=\"left\" data-stat=\"team_name\" scope=\"row\"><a href=\"/teams/CLE/2018.html\">Cleveland Cavaliers</a>*</th><td class=\"right\" data-stat=\"wins\">50</td><td class=\"right\" data-stat=\"losses\">32</td><td class=\"right\" data-stat=\"win_loss_pct\">.610</td><td class=\"right\" data-stat=\"gb\">9.0</td><td class=\"right\" data-stat=\"pts_per_g\">110.9</td><td class=\"right\" data-stat=\"opp_pts_per_g\">109.9</td><td class=\"right\" data-stat=\"srs\">0.59</td></tr>\n",
      "<tr class=\"full_table\"><th class=\"left\" data-stat=\"team_name\" scope=\"row\"><a href=\"/teams/IND/2018.html\">Indiana Pacers</a>*</th><td class=\"right\" data-stat=\"wins\">48</td><td class=\"right\" data-stat=\"losses\">34</td><td class=\"right\" data-stat=\"win_loss_pct\">.585</td><td class=\"right\" data-stat=\"gb\">11.0</td><td class=\"right\" data-stat=\"pts_per_g\">105.6</td><td class=\"right\" data-stat=\"opp_pts_per_g\">104.2</td><td class=\"right\" data-stat=\"srs\">1.18</td></tr>\n",
      "<tr class=\"full_table\"><th class=\"left\" data-stat=\"team_name\" scope=\"row\"><a href=\"/teams/MIA/2018.html\">Miami Heat</a>*</th><td class=\"right\" data-stat=\"wins\">44</td><td class=\"right\" data-stat=\"losses\">38</td><td class=\"right\" data-stat=\"win_loss_pct\">.537</td><td class=\"right\" data-stat=\"gb\">15.0</td><td class=\"right\" data-stat=\"pts_per_g\">103.4</td><td class=\"right\" data-stat=\"opp_pts_per_g\">102.9</td><td class=\"right\" data-stat=\"srs\">0.15</td></tr>\n",
      "<tr class=\"full_table\"><th class=\"left\" data-stat=\"team_name\" scope=\"row\"><a href=\"/teams/MIL/2018.html\">Milwaukee Bucks</a>*</th><td class=\"right\" data-stat=\"wins\">44</td><td class=\"right\" data-stat=\"losses\">38</td><td class=\"right\" data-stat=\"win_loss_pct\">.537</td><td class=\"right\" data-stat=\"gb\">15.0</td><td class=\"right\" data-stat=\"pts_per_g\">106.5</td><td class=\"right\" data-stat=\"opp_pts_per_g\">106.8</td><td class=\"right\" data-stat=\"srs\">-0.45</td></tr>\n",
      "<tr class=\"full_table\"><th class=\"left\" data-stat=\"team_name\" scope=\"row\"><a href=\"/teams/WAS/2018.html\">Washington Wizards</a>*</th><td class=\"right\" data-stat=\"wins\">43</td><td class=\"right\" data-stat=\"losses\">39</td><td class=\"right\" data-stat=\"win_loss_pct\">.524</td><td class=\"right\" data-stat=\"gb\">16.0</td><td class=\"right\" data-stat=\"pts_per_g\">106.6</td><td class=\"right\" data-stat=\"opp_pts_per_g\">106.0</td><td class=\"right\" data-stat=\"srs\">0.53</td></tr>\n",
      "<tr class=\"full_table\"><th class=\"left\" data-stat=\"team_name\" scope=\"row\"><a href=\"/teams/DET/2018.html\">Detroit Pistons</a></th><td class=\"right\" data-stat=\"wins\">39</td><td class=\"right\" data-stat=\"losses\">43</td><td class=\"right\" data-stat=\"win_loss_pct\">.476</td><td class=\"right\" data-stat=\"gb\">20.0</td><td class=\"right\" data-stat=\"pts_per_g\">103.8</td><td class=\"right\" data-stat=\"opp_pts_per_g\">103.9</td><td class=\"right\" data-stat=\"srs\">-0.26</td></tr>\n",
      "<tr class=\"full_table\"><th class=\"left\" data-stat=\"team_name\" scope=\"row\"><a href=\"/teams/CHO/2018.html\">Charlotte Hornets</a></th><td class=\"right\" data-stat=\"wins\">36</td><td class=\"right\" data-stat=\"losses\">46</td><td class=\"right\" data-stat=\"win_loss_pct\">.439</td><td class=\"right\" data-stat=\"gb\">23.0</td><td class=\"right\" data-stat=\"pts_per_g\">108.2</td><td class=\"right\" data-stat=\"opp_pts_per_g\">108.0</td><td class=\"right\" data-stat=\"srs\">0.07</td></tr>\n",
      "<tr class=\"full_table\"><th class=\"left\" data-stat=\"team_name\" scope=\"row\"><a href=\"/teams/NYK/2018.html\">New York Knicks</a></th><td class=\"right\" data-stat=\"wins\">29</td><td class=\"right\" data-stat=\"losses\">53</td><td class=\"right\" data-stat=\"win_loss_pct\">.354</td><td class=\"right\" data-stat=\"gb\">30.0</td><td class=\"right\" data-stat=\"pts_per_g\">104.5</td><td class=\"right\" data-stat=\"opp_pts_per_g\">108.0</td><td class=\"right\" data-stat=\"srs\">-3.53</td></tr>\n",
      "<tr class=\"full_table\"><th class=\"left\" data-stat=\"team_name\" scope=\"row\"><a href=\"/teams/BRK/2018.html\">Brooklyn Nets</a></th><td class=\"right\" data-stat=\"wins\">28</td><td class=\"right\" data-stat=\"losses\">54</td><td class=\"right\" data-stat=\"win_loss_pct\">.341</td><td class=\"right\" data-stat=\"gb\">31.0</td><td class=\"right\" data-stat=\"pts_per_g\">106.6</td><td class=\"right\" data-stat=\"opp_pts_per_g\">110.3</td><td class=\"right\" data-stat=\"srs\">-3.67</td></tr>\n",
      "<tr class=\"full_table\"><th class=\"left\" data-stat=\"team_name\" scope=\"row\"><a href=\"/teams/CHI/2018.html\">Chicago Bulls</a></th><td class=\"right\" data-stat=\"wins\">27</td><td class=\"right\" data-stat=\"losses\">55</td><td class=\"right\" data-stat=\"win_loss_pct\">.329</td><td class=\"right\" data-stat=\"gb\">32.0</td><td class=\"right\" data-stat=\"pts_per_g\">102.9</td><td class=\"right\" data-stat=\"opp_pts_per_g\">110.0</td><td class=\"right\" data-stat=\"srs\">-6.84</td></tr>\n",
      "<tr class=\"full_table\"><th class=\"left\" data-stat=\"team_name\" scope=\"row\"><a href=\"/teams/ORL/2018.html\">Orlando Magic</a></th><td class=\"right\" data-stat=\"wins\">25</td><td class=\"right\" data-stat=\"losses\">57</td><td class=\"right\" data-stat=\"win_loss_pct\">.305</td><td class=\"right\" data-stat=\"gb\">34.0</td><td class=\"right\" data-stat=\"pts_per_g\">103.4</td><td class=\"right\" data-stat=\"opp_pts_per_g\">108.2</td><td class=\"right\" data-stat=\"srs\">-4.92</td></tr>\n",
      "<tr class=\"full_table\"><th class=\"left\" data-stat=\"team_name\" scope=\"row\"><a href=\"/teams/ATL/2018.html\">Atlanta Hawks</a></th><td class=\"right\" data-stat=\"wins\">24</td><td class=\"right\" data-stat=\"losses\">58</td><td class=\"right\" data-stat=\"win_loss_pct\">.293</td><td class=\"right\" data-stat=\"gb\">35.0</td><td class=\"right\" data-stat=\"pts_per_g\">103.4</td><td class=\"right\" data-stat=\"opp_pts_per_g\">108.8</td><td class=\"right\" data-stat=\"srs\">-5.30</td></tr>\n",
      "</tbody></table>\n"
     ]
    }
   ],
   "source": [
    "import requests\n",
    "from bs4 import BeautifulSoup\n",
    "\n",
    "#define url and #fetch the HTML using the requests module\n",
    "url = 'https://www.basketball-reference.com/leagues/NBA_2018.html'\n",
    "response = requests.get(url)  \n",
    "html = response.text   \n",
    "\n",
    "#Parse the tree using BeautifulSoup\n",
    "from bs4 import BeautifulSoup\n",
    "soup = BeautifulSoup(html,'lxml') # parse the raw html using BeautifoulSoup\n",
    "#soup = BeautifulSoup(response[0].text,'lxml') # parse the HTML\n",
    "\n",
    "#Eastern Conference starts with: table class=\"suppress_all sortable stats_table\" id=\"confs_standings_E\"\n",
    "eastern_conf = soup.find('table',{'id':'confs_standings_E'}) \n",
    "print(eastern_conf)"
   ]
  },
  {
   "cell_type": "markdown",
   "metadata": {},
   "source": [
    "You have located the table should now build a function that starts at a \"table node\" and parses the information, and outputs a pandas DataFrame. \n",
    "\n",
    "Inspect the element either within the notebook or through the **>Inspector<** tool and start to see how a table is written in html. Which tag names can be used to locate rows? How will you iterate through columns. Were is the header located?\n",
    "\n",
    "> **Ex. 7.1.2:** First you parse the header which can be found in the canonical tag name: thead. \n",
    "Next you use the `find_all` method to search for the tag, and iterate through each of the elements extracting the text, using the `.text` method builtin to the the node object. Store the header values in a list container. \n",
    "\n",
    "> **Ex. 7.1.3:** Next you locate the rows, using the canonical tag name: tbody. And from here you search for all rows tags. Fiugre out the tag name yourself, inspecting the tbody node in python or using the **Inspector**. \n",
    "\n",
    "> **Ex. 7.1.4:** Next run through all the rows and extract each value, similar to how you extracted the header. However here is a slight variation: Since each value node can have a different tag depending on whether it is a digit or a string, you should use the `.children` method instead of the `.find_all` - (or write compile a regex that matches both the td tag and the th tag.) \n",
    ">Once the value nodes of each row has been located using the `.children` method you should extract the value. Store the extracted rows as a list of lists: ```[[val1,val2,...valk],...]```"
   ]
  },
  {
   "cell_type": "code",
   "execution_count": 36,
   "metadata": {},
   "outputs": [
    {
     "name": "stdout",
     "output_type": "stream",
     "text": [
      "[<a href=\"/teams/TOR/2018.html\">Toronto Raptors</a>, <a href=\"/teams/BOS/2018.html\">Boston Celtics</a>, <a href=\"/teams/PHI/2018.html\">Philadelphia 76ers</a>, <a href=\"/teams/CLE/2018.html\">Cleveland Cavaliers</a>, <a href=\"/teams/IND/2018.html\">Indiana Pacers</a>, <a href=\"/teams/MIA/2018.html\">Miami Heat</a>, <a href=\"/teams/MIL/2018.html\">Milwaukee Bucks</a>, <a href=\"/teams/WAS/2018.html\">Washington Wizards</a>, <a href=\"/teams/DET/2018.html\">Detroit Pistons</a>, <a href=\"/teams/CHO/2018.html\">Charlotte Hornets</a>, <a href=\"/teams/NYK/2018.html\">New York Knicks</a>, <a href=\"/teams/BRK/2018.html\">Brooklyn Nets</a>, <a href=\"/teams/CHI/2018.html\">Chicago Bulls</a>, <a href=\"/teams/ORL/2018.html\">Orlando Magic</a>, <a href=\"/teams/ATL/2018.html\">Atlanta Hawks</a>]\n"
     ]
    }
   ],
   "source": []
  },
  {
   "cell_type": "code",
   "execution_count": null,
   "metadata": {},
   "outputs": [],
   "source": [
    " # Ex. 7.1.2: Store the header values in a list container.\n",
    "# I use the eastern.conf html and not the whole soup html\n",
    "header_find = eastern_conf.find('thead') #find all the headers \n",
    "headers = header_find.find_all('th')\n",
    "#print(headers)\n",
    "\n",
    "# create empty list for header values\n",
    "header_list = [] \n",
    "\n",
    "#iterate through and append to list\n",
    "for header in headers: \n",
    "    if header.has_attr('aria-label'):\n",
    "        header_list.append(header['aria-label'])\n",
    "#print(header_list)\n",
    "# how to do it with text??'''"
   ]
  },
  {
   "cell_type": "code",
   "execution_count": 58,
   "metadata": {},
   "outputs": [],
   "source": [
    "#Ex. 7.1.3: And from here you search for all rows tags.\n",
    "row_find = eastern_conf.find('tbody') \n",
    "#all rows start with: <tr class=\"full_table\">\n",
    "rows = row_find.find_all('tr',{'class':'full_table'})\n",
    "#print(rows)\n"
   ]
  },
  {
   "cell_type": "code",
   "execution_count": 59,
   "metadata": {},
   "outputs": [],
   "source": [
    "#Ex 7.1.4: run through all the rows and extract each value, \n",
    "\n",
    "# each row value has different tags depending on their type (digit or string)\n",
    "# function to check what tag it is and either convert to float or not. \n",
    "import numpy as np\n",
    "def convert_value_type(value_node):\n",
    "    if value_node.name == 'th':\n",
    "        return value_node.text\n",
    "    else: # assume node is td:\n",
    "        try: \n",
    "            return float(value_node.text)\n",
    "        except:\n",
    "            return np.nan # assume there is no value if it fails. \n",
    "data = []\n",
    "for row_node in rows:\n",
    "    row = []\n",
    "    for child in row_node.children:\n",
    "        row.append(convert_value_type(child))\n",
    "    data.append(row)  \n",
    "\n",
    "#print(data)"
   ]
  },
  {
   "cell_type": "markdown",
   "metadata": {},
   "source": [
    "> **Ex. 7.2.6:** Now locate all tables from the page, using the `.find_all` method searching for the table tag name. Iterate through the table nodes and apply the function created for parsing html tables. Store each table in a dictionary using the table name as key. The name is found by accessing the id attribute of each table node, using dictionary-style syntax - i.e. `table_node['id']`."
   ]
  },
  {
   "cell_type": "code",
   "execution_count": 67,
   "metadata": {},
   "outputs": [],
   "source": [
    "import pandas as pd\n",
    "\n",
    "#from solution:\n",
    "#df = pd.DataFrame(data,columns=header)\n",
    "def parse_html_table(table_node):\n",
    "    # parse header\n",
    "    header = table_node.thead.find_all('th') # locate each column name using the `th` tag, which entail a string .\n",
    "    # extract the label you want. brevity use .text, for a more informative get teh aria-label attribute\n",
    "    header = [col['aria-label'] for col in header]\n",
    "    # parse rows: the canonical tbody locates the data body.\n",
    "    body = table_node.tbody\n",
    "    # rows are found using the \"tr\" tag\n",
    "    rows = body.find_all('tr')\n",
    "    # each row value has different tags depending on their type (digit or string)\n",
    "    # function to check what tag it is and either convert to float or not. \n",
    "    '''import numpy as np\n",
    "    def convert_value_type(value_node):\n",
    "        if value_node.name == 'th':\n",
    "            return value_node.text\n",
    "        else: # assume node is td:\n",
    "            try: \n",
    "                return float(value_node.text)\n",
    "            except:\n",
    "                return np.nan # assume there is no value if it fails. \n",
    "    data = []\n",
    "    for row_node in rows:\n",
    "        row = []\n",
    "        for child in row_node.children:\n",
    "            row.append(convert_value_type(child))\n",
    "        data.append(row)\n",
    "    df = pd.DataFrame(data,columns=header)\n",
    "    return df\n",
    "\n",
    "df = parse_html_table(table_node)\n",
    "df.head()'''"
   ]
  },
  {
   "cell_type": "code",
   "execution_count": 69,
   "metadata": {},
   "outputs": [
    {
     "data": {
      "text/plain": [
       "{'confs_standings_E': None,\n",
       " 'confs_standings_W': None,\n",
       " 'divs_standings_E': None,\n",
       " 'divs_standings_W': None}"
      ]
     },
     "execution_count": 69,
     "metadata": {},
     "output_type": "execute_result"
    }
   ],
   "source": [
    "all_tables = soup.find_all('table') \n",
    "\n",
    "dicts = {}\n",
    "\n",
    "for table_node in all_tables:\n",
    "    name = table_node['id'] # access the id attribute. \n",
    "    table = parse_html_table(table_node) # apply parse_table function\n",
    "    dicts[name] = table # store table in the dictionary\n",
    "\n",
    "\n",
    "dicts\n"
   ]
  },
  {
   "cell_type": "markdown",
   "metadata": {},
   "source": [
    "> **Ex. 7.2.7. (extra) :** Compare your results to the pandas implementation. pd.read_html"
   ]
  }
 ],
 "metadata": {
  "kernelspec": {
   "display_name": "Python 3",
   "language": "python",
   "name": "python3"
  },
  "language_info": {
   "codemirror_mode": {
    "name": "ipython",
    "version": 3
   },
   "file_extension": ".py",
   "mimetype": "text/x-python",
   "name": "python",
   "nbconvert_exporter": "python",
   "pygments_lexer": "ipython3",
   "version": "3.8.3"
  },
  "latex_envs": {
   "bibliofile": "biblio.bib",
   "cite_by": "apalike",
   "current_citInitial": 1,
   "eqLabelWithNumbers": true,
   "eqNumInitial": 0
  },
  "nav_menu": {},
  "toc": {
   "nav_menu": {
    "height": "87px",
    "width": "252px"
   },
   "navigate_menu": true,
   "number_sections": false,
   "sideBar": true,
   "threshold": 6,
   "toc_cell": false,
   "toc_section_display": "block",
   "toc_window_display": true
  }
 },
 "nbformat": 4,
 "nbformat_minor": 2
}
