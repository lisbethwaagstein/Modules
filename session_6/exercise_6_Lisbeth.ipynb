{
 "cells": [
  {
   "cell_type": "markdown",
   "metadata": {},
   "source": [
    "> **Note:** In most sessions you will be solving exercises posed in a Jupyter notebook that looks like this one. Because you are cloning a Github repository that only we can push to, you should **NEVER EDIT** any of the files you pull from Github. Instead, what you should do, is either make a new notebook and write your solutions in there, or **make a copy of this notebook and save it somewhere else** on your computer, not inside the `sds` folder that you cloned, so you can write your answers in there. If you edit the notebook you pulled from Github, those edits (possible your solutions to the exercises) may be overwritten and lost the next time you pull from Github. This is important, so don't hesitate to ask if it is unclear."
   ]
  },
  {
   "cell_type": "markdown",
   "metadata": {},
   "source": [
    "## Use Connector class for accessing the internet\n",
    "Even if logging is not important for the below exercises, get in the habit of using this class for connecting to the internet, to practice logging your activity. This will be expected in the final exam.\n",
    "\n",
    "You should run `pip install scraping_class` to install the module to be used."
   ]
  },
  {
   "cell_type": "code",
   "execution_count": 3,
   "metadata": {},
   "outputs": [],
   "source": [
    "import requests\n",
    "from bs4 import BeautifulSoup\n",
    "import re\n",
    "import selenium\n",
    "import time"
   ]
  },
  {
   "cell_type": "code",
   "execution_count": 4,
   "metadata": {},
   "outputs": [],
   "source": [
    "import scraping_class\n",
    "logfile = 'log_lisbeth.csv'## name your log file.\n",
    "connector = scraping_class.Connector(logfile)\n"
   ]
  },
  {
   "cell_type": "markdown",
   "metadata": {
    "ExecuteTime": {
     "end_time": "2017-08-23T15:30:03.634114Z",
     "start_time": "2017-08-23T15:30:03.629294Z"
    }
   },
   "source": [
    "# Exercise Set 6: Introduction to Web Scraping\n",
    "\n",
    "In this Exercise Set we shall practice our webscraping skills utiilizing only basic python.  \n",
    "We shall cover variations between static and dynamic pages and build. "
   ]
  },
  {
   "cell_type": "markdown",
   "metadata": {},
   "source": [
    "## Exercise Section 6.1: Scraping Jobnet.dk\n",
    "\n",
    "This exercise you get to practice locating the request that the JavaScript sends to get the job data that it builds the joblistings from. You should use the **>Network Monitor<** tool in your browser.\n",
    "\n",
    "Furthermore you practice spotting how the pagination is done, without clicking on the next page button, but instead changing a small parameter in the URL."
   ]
  },
  {
   "cell_type": "markdown",
   "metadata": {},
   "source": [
    "> **Ex. 6.1.1:** Go to  www.jobnet.dk and investigate the page. Figure our waht url you need to scrape to collect jobposting data. Sometimes this can be hard and requires you to inspect the page and look in the **>Network Monitor<** by filtering by XHR files.\n",
    "\n",
    "> **Ex. 6.1.2.:** Use the `request` module to collect the first 20 results and unpack the relevant `json` data into a `pandas` DataFrame.\n",
    "\n",
    "> **Ex. 6.1.3.:** Store the 'TotalResultCount' value for later use."
   ]
  },
  {
   "cell_type": "code",
   "execution_count": 78,
   "metadata": {
    "scrolled": true
   },
   "outputs": [],
   "source": [
    "import requests\n",
    "import pandas as pd"
   ]
  },
  {
   "cell_type": "code",
   "execution_count": 79,
   "metadata": {},
   "outputs": [],
   "source": [
    "url = 'https://job.jobnet.dk/CV/FindWork/Search'\n",
    "response = requests.get(url)\n",
    "jobs = response.json()\n",
    "jobs = pd.DataFrame(response.json()['JobPositionPostings'])\n",
    "TotalResultCount = response.json()['TotalResultCount']"
   ]
  },
  {
   "cell_type": "markdown",
   "metadata": {},
   "source": [
    "> **Ex. 6.1.4:** This exercise is about paging the results. We need to understand the websites pagination scheme. \n",
    "\n",
    "> Now scroll down the webpage and press the next page button. See how the parameters of the url changes as you turn the pages.\n",
    "\n",
    "> **Ex. 6.1.5:** Design a`for` loop using the `range` function that changes this paging parameter in the URL. Use the TotalResultCount parameter from before to define the limits of the range function. Store these urls in a container. \n",
    "\n",
    ">**extra** Change the SortValue parameter from BestMatch to CreationDate, to make the sorting amendable to updating results daily.\n",
    "\n",
    "*(HINT: See that the parameter is an offset and that this relates to the number of results pr. call made.)*"
   ]
  },
  {
   "cell_type": "code",
   "execution_count": 97,
   "metadata": {},
   "outputs": [],
   "source": [
    "TotalResultCount = int(TotalResultCount) # converting TotalResultCount to interger so that it can be used in range\n",
    "\n",
    "def link_page(n): # defining a function that creates a link for a given page number\n",
    "    link =  f'https://job.jobnet.dk/CV/FindWork/Search?Offset={n}&SortValue=BestMatch'\n",
    "    return link\n",
    "\n",
    "\n",
    "links = [link_page(n) for n in range(0,TotalResultCount,20)] #storing links for all the pages"
   ]
  },
  {
   "cell_type": "markdown",
   "metadata": {},
   "source": [
    "> **Ex.6.1.6:** Pick 20 random links using the `random.sample()` function and collect them using the `Connector` class. Also use the `time.sleep()` function to limit the rate of your calls. Make sure to save the links already collected in a `set()` container to avoid having to reload links already collected. ***extra***: monitor the time left to completing the loop by using `tqdm.tqdm()` function.\n",
    "\n",
    "> **Ex.6.1.7:** Load all the results into a DataFrame."
   ]
  },
  {
   "cell_type": "code",
   "execution_count": 100,
   "metadata": {},
   "outputs": [
    {
     "name": "stderr",
     "output_type": "stream",
     "text": [
      "100%|██████████████████████████████████████████████████████████████████████████████████| 20/20 [00:29<00:00,  1.50s/it]\n"
     ]
    },
    {
     "data": {
      "text/html": [
       "<div>\n",
       "<style scoped>\n",
       "    .dataframe tbody tr th:only-of-type {\n",
       "        vertical-align: middle;\n",
       "    }\n",
       "\n",
       "    .dataframe tbody tr th {\n",
       "        vertical-align: top;\n",
       "    }\n",
       "\n",
       "    .dataframe thead th {\n",
       "        text-align: right;\n",
       "    }\n",
       "</style>\n",
       "<table border=\"1\" class=\"dataframe\">\n",
       "  <thead>\n",
       "    <tr style=\"text-align: right;\">\n",
       "      <th></th>\n",
       "      <th>AutomatchType</th>\n",
       "      <th>Abroad</th>\n",
       "      <th>Weight</th>\n",
       "      <th>Title</th>\n",
       "      <th>JobHeadline</th>\n",
       "      <th>Presentation</th>\n",
       "      <th>HiringOrgName</th>\n",
       "      <th>WorkPlaceAddress</th>\n",
       "      <th>WorkPlacePostalCode</th>\n",
       "      <th>WorkPlaceCity</th>\n",
       "      <th>...</th>\n",
       "      <th>HiringOrgCVR</th>\n",
       "      <th>UserLoggedIn</th>\n",
       "      <th>AnonymousEmployer</th>\n",
       "      <th>ShareUrl</th>\n",
       "      <th>DetailsUrl</th>\n",
       "      <th>JobLogUrl</th>\n",
       "      <th>HasLocationValues</th>\n",
       "      <th>ID</th>\n",
       "      <th>Latitude</th>\n",
       "      <th>Longitude</th>\n",
       "    </tr>\n",
       "  </thead>\n",
       "  <tbody>\n",
       "    <tr>\n",
       "      <th>194</th>\n",
       "      <td>0</td>\n",
       "      <td>False</td>\n",
       "      <td>1.0</td>\n",
       "      <td>Pladsansvarlig - reparatør</td>\n",
       "      <td>Pladsansvarlig - reparatør</td>\n",
       "      <td></td>\n",
       "      <td>ALLROUND Byg A/S</td>\n",
       "      <td>Hans Egedes Vej 20</td>\n",
       "      <td>5210</td>\n",
       "      <td>Odense NV</td>\n",
       "      <td>...</td>\n",
       "      <td>27379869</td>\n",
       "      <td>False</td>\n",
       "      <td>False</td>\n",
       "      <td>https://job.jobnet.dk/CV/FindWork/DetailsSocia...</td>\n",
       "      <td>https://job.jobnet.dk/CV/FindWork/Details/5189407</td>\n",
       "      <td>https://job.jobnet.dk/CV/FindWork/Details/5189407</td>\n",
       "      <td>True</td>\n",
       "      <td>5189407</td>\n",
       "      <td>55.4178</td>\n",
       "      <td>10.3424</td>\n",
       "    </tr>\n",
       "    <tr>\n",
       "      <th>293</th>\n",
       "      <td>0</td>\n",
       "      <td>False</td>\n",
       "      <td>1.0</td>\n",
       "      <td>Faglig pædagogisk leder søges til Femkanten.</td>\n",
       "      <td>Faglig pædagogisk leder søges til Femkanten.</td>\n",
       "      <td>&lt;p&gt;Faglig pædagogisk leder søges til Femkanten...</td>\n",
       "      <td>Ishøj Kommune</td>\n",
       "      <td>Strandgården 17 B</td>\n",
       "      <td>2635</td>\n",
       "      <td>Ishøj</td>\n",
       "      <td>...</td>\n",
       "      <td>11931316</td>\n",
       "      <td>False</td>\n",
       "      <td>False</td>\n",
       "      <td>https://job.jobnet.dk/CV/FindWork/DetailsSocia...</td>\n",
       "      <td>https://job.jobnet.dk/CV/FindWork/Details/5174390</td>\n",
       "      <td>https://job.jobnet.dk/CV/FindWork/Details/5174390</td>\n",
       "      <td>True</td>\n",
       "      <td>5174390</td>\n",
       "      <td>55.5878</td>\n",
       "      <td>12.3948</td>\n",
       "    </tr>\n",
       "    <tr>\n",
       "      <th>389</th>\n",
       "      <td>0</td>\n",
       "      <td>False</td>\n",
       "      <td>1.0</td>\n",
       "      <td>tjener</td>\n",
       "      <td>tjener</td>\n",
       "      <td></td>\n",
       "      <td>Highway 69 ApS</td>\n",
       "      <td>Frederikshavnsvej 69</td>\n",
       "      <td>9300</td>\n",
       "      <td>Sæby</td>\n",
       "      <td>...</td>\n",
       "      <td>40595643</td>\n",
       "      <td>False</td>\n",
       "      <td>False</td>\n",
       "      <td>https://job.jobnet.dk/CV/FindWork/DetailsSocia...</td>\n",
       "      <td>https://job.jobnet.dk/CV/FindWork/Details/5185661</td>\n",
       "      <td>https://job.jobnet.dk/CV/FindWork/Details/5185661</td>\n",
       "      <td>True</td>\n",
       "      <td>5185661</td>\n",
       "      <td>57.3439</td>\n",
       "      <td>10.5141</td>\n",
       "    </tr>\n",
       "    <tr>\n",
       "      <th>335</th>\n",
       "      <td>0</td>\n",
       "      <td>False</td>\n",
       "      <td>1.0</td>\n",
       "      <td>Sygeplejerske til stort akuthus med mange fagl...</td>\n",
       "      <td>Sygeplejerske til stort akuthus med mange fagl...</td>\n",
       "      <td>Du bliver en del af akuthuset på Psykiatrisk C...</td>\n",
       "      <td>Psykiatrisk Center Ballerup</td>\n",
       "      <td>Maglevænget 2</td>\n",
       "      <td>2750</td>\n",
       "      <td>Ballerup</td>\n",
       "      <td>...</td>\n",
       "      <td>29190623</td>\n",
       "      <td>False</td>\n",
       "      <td>False</td>\n",
       "      <td>https://job.jobnet.dk/CV/FindWork/DetailsSocia...</td>\n",
       "      <td>https://job.jobnet.dk/CV/FindWork/Details/5177384</td>\n",
       "      <td>https://job.jobnet.dk/CV/FindWork/Details/5177384</td>\n",
       "      <td>True</td>\n",
       "      <td>5177384</td>\n",
       "      <td>55.7207</td>\n",
       "      <td>12.3589</td>\n",
       "    </tr>\n",
       "    <tr>\n",
       "      <th>52</th>\n",
       "      <td>0</td>\n",
       "      <td>False</td>\n",
       "      <td>1.0</td>\n",
       "      <td>Teamleder</td>\n",
       "      <td>Norsktalende salgs- og kunderådgiver til Billi...</td>\n",
       "      <td>Er du norsktalende og brenner for godt salg og...</td>\n",
       "      <td>Brødrene A. &amp; O. Johansen A/S</td>\n",
       "      <td>Rørvang 3</td>\n",
       "      <td>2620</td>\n",
       "      <td>Albertslund</td>\n",
       "      <td>...</td>\n",
       "      <td>0</td>\n",
       "      <td>False</td>\n",
       "      <td>False</td>\n",
       "      <td>https://candidate.hr-manager.net/ApplicationIn...</td>\n",
       "      <td>None</td>\n",
       "      <td>https://candidate.hr-manager.net/ApplicationIn...</td>\n",
       "      <td>True</td>\n",
       "      <td>E7673210</td>\n",
       "      <td>55.6656</td>\n",
       "      <td>12.3635</td>\n",
       "    </tr>\n",
       "  </tbody>\n",
       "</table>\n",
       "<p>5 rows × 46 columns</p>\n",
       "</div>"
      ],
      "text/plain": [
       "     AutomatchType  Abroad  Weight  \\\n",
       "194              0   False     1.0   \n",
       "293              0   False     1.0   \n",
       "389              0   False     1.0   \n",
       "335              0   False     1.0   \n",
       "52               0   False     1.0   \n",
       "\n",
       "                                                 Title  \\\n",
       "194                         Pladsansvarlig - reparatør   \n",
       "293       Faglig pædagogisk leder søges til Femkanten.   \n",
       "389                                             tjener   \n",
       "335  Sygeplejerske til stort akuthus med mange fagl...   \n",
       "52                                           Teamleder   \n",
       "\n",
       "                                           JobHeadline  \\\n",
       "194                         Pladsansvarlig - reparatør   \n",
       "293       Faglig pædagogisk leder søges til Femkanten.   \n",
       "389                                             tjener   \n",
       "335  Sygeplejerske til stort akuthus med mange fagl...   \n",
       "52   Norsktalende salgs- og kunderådgiver til Billi...   \n",
       "\n",
       "                                          Presentation  \\\n",
       "194                                                      \n",
       "293  <p>Faglig pædagogisk leder søges til Femkanten...   \n",
       "389                                                      \n",
       "335  Du bliver en del af akuthuset på Psykiatrisk C...   \n",
       "52   Er du norsktalende og brenner for godt salg og...   \n",
       "\n",
       "                     HiringOrgName      WorkPlaceAddress WorkPlacePostalCode  \\\n",
       "194               ALLROUND Byg A/S    Hans Egedes Vej 20                5210   \n",
       "293                  Ishøj Kommune     Strandgården 17 B                2635   \n",
       "389                 Highway 69 ApS  Frederikshavnsvej 69                9300   \n",
       "335    Psykiatrisk Center Ballerup         Maglevænget 2                2750   \n",
       "52   Brødrene A. & O. Johansen A/S             Rørvang 3                2620   \n",
       "\n",
       "    WorkPlaceCity  ...  HiringOrgCVR  UserLoggedIn  AnonymousEmployer  \\\n",
       "194     Odense NV  ...      27379869         False              False   \n",
       "293         Ishøj  ...      11931316         False              False   \n",
       "389          Sæby  ...      40595643         False              False   \n",
       "335      Ballerup  ...      29190623         False              False   \n",
       "52    Albertslund  ...             0         False              False   \n",
       "\n",
       "                                              ShareUrl  \\\n",
       "194  https://job.jobnet.dk/CV/FindWork/DetailsSocia...   \n",
       "293  https://job.jobnet.dk/CV/FindWork/DetailsSocia...   \n",
       "389  https://job.jobnet.dk/CV/FindWork/DetailsSocia...   \n",
       "335  https://job.jobnet.dk/CV/FindWork/DetailsSocia...   \n",
       "52   https://candidate.hr-manager.net/ApplicationIn...   \n",
       "\n",
       "                                            DetailsUrl  \\\n",
       "194  https://job.jobnet.dk/CV/FindWork/Details/5189407   \n",
       "293  https://job.jobnet.dk/CV/FindWork/Details/5174390   \n",
       "389  https://job.jobnet.dk/CV/FindWork/Details/5185661   \n",
       "335  https://job.jobnet.dk/CV/FindWork/Details/5177384   \n",
       "52                                                None   \n",
       "\n",
       "                                             JobLogUrl HasLocationValues  \\\n",
       "194  https://job.jobnet.dk/CV/FindWork/Details/5189407              True   \n",
       "293  https://job.jobnet.dk/CV/FindWork/Details/5174390              True   \n",
       "389  https://job.jobnet.dk/CV/FindWork/Details/5185661              True   \n",
       "335  https://job.jobnet.dk/CV/FindWork/Details/5177384              True   \n",
       "52   https://candidate.hr-manager.net/ApplicationIn...              True   \n",
       "\n",
       "           ID  Latitude  Longitude  \n",
       "194   5189407   55.4178    10.3424  \n",
       "293   5174390   55.5878    12.3948  \n",
       "389   5185661   57.3439    10.5141  \n",
       "335   5177384   55.7207    12.3589  \n",
       "52   E7673210   55.6656    12.3635  \n",
       "\n",
       "[5 rows x 46 columns]"
      ]
     },
     "execution_count": 100,
     "metadata": {},
     "output_type": "execute_result"
    }
   ],
   "source": [
    "import random\n",
    "import time\n",
    "import tqdm\n",
    "import requests\n",
    "\n",
    "# draw random sample of links and store them in set\n",
    "\n",
    "done = set(random.sample(links,20))\n",
    "\n",
    "# create empty list\n",
    "\n",
    "data = [] # create empty list\n",
    "\n",
    "# collect links using the connector class\n",
    "\n",
    "for url in tqdm.tqdm(done):\n",
    "    response, id_ = connector.get(url, 'jobs') \n",
    "    if response.ok:\n",
    "        d = response.json()\n",
    "    else:\n",
    "        print('Error')\n",
    "    data += d['JobPositionPostings']\n",
    "    time.sleep(0.5)\n",
    "    \n",
    "# loading results into a dataframe\n",
    "\n",
    "df = pd.DataFrame(data)\n",
    "df.sample(5)"
   ]
  },
  {
   "cell_type": "markdown",
   "metadata": {},
   "source": [
    "## Exercise Section 6.2: Scraping Trustpilot.com\n",
    "Now for a slightly more elaborate, yet still simple scraping problem. Here we want to scrape trustpilot for user reviews. This data is very nice since it provides free labeled data (rating) to train a machine learning model to understand positive and negative sentiment. \n",
    "\n",
    "Here you will practice crawling a website collecting the links to each company review page, and finally locate another behind the scenes JavaScript request that gets the review data in a neat json format."
   ]
  },
  {
   "cell_type": "markdown",
   "metadata": {},
   "source": [
    "> **Ex. 6.2.1:** Visit the https://www.trustpilot.com/ website and locate the categories page.\n",
    "From this page you find links to company listings.\n",
    "\n",
    "> **Ex. 6.2.2:**\n",
    "Get the category page using the `requests` module and extract each link to a specific category page from the HTML. This can be done using the basic python `.split()` string method. Make sure only links within the ***/categories/*** section are kept, checking each string using the ```if 'pattern' in string``` condition. \n",
    "\n",
    "*(Hint: The links are relative. You need to add the domain name)*\n"
   ]
  },
  {
   "cell_type": "code",
   "execution_count": 31,
   "metadata": {},
   "outputs": [],
   "source": [
    "url_cat = 'https://www.trustpilot.com/categories'\n",
    "links = set()\n",
    "\n",
    "# fetching html markup behind categories page\n",
    "\n",
    "response,call_id = connector.get(url_cat,'categories')\n",
    "if response.ok:\n",
    "    html = response.text\n",
    "else:\n",
    "    print('error')\n",
    "    \n",
    "\n",
    "link_list = html.split('href=\"')[1:] # split html text file into a list using \"href=\" as a delimitator\n",
    "\n",
    "# take each link in link_list, split each link into a list using ' \" ' as a delimitator.\n",
    "# If the first element of the list contains the string '/categories/', then add that element to the set\n",
    "# This loop returns a list of categories (x,y) in the format [\"categories/x\", \"categories/y\"]\n",
    "\n",
    "for link_loc in link_list: \n",
    "    link = link_loc.split('\"')[0] \n",
    "    if '/categories/' in link:  \n",
    "        links.add(link) \n",
    "\n",
    "# Create a list of links that include the domain and category\n",
    "\n",
    "links = ['https://www.trustpilot.com'+link for link in links]"
   ]
  },
  {
   "cell_type": "markdown",
   "metadata": {},
   "source": [
    "> **Ex. 6.2.3:** Get one of the category section links. Write a function to extract the links to the company review page from the HTML.\n",
    "\n",
    "> **Ex. 6.2.4:** Figure out how the pagination is done, by following how the url changes when pressing the **next page**-button to obtain more company listings. Write a function that builds links to paging all the company listing results of each category. This includes parsing the number of subpages of each category and changing the correct parameter in the url.\n",
    "\n",
    "(Hint: Find the maximum number of result pages, right before the next page button and make a loop change the page parameter of the url.)\n"
   ]
  },
  {
   "cell_type": "code",
   "execution_count": 12,
   "metadata": {},
   "outputs": [],
   "source": [
    "#[Answer to Ex.6.2.3-4]"
   ]
  },
  {
   "cell_type": "markdown",
   "metadata": {},
   "source": [
    "> **Ex. 6.2.5:** Loop through all categories and build the paging links using the above defined function.\n",
    "\n",
    "> **Ex. 6.2.6:** Randomly pick one of category listing links you have generated, and get the links to the companies listed using the other function defined. \n",
    "\n",
    "> **Ex. 6.2.7:** Visit one of these links and inspect the **>Network Monitor<** to locate the request that loads the review data. Use the requests module to retrieve this link and unpack the json results to a pandas DataFrame.\n"
   ]
  },
  {
   "cell_type": "code",
   "execution_count": 15,
   "metadata": {},
   "outputs": [],
   "source": [
    "#[Answer to Ex.6.2.5-7]"
   ]
  }
 ],
 "metadata": {
  "kernelspec": {
   "display_name": "Python 3",
   "language": "python",
   "name": "python3"
  },
  "language_info": {
   "codemirror_mode": {
    "name": "ipython",
    "version": 3
   },
   "file_extension": ".py",
   "mimetype": "text/x-python",
   "name": "python",
   "nbconvert_exporter": "python",
   "pygments_lexer": "ipython3",
   "version": "3.7.6"
  },
  "latex_envs": {
   "bibliofile": "biblio.bib",
   "cite_by": "apalike",
   "current_citInitial": 1,
   "eqLabelWithNumbers": true,
   "eqNumInitial": 0
  },
  "nav_menu": {},
  "toc": {
   "nav_menu": {
    "height": "87px",
    "width": "252px"
   },
   "navigate_menu": true,
   "number_sections": false,
   "sideBar": true,
   "threshold": 6,
   "toc_cell": false,
   "toc_section_display": "block",
   "toc_window_display": true
  }
 },
 "nbformat": 4,
 "nbformat_minor": 2
}
