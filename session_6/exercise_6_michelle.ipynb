{
 "cells": [
  {
   "cell_type": "markdown",
   "metadata": {},
   "source": [
    "> **Note:** In most sessions you will be solving exercises posed in a Jupyter notebook that looks like this one. Because you are cloning a Github repository that only we can push to, you should **NEVER EDIT** any of the files you pull from Github. Instead, what you should do, is either make a new notebook and write your solutions in there, or **make a copy of this notebook and save it somewhere else** on your computer, not inside the `sds` folder that you cloned, so you can write your answers in there. If you edit the notebook you pulled from Github, those edits (possible your solutions to the exercises) may be overwritten and lost the next time you pull from Github. This is important, so don't hesitate to ask if it is unclear."
   ]
  },
  {
   "cell_type": "markdown",
   "metadata": {},
   "source": [
    "## Use Connector class for accessing the internet\n",
    "Even if logging is not important for the below exercises, get in the habit of using this class for connecting to the internet, to practice logging your activity. This will be expected in the final exam.\n",
    "\n",
    "You should run `pip install scraping_class` to install the module to be used."
   ]
  },
  {
   "cell_type": "code",
   "execution_count": 1,
   "metadata": {},
   "outputs": [],
   "source": [
    "#pip install scraping_class\n",
    "#pip install selenium"
   ]
  },
  {
   "cell_type": "code",
   "execution_count": 2,
   "metadata": {},
   "outputs": [],
   "source": [
    "import requests\n",
    "from bs4 import BeautifulSoup\n",
    "import re\n",
    "import selenium\n",
    "import time"
   ]
  },
  {
   "cell_type": "code",
   "execution_count": 3,
   "metadata": {},
   "outputs": [],
   "source": [
    "import scraping_class \n",
    "logfile = 'log_exercise_6.csv'## name your log file.\n",
    "connector = scraping_class.Connector(logfile)"
   ]
  },
  {
   "cell_type": "markdown",
   "metadata": {
    "ExecuteTime": {
     "end_time": "2017-08-23T15:30:03.634114Z",
     "start_time": "2017-08-23T15:30:03.629294Z"
    }
   },
   "source": [
    "# Exercise Set 6: Introduction to Web Scraping\n",
    "\n",
    "In this Exercise Set we shall practice our webscraping skills utiilizing only basic python.  \n",
    "We shall cover variations between static and dynamic pages and build. "
   ]
  },
  {
   "cell_type": "markdown",
   "metadata": {},
   "source": [
    "## Exercise Section 6.1: Scraping Jobnet.dk\n",
    "\n",
    "This exercise you get to practice locating the request that the JavaScript sends to get the job data that it builds the joblistings from. You should use the **>Network Monitor<** tool in your browser.\n",
    "\n",
    "Furthermore you practice spotting how the pagination is done, without clicking on the next page button, but instead changing a small parameter in the URL."
   ]
  },
  {
   "cell_type": "markdown",
   "metadata": {},
   "source": [
    "> **Ex. 6.1.1:** Hit the joblisting webpage here: https://job.jobnet.dk/CV and locate the request that gets the joblisting data using the the **>Network Monitor<**. *(Hint: Filter by XHR files)  \n",
    "\n",
    "> **Ex. 6.1.2.:** Use the `request` module to collect the first 20 results and unpack the relevant `json` data into a `pandas` DataFrame.\n",
    "\n",
    "> **Ex. 6.1.3.:** Store the 'TotalResultCount' value for later use."
   ]
  },
  {
   "cell_type": "code",
   "execution_count": 6,
   "metadata": {},
   "outputs": [
    {
     "name": "stdout",
     "output_type": "stream",
     "text": [
      "    AutomatchType  Abroad  Weight  \\\n",
      "0               0   False     1.0   \n",
      "1               0   False     1.0   \n",
      "2               0   False     1.0   \n",
      "3               0   False     1.0   \n",
      "4               0   False     1.0   \n",
      "5               0   False     1.0   \n",
      "6               0   False     1.0   \n",
      "7               0   False     1.0   \n",
      "8               0   False     1.0   \n",
      "9               0   False     1.0   \n",
      "10              0   False     1.0   \n",
      "11              0   False     1.0   \n",
      "12              0   False     1.0   \n",
      "13              0   False     1.0   \n",
      "14              0   False     1.0   \n",
      "15              0   False     1.0   \n",
      "16              0   False     1.0   \n",
      "17              0    True     1.0   \n",
      "18              0   False     1.0   \n",
      "19              0   False     1.0   \n",
      "\n",
      "                                                Title  \\\n",
      "0        Servicemedarbejder over 18 år, Frederiksværk   \n",
      "1   Tømrere og snedkere - vi udvider i Nordsjællan...   \n",
      "2                          Pædagogmedhjælper 37 timer   \n",
      "3                  Butiksassistent med erfaring søges   \n",
      "4         Kundeservicemedarbejder til Prof-Shoppen.dk   \n",
      "5                            Taxichauffører Silkeborg   \n",
      "6                       ER DU VORES NYE MØBELSNEDKER?   \n",
      "7   Erfaren projektleder til programledelse af For...   \n",
      "8                                      Erfaren Tømrer   \n",
      "9   Medic/sygepasser (konstabel) til Infirmeri Nor...   \n",
      "10  Socialrådgiver/formidler til Børn- og Ungerådg...   \n",
      "11  Sygeplejerske til vores fantastiske Akutafdeli...   \n",
      "12    Rengøringsassistent søges  til 2 steder Videbæk   \n",
      "13  Kok/cater med erfaring til Cafe Bøgen på Lokal...   \n",
      "14     Bioanalytiker til almen praksis i Korsør søges   \n",
      "15          Keramikcafe Møllehuset søger medarbejdere   \n",
      "16                        Weekendvagt hver 2. weekend   \n",
      "17  Dansktalende Kunderådgivere Søges til Stockhol...   \n",
      "18                                          Klejnsmed   \n",
      "19             Specialarbejder - jord, beton og kloak   \n",
      "\n",
      "                                          JobHeadline  \\\n",
      "0        Servicemedarbejder over 18 år, Frederiksværk   \n",
      "1   Tømrere og snedkere - vi udvider i Nordsjællan...   \n",
      "2                          Pædagogmedhjælper 37 timer   \n",
      "3                  Butiksassistent med erfaring søges   \n",
      "4         Kundeservicemedarbejder til Prof-Shoppen.dk   \n",
      "5                            Taxichauffører Silkeborg   \n",
      "6                       ER DU VORES NYE MØBELSNEDKER?   \n",
      "7   Erfaren projektleder til programledelse af For...   \n",
      "8                                      Erfaren Tømrer   \n",
      "9   Medic/sygepasser (konstabel) til Infirmeri Nor...   \n",
      "10  Socialrådgiver/formidler til Børn- og Ungerådg...   \n",
      "11  Sygeplejerske til vores fantastiske Akutafdeli...   \n",
      "12    Rengøringsassistent søges  til 2 steder Videbæk   \n",
      "13  Kok/cater med erfaring til Cafe Bøgen på Lokal...   \n",
      "14     Bioanalytiker til almen praksis i Korsør søges   \n",
      "15          Keramikcafe Møllehuset søger medarbejdere   \n",
      "16                        Weekendvagt hver 2. weekend   \n",
      "17  Dansktalende Kunderådgivere Søges til Stockhol...   \n",
      "18                                          Klejnsmed   \n",
      "19             Specialarbejder - jord, beton og kloak   \n",
      "\n",
      "                                         Presentation  \\\n",
      "0   <p> </p> <p><strong>Få nye udfordringer i en s...   \n",
      "1    Vores kolleger gør det godt hos kunderne, så ...   \n",
      "2   <strong>Pædagogmedhjælper til fast stilling i ...   \n",
      "3                                                       \n",
      "4     Vi søger ny medarbejder til vores kundeservi...   \n",
      "5   <p>Jeg mangler to faste chauffører </p>\\n<p>En...   \n",
      "6   <p> </p>\\n<p>Har du lyst til at være en del af...   \n",
      "7                                                <br>   \n",
      "8    Vi søger en erfaren allround tømrer, der selv...   \n",
      "9   Har du lyst til at arbejde i et sundhedsfaglig...   \n",
      "10  \\n\\t\\n\\t\\t\\n\\t\\t\\t\\n\\t\\t\\n\\t\\n\\n\\n Er du træt ...   \n",
      "11  <strong>Nu er chancen her. Vil du have verdens...   \n",
      "12  <p>Vi søger en medarbejder med flair for god s...   \n",
      "13  <p>Vi søger en ansvarlig og serviceminded kok ...   \n",
      "14  Lægernes Hus Norvangen i Korsør søger bioanaly...   \n",
      "15                                    Vi har travlt!    \n",
      "16   Til vores kontor på Østerbro søger vi en pers...   \n",
      "17    Dansktalende Kunderådgivere Søges til Stockh...   \n",
      "18                                                      \n",
      "19  <p>Arbejde og område:</p>\\n<p>Nordjylland, per...   \n",
      "\n",
      "                                 HiringOrgName        WorkPlaceAddress  \\\n",
      "0                 Frederiksværk, Harald Nyborg          Industrivej 1A   \n",
      "1   Tømrer- og Snedkermester Børge Nielsen A/S              Høgevej 8B   \n",
      "2                   Vuggestuen Hvorup Kirkevej       Hvorup Kirkevej 7   \n",
      "3                         REINVENT FASHION ApS               Lygten 2L   \n",
      "4                       Prof-Shoppen | Esbjerg              Hammeren 6   \n",
      "5                          RK Dantransport IVS                           \n",
      "6               A/S INVENTARSNEDKERIET, AARHUS       Rudolfgårdsvej 17   \n",
      "7                        Frederiksberg Kommune            Smallegade 1   \n",
      "8                 LASSENS TØMRER & SNEDKER ApS          Skyttehusvej 1   \n",
      "9       Forsvarets Sundhedstjeneste, Skalstrup            Køgevej 167A   \n",
      "10                               Lejre Kommune         Møllebjergvej 4   \n",
      "11            Sygehus Lillebælt, Vejle Sygehus         Beriderbakken 4   \n",
      "12                   DANSK KONCEPT SERVICE A/S                           \n",
      "13                     Lokalcenter Bøgeskovhus  Skovlundgårdsvej 55-57   \n",
      "14                  Lægernes Hus Norvangen I/S            Norvangen 3D   \n",
      "15                      Keramikcafé Møllehuset        Skallerupvej 810   \n",
      "16                         PM-DISTRIBUTION ApS          Masnedøgade 20   \n",
      "17                                     Talenty                           \n",
      "18                       FYNS KAROSSERIBYG A/S            Teknikvej 57   \n",
      "19                         CAC Entreprenør A/S                           \n",
      "\n",
      "   WorkPlacePostalCode  WorkPlaceCity  ...  HiringOrgCVR  UserLoggedIn  \\\n",
      "0                 3300  Frederiksværk  ...      37783315         False   \n",
      "1                 3400       Hillerød  ...      18867842         False   \n",
      "2                 9400    Nørresundby  ...      29189420         False   \n",
      "3                 2400   København NV  ...      41015438         False   \n",
      "4                 6715      Esbjerg N  ...      32342930         False   \n",
      "5                 8600      Silkeborg  ...      39490161         False   \n",
      "6                 8260         Viby J  ...      32091008         False   \n",
      "7                 2000  Frederiksberg  ...      11259979         False   \n",
      "8                 8464         Galten  ...      29634904         False   \n",
      "9                 4621       Gadstrup  ...      99999999         False   \n",
      "10                4330         Hvalsø  ...      29188548         False   \n",
      "11                7100          Vejle  ...      29190909         False   \n",
      "12                                     ...      27268021         False   \n",
      "13                8260         Viby J  ...      36150513         False   \n",
      "14                4220         Korsør  ...      40211837         False   \n",
      "15                9800       Hjørring  ...      36299487         False   \n",
      "16                2100    København Ø  ...      34739080         False   \n",
      "17                                     ...      36778865         False   \n",
      "18                5260       Odense S  ...      75645317         False   \n",
      "19                                     ...      39209217         False   \n",
      "\n",
      "    AnonymousEmployer                                           ShareUrl  \\\n",
      "0               False  https://job.jobnet.dk/CV/FindWork/DetailsSocia...   \n",
      "1               False  https://job.jobnet.dk/CV/FindWork/DetailsSocia...   \n",
      "2               False  https://job.jobnet.dk/CV/FindWork/DetailsSocia...   \n",
      "3               False  https://job.jobnet.dk/CV/FindWork/DetailsSocia...   \n",
      "4               False  https://job.jobnet.dk/CV/FindWork/DetailsSocia...   \n",
      "5               False  https://job.jobnet.dk/CV/FindWork/DetailsSocia...   \n",
      "6               False  https://job.jobnet.dk/CV/FindWork/DetailsSocia...   \n",
      "7               False  https://job.jobnet.dk/CV/FindWork/DetailsSocia...   \n",
      "8               False  https://job.jobnet.dk/CV/FindWork/DetailsSocia...   \n",
      "9               False  https://job.jobnet.dk/CV/FindWork/DetailsSocia...   \n",
      "10              False  https://job.jobnet.dk/CV/FindWork/DetailsSocia...   \n",
      "11              False  https://job.jobnet.dk/CV/FindWork/DetailsSocia...   \n",
      "12              False  https://job.jobnet.dk/CV/FindWork/DetailsSocia...   \n",
      "13              False  https://job.jobnet.dk/CV/FindWork/DetailsSocia...   \n",
      "14              False  https://job.jobnet.dk/CV/FindWork/DetailsSocia...   \n",
      "15              False  https://job.jobnet.dk/CV/FindWork/DetailsSocia...   \n",
      "16              False  https://job.jobnet.dk/CV/FindWork/DetailsSocia...   \n",
      "17              False  https://job.jobnet.dk/CV/FindWork/DetailsSocia...   \n",
      "18              False  https://job.jobnet.dk/CV/FindWork/DetailsSocia...   \n",
      "19              False  https://job.jobnet.dk/CV/FindWork/DetailsSocia...   \n",
      "\n",
      "                                           DetailsUrl  \\\n",
      "0   https://job.jobnet.dk/CV/FindWork/Details/5190649   \n",
      "1   https://job.jobnet.dk/CV/FindWork/Details/5190646   \n",
      "2   https://job.jobnet.dk/CV/FindWork/Details/5190645   \n",
      "3   https://job.jobnet.dk/CV/FindWork/Details/5172571   \n",
      "4   https://job.jobnet.dk/CV/FindWork/Details/5190643   \n",
      "5   https://job.jobnet.dk/CV/FindWork/Details/5190641   \n",
      "6   https://job.jobnet.dk/CV/FindWork/Details/5190639   \n",
      "7   https://job.jobnet.dk/CV/FindWork/Details/5190637   \n",
      "8   https://job.jobnet.dk/CV/FindWork/Details/5190636   \n",
      "9   https://job.jobnet.dk/CV/FindWork/Details/5190635   \n",
      "10  https://job.jobnet.dk/CV/FindWork/Details/5190372   \n",
      "11  https://job.jobnet.dk/CV/FindWork/Details/5190634   \n",
      "12  https://job.jobnet.dk/CV/FindWork/Details/5190323   \n",
      "13  https://job.jobnet.dk/CV/FindWork/Details/5190633   \n",
      "14  https://job.jobnet.dk/CV/FindWork/Details/5190632   \n",
      "15  https://job.jobnet.dk/CV/FindWork/Details/5190023   \n",
      "16  https://job.jobnet.dk/CV/FindWork/Details/5188963   \n",
      "17  https://job.jobnet.dk/CV/FindWork/Details/5190631   \n",
      "18  https://job.jobnet.dk/CV/FindWork/Details/5157270   \n",
      "19  https://job.jobnet.dk/CV/FindWork/Details/5190252   \n",
      "\n",
      "                                            JobLogUrl HasLocationValues  \\\n",
      "0   https://job.jobnet.dk/CV/FindWork/Details/5190649              True   \n",
      "1   https://job.jobnet.dk/CV/FindWork/Details/5190646              True   \n",
      "2   https://job.jobnet.dk/CV/FindWork/Details/5190645              True   \n",
      "3   https://job.jobnet.dk/CV/FindWork/Details/5172571              True   \n",
      "4   https://job.jobnet.dk/CV/FindWork/Details/5190643              True   \n",
      "5   https://job.jobnet.dk/CV/FindWork/Details/5190641              True   \n",
      "6   https://job.jobnet.dk/CV/FindWork/Details/5190639              True   \n",
      "7   https://job.jobnet.dk/CV/FindWork/Details/5190637              True   \n",
      "8   https://job.jobnet.dk/CV/FindWork/Details/5190636              True   \n",
      "9   https://job.jobnet.dk/CV/FindWork/Details/5190635              True   \n",
      "10  https://job.jobnet.dk/CV/FindWork/Details/5190372              True   \n",
      "11  https://job.jobnet.dk/CV/FindWork/Details/5190634              True   \n",
      "12  https://job.jobnet.dk/CV/FindWork/Details/5190323              True   \n",
      "13  https://job.jobnet.dk/CV/FindWork/Details/5190633              True   \n",
      "14  https://job.jobnet.dk/CV/FindWork/Details/5190632              True   \n",
      "15  https://job.jobnet.dk/CV/FindWork/Details/5190023              True   \n",
      "16  https://job.jobnet.dk/CV/FindWork/Details/5188963              True   \n",
      "17  https://job.jobnet.dk/CV/FindWork/Details/5190631             False   \n",
      "18  https://job.jobnet.dk/CV/FindWork/Details/5157270              True   \n",
      "19  https://job.jobnet.dk/CV/FindWork/Details/5190252              True   \n",
      "\n",
      "         ID  Latitude  Longitude  \n",
      "0   5190649   55.9785    12.0061  \n",
      "1   5190646   55.9485    12.2570  \n",
      "2   5190645   57.0773     9.9395  \n",
      "3   5172571   55.7028    12.5380  \n",
      "4   5190643   55.5271     8.4540  \n",
      "5   5190641   56.1715     9.4900  \n",
      "6   5190639   56.1114    10.1413  \n",
      "7   5190637   55.6784    12.5321  \n",
      "8   5190636   56.2015     9.9638  \n",
      "9   5190635   55.5866    12.1090  \n",
      "10  5190372   55.6009    11.8605  \n",
      "11  5190634   55.7147     9.5380  \n",
      "12  5190323   55.7375     9.1000  \n",
      "13  5190633   56.1244    10.1282  \n",
      "14  5190632   55.3296    11.1469  \n",
      "15  5190023   57.4593     9.8230  \n",
      "16  5188963   55.7107    12.5729  \n",
      "17  5190631    0.0000     0.0000  \n",
      "18  5157270   55.3502    10.3965  \n",
      "19  5190252   56.8145    10.0442  \n",
      "\n",
      "[20 rows x 46 columns]\n",
      "14032\n"
     ]
    }
   ],
   "source": [
    "import pandas as pd\n",
    "\n",
    "# Ex. 6.1.1:\n",
    "url = 'https://job.jobnet.dk/CV/FindWork/Search'\n",
    "\n",
    "# Ex. 6.1.2:\n",
    "#request url\n",
    "response = requests.get(url)\n",
    "\n",
    "#unpack with json into pandas dataframe\n",
    "jobs = pd.DataFrame(response.json()['JobPositionPostings'])\n",
    "print(jobs)\n",
    "\n",
    "#Ex. 6.1.3.: Store the 'TotalResultCount' value for later use.\n",
    "TotalResultCount = response.json()['TotalResultCount']\n",
    "print(TotalResultCount)\n"
   ]
  },
  {
   "cell_type": "markdown",
   "metadata": {},
   "source": [
    "> **Ex. 6.1.4:** This exercise is about paging the results. We need to understand the websites pagination scheme. \n",
    "\n",
    "> Now scroll down the webpage and press the next page button. See how the parameters of the url changes as you turn the pages.\n",
    "\n",
    "> **Ex. 6.1.5:** Design a`for` loop using the `range` function that changes this paging parameter in the URL. Use the TotalResultCount parameter from before to define the limits of the range function. Store these urls in a container. \n",
    "\n",
    ">**extra** Change the SortValue parameter from BestMatch to CreationDate, to make the sorting amendable to updating results daily.\n",
    "\n",
    "*(HINT: See that the parameter is an offset and that this relates to the number of results pr. call made.)*"
   ]
  },
  {
   "cell_type": "code",
   "execution_count": null,
   "metadata": {},
   "outputs": [],
   "source": [
    "#Ex. 6.1.4:\n",
    "# when pressing the 'next' button, the offset=0 changes to offset=20 \n",
    "# https://job.jobnet.dk/CV/FindWork/Search?Offset=20&SortValue=BestMatch\n",
    "\n",
    "#Ex. 6.1.5\n",
    "url = 'https://job.jobnet.dk/CV/FindWork/Search?Offset=20&SortValue=BestMatch'\n",
    "\n",
    "jobs_url = []\n",
    "for i in range(0,TotalResultCount,20):\n",
    "    url = f'https://job.jobnet.dk/CV/FindWork/Search?Offset={i}&SortValue=BestMatch'\n",
    "    jobs_url.append(url)\n",
    "\n",
    "#extra Change the SortValue parameter from BestMatch to CreationDate, to make the sorting amendable to updating results daily.\n",
    "jobs_url_sorted = []   \n",
    "for i in range(0,TotalResultCount,20):\n",
    "    url = f'https://job.jobnet.dk/CV/FindWork/Search?Offset={i}&SortValue=CreationDate'\n",
    "    jobs_url_sorted.append(url)\n",
    "\n",
    "jobs_url_sorted\n",
    "    "
   ]
  },
  {
   "cell_type": "markdown",
   "metadata": {},
   "source": [
    "> **Ex.6.1.6:** Pick 20 random links using the `random.sample()` function and collect them using the `Connector` class. Also use the `time.sleep()` function to limit the rate of your calls. Make sure to save the links already collected in a `set()` container to avoid having to reload links already collected. ***extra***: monitor the time left to completing the loop by using `tqdm.tqdm()` function.\n",
    "\n",
    "> **Ex.6.1.7:** Load all the results into a DataFrame."
   ]
  },
  {
   "cell_type": "code",
   "execution_count": 12,
   "metadata": {},
   "outputs": [
    {
     "name": "stderr",
     "output_type": "stream",
     "text": [
      "\r",
      "  0%|                                                                                           | 0/20 [00:00<?, ?it/s]"
     ]
    },
    {
     "name": "stdout",
     "output_type": "stream",
     "text": [
      "['https://job.jobnet.dk/CV/FindWork/Search?Offset=800&SortValue=CreationDate', 'https://job.jobnet.dk/CV/FindWork/Search?Offset=0&SortValue=CreationDate', 'https://job.jobnet.dk/CV/FindWork/Search?Offset=11240&SortValue=CreationDate', 'https://job.jobnet.dk/CV/FindWork/Search?Offset=12860&SortValue=CreationDate', 'https://job.jobnet.dk/CV/FindWork/Search?Offset=4380&SortValue=CreationDate', 'https://job.jobnet.dk/CV/FindWork/Search?Offset=1380&SortValue=CreationDate', 'https://job.jobnet.dk/CV/FindWork/Search?Offset=12240&SortValue=CreationDate', 'https://job.jobnet.dk/CV/FindWork/Search?Offset=11120&SortValue=CreationDate', 'https://job.jobnet.dk/CV/FindWork/Search?Offset=7460&SortValue=CreationDate', 'https://job.jobnet.dk/CV/FindWork/Search?Offset=6500&SortValue=CreationDate', 'https://job.jobnet.dk/CV/FindWork/Search?Offset=12980&SortValue=CreationDate', 'https://job.jobnet.dk/CV/FindWork/Search?Offset=680&SortValue=CreationDate', 'https://job.jobnet.dk/CV/FindWork/Search?Offset=780&SortValue=CreationDate', 'https://job.jobnet.dk/CV/FindWork/Search?Offset=1440&SortValue=CreationDate', 'https://job.jobnet.dk/CV/FindWork/Search?Offset=13460&SortValue=CreationDate', 'https://job.jobnet.dk/CV/FindWork/Search?Offset=9040&SortValue=CreationDate', 'https://job.jobnet.dk/CV/FindWork/Search?Offset=13340&SortValue=CreationDate', 'https://job.jobnet.dk/CV/FindWork/Search?Offset=13080&SortValue=CreationDate', 'https://job.jobnet.dk/CV/FindWork/Search?Offset=9440&SortValue=CreationDate', 'https://job.jobnet.dk/CV/FindWork/Search?Offset=320&SortValue=CreationDate']\n"
     ]
    },
    {
     "name": "stderr",
     "output_type": "stream",
     "text": [
      "  0%|                                                                                           | 0/20 [00:01<?, ?it/s]\n"
     ]
    },
    {
     "ename": "TypeError",
     "evalue": "'method' object is not subscriptable",
     "output_type": "error",
     "traceback": [
      "\u001b[1;31m---------------------------------------------------------------------------\u001b[0m",
      "\u001b[1;31mTypeError\u001b[0m                                 Traceback (most recent call last)",
      "\u001b[1;32m<ipython-input-12-31eea3c1d810>\u001b[0m in \u001b[0;36m<module>\u001b[1;34m\u001b[0m\n\u001b[0;32m     12\u001b[0m     \u001b[1;32melse\u001b[0m\u001b[1;33m:\u001b[0m\u001b[1;33m\u001b[0m\u001b[1;33m\u001b[0m\u001b[0m\n\u001b[0;32m     13\u001b[0m         \u001b[0mprint\u001b[0m\u001b[1;33m(\u001b[0m\u001b[1;34m'Error'\u001b[0m\u001b[1;33m)\u001b[0m\u001b[1;33m\u001b[0m\u001b[1;33m\u001b[0m\u001b[0m\n\u001b[1;32m---> 14\u001b[1;33m     \u001b[0mdata\u001b[0m \u001b[1;33m+=\u001b[0m \u001b[0md\u001b[0m\u001b[1;33m[\u001b[0m\u001b[1;34m'JobPositionPostings'\u001b[0m\u001b[1;33m]\u001b[0m\u001b[1;33m\u001b[0m\u001b[1;33m\u001b[0m\u001b[0m\n\u001b[0m\u001b[0;32m     15\u001b[0m     \u001b[0mtime\u001b[0m\u001b[1;33m.\u001b[0m\u001b[0msleep\u001b[0m\u001b[1;33m(\u001b[0m\u001b[1;36m0.5\u001b[0m\u001b[1;33m)\u001b[0m\u001b[1;33m\u001b[0m\u001b[1;33m\u001b[0m\u001b[0m\n\u001b[0;32m     16\u001b[0m \u001b[0mdf\u001b[0m \u001b[1;33m=\u001b[0m \u001b[0mpd\u001b[0m\u001b[1;33m.\u001b[0m\u001b[0mDataFrame\u001b[0m\u001b[1;33m(\u001b[0m\u001b[0mdata\u001b[0m\u001b[1;33m)\u001b[0m\u001b[1;33m\u001b[0m\u001b[1;33m\u001b[0m\u001b[0m\n",
      "\u001b[1;31mTypeError\u001b[0m: 'method' object is not subscriptable"
     ]
    }
   ],
   "source": [
    "\n",
    "import random, time, tqdm\n",
    "\n",
    "#see 20 random links\n",
    "print(random.sample(jobs_url_sorted,20))\n",
    "\n",
    "done = set()\n",
    "data = []\n",
    "for url in tqdm.tqdm(random.sample(jobs_url_sorted,20)):\n",
    "    response,call_id = connector.get(url,'jobpostings')\n",
    "    if response.ok:\n",
    "        d = response.json\n",
    "    else:\n",
    "        print('Error')\n",
    "    data += d['JobPositionPostings']\n",
    "    time.sleep(0.5)\n",
    "df = pd.DataFrame(data)\n",
    "df.sample(5)\n"
   ]
  },
  {
   "cell_type": "markdown",
   "metadata": {},
   "source": [
    "## Exercise Section 6.2: Scraping Trustpilot.com\n",
    "Now for a slightly more elaborate, yet still simple scraping problem. Here we want to scrape trustpilot for user reviews. This data is very nice since it provides free labeled data (rating) to train a machine learning model to understand positive and negative sentiment. \n",
    "\n",
    "Here you will practice crawling a website collecting the links to each company review page, and finally locate another behind the scenes JavaScript request that gets the review data in a neat json format."
   ]
  },
  {
   "cell_type": "markdown",
   "metadata": {},
   "source": [
    "> **Ex. 6.2.1:** Visit the https://www.trustpilot.com/ website and locate the categories page.\n",
    "From this page you find links to company listings.\n",
    "\n",
    "> **Ex. 6.2.2:**\n",
    "Get the category page using the `requests` module and extract each link to a specific category page from the HTML. This can be done using the basic python `.split()` string method. Make sure only links within the ***/categories/*** section are kept, checking each string using the ```if 'pattern' in string``` condition. \n",
    "\n",
    "*(Hint: The links are relative. You need to add the domain name)*\n"
   ]
  },
  {
   "cell_type": "code",
   "execution_count": 8,
   "metadata": {},
   "outputs": [],
   "source": [
    "# [Answer to Ex. 6.2.1-2]"
   ]
  },
  {
   "cell_type": "markdown",
   "metadata": {},
   "source": [
    "> **Ex. 6.2.3:** Get one of the category section links. Write a function to extract the links to the company review page from the HTML.\n",
    "\n",
    "> **Ex. 6.2.4:** Figure out how the pagination is done, by following how the url changes when pressing the **next page**-button to obtain more company listings. Write a function that builds links to paging all the company listing results of each category. This includes parsing the number of subpages of each category and changing the correct parameter in the url.\n",
    "\n",
    "(Hint: Find the maximum number of result pages, right before the next page button and make a loop change the page parameter of the url.)\n"
   ]
  },
  {
   "cell_type": "code",
   "execution_count": 12,
   "metadata": {},
   "outputs": [],
   "source": [
    "#[Answer to Ex.6.2.3-4]"
   ]
  },
  {
   "cell_type": "markdown",
   "metadata": {},
   "source": [
    "> **Ex. 6.2.5:** Loop through all categories and build the paging links using the above defined function.\n",
    "\n",
    "> **Ex. 6.2.6:** Randomly pick one of category listing links you have generated, and get the links to the companies listed using the other function defined. \n",
    "\n",
    "> **Ex. 6.2.7:** Visit one of these links and inspect the **>Network Monitor<** to locate the request that loads the review data. Use the requests module to retrieve this link and unpack the json results to a pandas DataFrame.\n"
   ]
  },
  {
   "cell_type": "code",
   "execution_count": 15,
   "metadata": {},
   "outputs": [],
   "source": [
    "#[Answer to Ex.6.2.5-7]"
   ]
  }
 ],
 "metadata": {
  "kernelspec": {
   "display_name": "Python 3",
   "language": "python",
   "name": "python3"
  },
  "language_info": {
   "codemirror_mode": {
    "name": "ipython",
    "version": 3
   },
   "file_extension": ".py",
   "mimetype": "text/x-python",
   "name": "python",
   "nbconvert_exporter": "python",
   "pygments_lexer": "ipython3",
   "version": "3.7.6"
  },
  "latex_envs": {
   "bibliofile": "biblio.bib",
   "cite_by": "apalike",
   "current_citInitial": 1,
   "eqLabelWithNumbers": true,
   "eqNumInitial": 0
  },
  "nav_menu": {},
  "toc": {
   "nav_menu": {
    "height": "87px",
    "width": "252px"
   },
   "navigate_menu": true,
   "number_sections": false,
   "sideBar": true,
   "threshold": 6,
   "toc_cell": false,
   "toc_section_display": "block",
   "toc_window_display": true
  }
 },
 "nbformat": 4,
 "nbformat_minor": 2
}
