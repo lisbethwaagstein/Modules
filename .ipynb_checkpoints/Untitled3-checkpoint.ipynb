{
 "cells": [
  {
   "cell_type": "code",
   "execution_count": null,
   "metadata": {},
   "outputs": [],
   "source": [
    "# We want a time series with two columns : 'ds' and 'y' where ds is the date\n",
    "\n",
    "total_remote_date['Month-Year']= pd.to_datetime(total_remote_date['Month-Year'])\n",
    "total_remote_date.columns = ['ds','y']\n",
    "total_remote_date.sort_values(by=['ds'], ascending=True).reset_index(drop=True)\n",
    "\n",
    "ts = total_remote_date.sort_values(by=['ds'], ascending=True).reset_index(drop=True)[:121]\n",
    "\n",
    "# Fitting the model to our data set\n",
    "model = Prophet()\n",
    "model.fit(ts)\n",
    "\n",
    "# Creating an empty data set for forecasting\n",
    "\n",
    "from pandas import DataFrame\n",
    "future= pd.date_range('2016-01-01','2017-01-01', freq='1M')-pd.offsets.MonthBegin(1)\n",
    "future = future.tolist()\n",
    "\n",
    "future = DataFrame(future,columns=['ds'])\n",
    "future['ds'] = pd.to_datetime(future['ds'])\n",
    "predict_2016 = model.predict(future)\n",
    "\n",
    "# Making forecast for february to july 2020\n",
    "\n",
    "forecast= pd.date_range('2010-01-01','2020-08-01', freq='1M')-pd.offsets.MonthBegin(1)\n",
    "forecast = forecast.tolist()\n",
    "\n",
    "forecast = DataFrame(forecast,columns=['ds'])\n",
    "forecast['ds'] = pd.to_datetime(forecast['ds'])\n",
    "forecast = model.predict(forecast)\n",
    "\n",
    "true_data = total_remote_date.sort_values(by=['ds'], ascending=True).reset_index(drop=True)[:127]\n",
    "forecast = forecast[['ds','yhat','yhat_lower','yhat_upper']]\n",
    "\n",
    "# create figure and axis objects with subplots()\n",
    "\n",
    "plot = pd.merge(true_data, forecast, on='ds', how='right')\n",
    "ticks= pd.date_range('2010-12-01','2021-08-01', freq='1Y')-pd.offsets.MonthBegin(12)\n",
    "fig,ax = plt.subplots(figsize=(11,7))\n",
    "ax.plot(plot['ds'],plot['yhat'], color=\"red\", linewidth=0.9, label = 'Predicted')\n",
    "ax.plot(plot['ds'],plot['y'], color=\"blue\", linewidth=0.9, label = 'Actual')\n",
    "ax.set_xlabel(\"Month-Year\",fontsize=15)\n",
    "ax.set_ylabel(\"Monthly Remote Job Listings\", fontsize=15)\n",
    "plt.xticks(ticks,fontsize=12,rotation=20)\n",
    "plt.yticks(fontsize=12)\n",
    "ax.legend(fontsize=15)\n",
    "plt.savefig('forecast.png')"
   ]
  }
 ],
 "metadata": {
  "kernelspec": {
   "display_name": "Python 3",
   "language": "python",
   "name": "python3"
  },
  "language_info": {
   "codemirror_mode": {
    "name": "ipython",
    "version": 3
   },
   "file_extension": ".py",
   "mimetype": "text/x-python",
   "name": "python",
   "nbconvert_exporter": "python",
   "pygments_lexer": "ipython3",
   "version": "3.7.6"
  }
 },
 "nbformat": 4,
 "nbformat_minor": 4
}
