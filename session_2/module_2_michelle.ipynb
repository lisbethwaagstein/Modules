{
 "cells": [
  {
   "cell_type": "markdown",
   "metadata": {},
   "source": [
    "> **Note:** In most sessions you will be solving exercises posed in a Jupyter notebook that looks like this one. Because you are cloning a Github repository that only we can push to, you should **NEVER EDIT** any of the files you pull from Github. Instead, what you should do, is either make a new notebook and write your solutions in there, or **make a copy of this notebook and save it somewhere else** on your computer, not inside the `isds2020` folder that you cloned, so you can write your answers in there. If you edit the notebook you pulled from Github, those edits (possible your solutions to the exercises) may be overwritten and lost the next time you pull from Github. This is important, so don't hesitate to ask if it is unclear."
   ]
  },
  {
   "cell_type": "markdown",
   "metadata": {},
   "source": [
    "# Session 2: Strings, requests and APIs\n",
    "\n",
    "In this combined teaching module and exercise set you will be working with collecting from the web. We will start out with some basic string operations and build on that to make a query for fetching data.\n",
    "\n",
    "*Alternative sources*: If you get lost, you might find [this page](https://pythonprogramming.net/string-concatenation-formatting-intermediate-python-tutorial/) on pythonprogramming.net useful. [This page](https://www.python-course.eu/python3_sequential_data_types.php) also gives an introduction to the basics of strings and their related data types. "
   ]
  },
  {
   "cell_type": "markdown",
   "metadata": {},
   "source": [
    "# Basic Python (continued)\n",
    "\n",
    "In Assignment 0 we covered a lot about basic Python. We only scratched the surface on many topics and in this session we will be taking a deeper looking at. \n",
    "\n",
    "Start out with watching the introduction video below describing the usefulness of text data and dictionaries."
   ]
  },
  {
   "cell_type": "code",
   "execution_count": 1,
   "metadata": {},
   "outputs": [
    {
     "data": {
      "image/jpeg": "[encoded data removed]",
      "text/html": [
       "\n",
       "        <iframe\n",
       "            width=\"640\"\n",
       "            height=\"360\"\n",
       "            src=\"https://www.youtube.com/embed/QU3AfoezgTE\"\n",
       "            frameborder=\"0\"\n",
       "            allowfullscreen\n",
       "        ></iframe>\n",
       "        "
      ],
      "text/plain": [
       "<IPython.lib.display.YouTubeVideo at 0x134ccdb5cd0>"
      ]
     },
     "execution_count": 1,
     "metadata": {},
     "output_type": "execute_result"
    }
   ],
   "source": [
    "from IPython.display import YouTubeVideo\n",
    "YouTubeVideo('QU3AfoezgTE', width=640, height=360)"
   ]
  },
  {
   "cell_type": "markdown",
   "metadata": {},
   "source": [
    "## Strings\n",
    "\n",
    "You might be wondering, what exactly are strings. Strings are sequential containers of characters. In Python we use two kinds of characters:\n",
    "-  American Standard Code (`ascii`)\n",
    "    - Characters from English alphabet, numbers, symbols for writing \n",
    "    - 8 bit information\n",
    "\n",
    "- Unicode (`UTF`)  \n",
    "    - Characters from European and Asian language and much more\n",
    "    - 16 bit information\n",
    "    - Available in URLs recently, e.g. [møn.dk](https://møn.dk)        \n",
    "    \n",
    "    \n",
    "Note that while unicode is a little more heavy and costs more space it is way more flexible and we get less errors when importing data from non-ascii languages. This reason is also why Python adopted unicode since Python 3 as standard.\n",
    "\n",
    "To see that strings are sequential containers, see the example below where we slice them like a list or dataframe/array:"
   ]
  },
  {
   "cell_type": "code",
   "execution_count": 2,
   "metadata": {},
   "outputs": [
    {
     "data": {
      "text/plain": [
       "'lice'"
      ]
     },
     "execution_count": 2,
     "metadata": {},
     "output_type": "execute_result"
    }
   ],
   "source": [
    "str1 = 'police'\n",
    "str1[2:]"
   ]
  },
  {
   "cell_type": "markdown",
   "metadata": {},
   "source": [
    "#### Common string operations \n",
    "\n",
    "Strings have multiple operations and functions associated. In this exercise we investigate a few of these. We also explore the sequence form of a string and how it can be sliced and accessed via indices. In the following we provide a small tour of some of the most important ones.\n",
    "\n",
    "You can alter the sentence-case of strings by using the string methods `upper`, `lower`, `capitalize`. Example:"
   ]
  },
  {
   "cell_type": "code",
   "execution_count": 3,
   "metadata": {},
   "outputs": [
    {
     "data": {
      "text/plain": [
       "'POLICE'"
      ]
     },
     "execution_count": 3,
     "metadata": {},
     "output_type": "execute_result"
    }
   ],
   "source": [
    "str1.upper()"
   ]
  },
  {
   "cell_type": "markdown",
   "metadata": {},
   "source": [
    "We can also use the `replace` method to substitute parts of the strings:"
   ]
  },
  {
   "cell_type": "code",
   "execution_count": 4,
   "metadata": {},
   "outputs": [
    {
     "data": {
      "text/plain": [
       "'malice'"
      ]
     },
     "execution_count": 4,
     "metadata": {},
     "output_type": "execute_result"
    }
   ],
   "source": [
    "str1.replace('po', 'ma')"
   ]
  },
  {
   "cell_type": "markdown",
   "metadata": {},
   "source": [
    "We can also check whether a substring is within a given string and much more. The general syntax is \n",
    "```python \n",
    "T in S\n",
    "``` \n",
    "which checks whether a string `S` contains the substring `T`. See two applications below: "
   ]
  },
  {
   "cell_type": "code",
   "execution_count": 5,
   "metadata": {},
   "outputs": [
    {
     "name": "stdout",
     "output_type": "stream",
     "text": [
      "True False\n"
     ]
    }
   ],
   "source": [
    "print('ice' in str1, 'mice' in str1)"
   ]
  },
  {
   "cell_type": "markdown",
   "metadata": {},
   "source": [
    "Another procedure is to add strings together like below:"
   ]
  },
  {
   "cell_type": "code",
   "execution_count": 13,
   "metadata": {},
   "outputs": [
    {
     "data": {
      "text/plain": [
       "'police officer'"
      ]
     },
     "execution_count": 13,
     "metadata": {},
     "output_type": "execute_result"
    }
   ],
   "source": [
    "str2 = 'officer'\n",
    "str1 + ' ' + str2 #changed from s2"
   ]
  },
  {
   "cell_type": "markdown",
   "metadata": {},
   "source": [
    "In the first couple of exercises you should use the examples above to answer\n",
    "\n",
    "> **Ex. 2.1.1**: Let `s1='Chameleon'` and `s2='ham'`. Check whether the string `s2` is a substring of `s1`. Is `'hello'` a substring `'goodbye'`?\n",
    "\n"
   ]
  },
  {
   "cell_type": "code",
   "execution_count": 5,
   "metadata": {},
   "outputs": [
    {
     "name": "stdout",
     "output_type": "stream",
     "text": [
      "If true, then ham is a substring of Chameleon: True\n",
      "If true, then hello is a substring of goodbye: False\n"
     ]
    }
   ],
   "source": [
    "s1 = 'Chameleon'\n",
    "s2 = 'ham'\n",
    "print(\"If true, then ham is a substring of Chameleon:\", s2 in s1)\n",
    "print(\"If true, then hello is a substring of goodbye:\",'hello' in 'goodbye')"
   ]
  },
  {
   "cell_type": "markdown",
   "metadata": {},
   "source": [
    "> **Ex. 2.1.2**: From the string `s1` select the last four characters. What is the index of the character `a` in `s1`?\n",
    "\n",
    "> *Hint*: We can selecting a substring by slicing it with the `[]` notation, from the start to end where start is included and end is excluded. Recall that Python has zero-based indexing, see explanation [here](https://softwareengineering.stackexchange.com/questions/110804/why-are-zero-based-arrays-the-norm).\n"
   ]
  },
  {
   "cell_type": "code",
   "execution_count": 29,
   "metadata": {},
   "outputs": [
    {
     "name": "stdout",
     "output_type": "stream",
     "text": [
      "leon\n",
      "2\n"
     ]
    }
   ],
   "source": [
    "print(s1[-4:])\n",
    "print(s1.find('a'))"
   ]
  },
  {
   "cell_type": "markdown",
   "metadata": {},
   "source": [
    "#### More string operations \n",
    "In addition to the techniques above strings are equipped with an array of _methods_, for solving more complex tasks. For example the `str.join(list)` method will insert a string in between each element of a list. Oppositely `str1.split(str2)` splits `str1` into a list. `.strip()` removes spaces in the beginning and end of a word and the f-string fills in specified blanks in a string.  Below we illustrate the use of each function\n",
    "\n",
    "```python\n",
    ">>> \" \".join(['Hello', 'World!']) \n",
    "'Hello World!'\n",
    "\n",
    ">>> ' Hello World!   '.strip() \n",
    "'Hello World!'\n",
    "\n",
    ">>> w = 'World'\n",
    ">>> f'Hello {w}' \n",
    "'Hello World!'\n",
    "\n",
    ">>> 'a,b,c'.split(',') \n",
    "['a','b','c']\n",
    "```"
   ]
  },
  {
   "cell_type": "markdown",
   "metadata": {},
   "source": [
    "> **Ex. 2.1.3:** Use the `join()` and `strip()` functions to retrieve the sentence `The quick brown fox jumps over the lazy dog` from the list  `list_of_words` in the code cell below."
   ]
  },
  {
   "cell_type": "code",
   "execution_count": 38,
   "metadata": {},
   "outputs": [
    {
     "name": "stdout",
     "output_type": "stream",
     "text": [
      "The quick brown fox jumps over the lazy dog\n"
     ]
    }
   ],
   "source": [
    "list_of_words = ['       The        ', '   quick   ', '     brown      ',\n",
    "                 ' fox          ', '          jumps     ', '   over ',\n",
    "                 '          the   ', '  lazy     ', '          dog     ']\n",
    "list_of_words2 = []\n",
    "\n",
    "for i in list_of_words:\n",
    "    list_of_words2.append(i.strip())\n",
    "    sentence213 = \" \".join(list_of_words2)\n",
    "print(sentence213)"
   ]
  },
  {
   "cell_type": "markdown",
   "metadata": {},
   "source": [
    "> **Ex. 2.1.4:** Let `l1 = ['r ', 'Is', '>', ' < ', 'g ', '?']`. Create from `l1` the sentence \"Is r > g?\" using your knowledge about string formatting. Make sure there is only one space in between worlds.\n",
    ">\n",
    ">> _Hint:_ You should be able to combine the above informations to solve this exercise."
   ]
  },
  {
   "cell_type": "code",
   "execution_count": 71,
   "metadata": {},
   "outputs": [
    {
     "name": "stdout",
     "output_type": "stream",
     "text": [
      "Is r > g?\n",
      "Is r > g?\n"
     ]
    }
   ],
   "source": [
    "l1 = ['r ', 'Is', '>', ' < ', 'g ', '?']\n",
    "l11 = []\n",
    "\n",
    "for i in l1:\n",
    "    l11.append(i.strip())\n",
    "\n",
    "#two ways. Remember indexing from 0\n",
    "print(l11[1] + ' ' + l11[0] + ' ' + l11[2] + ' ' + l11[4] + l11[5])\n",
    "print(' '.join((l11[1], l11[0], l11[2], l11[4])) + l11[5])"
   ]
  },
  {
   "cell_type": "code",
   "execution_count": 6,
   "metadata": {},
   "outputs": [],
   "source": [
    "# HANDIN"
   ]
  },
  {
   "cell_type": "markdown",
   "metadata": {
    "slideshow": {
     "slide_type": "slide"
    }
   },
   "source": [
    "# Saving as text file\n",
    "We saw in Assignment 0 that we could output tabular data as CSV file. This file is essentially a text file with specific structure that allows a computer to identify rows and columns. In the example below we will learn how to actually save a string directly as a text file. Note how we make line break using `\\n` - this is a string escape sequence, read more [here](https://docs.python.org/3/reference/lexical_analysis.html#literals)"
   ]
  },
  {
   "cell_type": "code",
   "execution_count": 73,
   "metadata": {
    "slideshow": {
     "slide_type": "fragment"
    }
   },
   "outputs": [],
   "source": [
    "my_str = 'This is important...'\n",
    "my_str2 = 'Written in Python!'\n",
    "escape_seq = '\\n'\n",
    "\n",
    "with open('my_file.txt', 'w') as f:\n",
    "    f.write(my_str+escape_seq+my_str2)"
   ]
  },
  {
   "cell_type": "markdown",
   "metadata": {
    "slideshow": {
     "slide_type": "fragment"
    }
   },
   "source": [
    "The code below opens the text file and prints the string."
   ]
  },
  {
   "cell_type": "code",
   "execution_count": 74,
   "metadata": {
    "slideshow": {
     "slide_type": "fragment"
    }
   },
   "outputs": [
    {
     "name": "stdout",
     "output_type": "stream",
     "text": [
      "This is important...\n",
      "Written in Python!\n"
     ]
    }
   ],
   "source": [
    "with open('my_file.txt', 'r') as f:    \n",
    "    print(f.read())"
   ]
  },
  {
   "cell_type": "markdown",
   "metadata": {},
   "source": [
    "> **Ex. 2.1.5:** Create a .txt file called `to_do_list.txt` with a to-do list by looping over the list `to_do = ['1. Hit the gym', '2. Pay bills', '3. Meet George', '4. Buy eggs', '5. Read a book']` and writing each element on a seperate line."
   ]
  },
  {
   "cell_type": "code",
   "execution_count": 7,
   "metadata": {},
   "outputs": [
    {
     "name": "stdout",
     "output_type": "stream",
     "text": [
      "1. Hit the gym\n",
      "2. Pay bills\n",
      "3. Meet George\n",
      "4. Buy eggs\n",
      "5. Read a book\n",
      "\n"
     ]
    }
   ],
   "source": [
    "to_do = ['1. Hit the gym', '2. Pay bills', '3. Meet George', '4. Buy eggs', '5. Read a book']\n",
    "escape_seq = '\\n'\n",
    "\n",
    "with open('to_do_list.txt', 'w') as f:\n",
    "    for i in to_do:\n",
    "        f.write(i+escape_seq)\n",
    "    \n",
    "with open('to_do_list.txt', 'r') as f:    \n",
    "    print(f.read())"
   ]
  },
  {
   "cell_type": "markdown",
   "metadata": {},
   "source": [
    "## Dictionaries\n",
    "\n",
    "Dictionaries (or simply `dict`) are a central building block of python. Python dicts are constructed from pairs of keys and values making them extremely versatile for data storage. Like list they can contain deep nested structures, e.g. dict of dicts of lists.\n",
    "\n",
    "Try running the code below, where the keys are strings (names from recent Danish prime ministers) and values are also strings (e.g. political affiliation):"
   ]
  },
  {
   "cell_type": "code",
   "execution_count": 78,
   "metadata": {
    "slideshow": {
     "slide_type": "-"
    }
   },
   "outputs": [
    {
     "name": "stdout",
     "output_type": "stream",
     "text": [
      "Socialdemokratiet\n"
     ]
    }
   ],
   "source": [
    "my_dict1 = {'Anders': \"Venstre\",\n",
    "            'Helle': \"Socialdemokratiet\",\n",
    "            'Lars': \"Venstre\",\n",
    "            'Mette': \"Socialdemokratiet\"}\n",
    "\n",
    "print(my_dict1['Mette'])"
   ]
  },
  {
   "cell_type": "markdown",
   "metadata": {
    "slideshow": {
     "slide_type": "slide"
    }
   },
   "source": [
    "Dictionaries can also be constructed from two associated lists. These are tied together with the `zip` function. Try the following code:"
   ]
  },
  {
   "cell_type": "code",
   "execution_count": 43,
   "metadata": {
    "slideshow": {
     "slide_type": "-"
    }
   },
   "outputs": [
    {
     "data": {
      "text/plain": [
       "{'a': 2, 'b': 3, 'c': 4}"
      ]
     },
     "execution_count": 43,
     "metadata": {},
     "output_type": "execute_result"
    }
   ],
   "source": [
    "keys = ['a', 'b', 'c']\n",
    "values = list(range(2,5))\n",
    "\n",
    "key_value_pairs = list(zip(keys, values))\n",
    "\n",
    "my_dict2 = dict(key_value_pairs)\n",
    "my_dict2"
   ]
  },
  {
   "cell_type": "markdown",
   "metadata": {},
   "source": [
    "> **Ex. 2.1.6**: Create an empty dictionary `words` using the `dict()`function. Then add each of the words in `['animal', 'coffee', 'python', 'unit', 'knowledge', 'tread', 'arise']` as a key, with the value being a boolean indicator for whether the word begins with a vowel. The results should look like `{'bacon': False, 'asynchronous': True ...}`\n",
    ">\n",
    ">> _Hint:_ You might want co first construct a function that asseses whether a given word begins with a vowel or not."
   ]
  },
  {
   "cell_type": "code",
   "execution_count": 33,
   "metadata": {},
   "outputs": [
    {
     "name": "stdout",
     "output_type": "stream",
     "text": [
      "[True, False, False, True, False, False, True]\n"
     ]
    },
    {
     "data": {
      "text/plain": [
       "{'animal': True,\n",
       " 'coffee': False,\n",
       " 'python': False,\n",
       " 'unit': True,\n",
       " 'knowledge': False,\n",
       " 'tread': False,\n",
       " 'arise': True}"
      ]
     },
     "execution_count": 33,
     "metadata": {},
     "output_type": "execute_result"
    }
   ],
   "source": [
    "words = dict() #empty dictionary\n",
    "keys = ['animal', 'coffee', 'python', 'unit', 'knowledge', 'tread', 'arise']\n",
    "values = []\n",
    "\n",
    "# Function to determine if the first letter is a vowel\n",
    "def isvowel(char):\n",
    "    return char in 'aeiou'\n",
    "\n",
    "for i in range(len(keys)):\n",
    "    values.append(isvowel(W[i][0]))\n",
    "print(values)\n",
    "\n",
    "#Tie keys and values together\n",
    "key_value_pairs = list(zip(keys, values))\n",
    "\n",
    "words = dict(key_value_pairs)\n",
    "words"
   ]
  },
  {
   "cell_type": "code",
   "execution_count": 9,
   "metadata": {},
   "outputs": [],
   "source": [
    "# HANDIN"
   ]
  },
  {
   "cell_type": "markdown",
   "metadata": {},
   "source": [
    "> **Ex. 2.1.7:** Loop through the dictionary `words`. In each iteration you should print a proper sentence stating if the current word begins with a vowel or not. \n",
    "\n",
    "> _Hint:_ You can loop through both keys and values simultaneously with the `.items()` method. [This](https://www.tutorialspoint.com/python/python_dictionary.htm) might help you."
   ]
  },
  {
   "cell_type": "code",
   "execution_count": 41,
   "metadata": {},
   "outputs": [
    {
     "name": "stdout",
     "output_type": "stream",
     "text": [
      "animal does not begin with a vowel\n",
      "coffee does not begin with a vowel\n",
      "python does not begin with a vowel\n",
      "unit does not begin with a vowel\n",
      "knowledge does not begin with a vowel\n",
      "tread does not begin with a vowel\n",
      "arise does not begin with a vowel\n"
     ]
    }
   ],
   "source": [
    "for keys, values in words.items():\n",
    "    if values == \"True\": \n",
    "        print(f'{keys} begins with a vowel')\n",
    "    else:\n",
    "        print(f'{keys} does not begin with a vowel')"
   ]
  },
  {
   "cell_type": "markdown",
   "metadata": {
    "slideshow": {
     "slide_type": "slide"
    }
   },
   "source": [
    "## Storing Python containers\n",
    "\n",
    "You might wonder does there exist a file format for easy storage of Python containers?\n",
    "\n",
    "Yes, the immensely popular JSON file format, which can store lists and dictionaries. The advantage is that JSON uses the same syntax as Python lists and dictionaries! The only thing we need to add are quotation marks, see example: \n",
    "\n",
    "- Python dict: `{\"a\":1,\"b\":1}`\n",
    "- JSON: `'{\"a\":1,\"b\":1}'`"
   ]
  },
  {
   "cell_type": "markdown",
   "metadata": {
    "slideshow": {
     "slide_type": "slide"
    }
   },
   "source": [
    "The popularity of JSON comes from the fact that it can hold any list or dictionary of any depth which the three fundamental data types: float, int, str. It does not work well with other formats, but in essence it can hold any form of structured data, e.g. text data, spatial data (GeoJSON) etc.\n",
    "\n",
    "The code example below uses the JSON module to save our dictionary. We use a trick by first converting the JSON file to a string. This can be done with the function `dumps` in the module `json`:"
   ]
  },
  {
   "cell_type": "code",
   "execution_count": 50,
   "metadata": {},
   "outputs": [
    {
     "name": "stdout",
     "output_type": "stream",
     "text": [
      "{\"a\": 2, \"b\": 3, \"c\": 4}\n"
     ]
    }
   ],
   "source": [
    "import json\n",
    "with open('my_file.JSON', 'w') as f:\n",
    "    my_json_str = json.dumps(my_dict2) # convert dictonary to string with JSON formatting\n",
    "    f.write(my_json_str) # write the string to file\n",
    "\n",
    "with open('my_file.JSON', 'r') as f:\n",
    "    print(f.read()) # read the string from file"
   ]
  },
  {
   "cell_type": "markdown",
   "metadata": {},
   "source": [
    "<br>\n",
    "\n",
    "# Python and the web\n",
    "\n",
    "The internet is a massive source for collecting data. Watch the video below to get an overview of the most fundamental protocols and how we work with them."
   ]
  },
  {
   "cell_type": "code",
   "execution_count": 150,
   "metadata": {},
   "outputs": [
    {
     "data": {
      "image/jpeg": "[encoded data removed]",
      "text/html": [
       "\n",
       "        <iframe\n",
       "            width=\"640\"\n",
       "            height=\"360\"\n",
       "            src=\"https://www.youtube.com/embed/vfn6zLmIyUY\"\n",
       "            frameborder=\"0\"\n",
       "            allowfullscreen\n",
       "        ></iframe>\n",
       "        "
      ],
      "text/plain": [
       "<IPython.lib.display.YouTubeVideo at 0x134cdd9dd30>"
      ]
     },
     "execution_count": 150,
     "metadata": {},
     "output_type": "execute_result"
    }
   ],
   "source": [
    "YouTubeVideo('vfn6zLmIyUY', width=640, height=360)"
   ]
  },
  {
   "cell_type": "markdown",
   "metadata": {
    "slideshow": {
     "slide_type": "slide"
    }
   },
   "source": [
    "## Application Programming Interface (API)\n",
    "\n",
    "APIs are protocols that allow us to request information and/or services from the provider of the API. In this course, we are mainly interested in APIs that provide data as a response to our requests. Watch the video below to get a sense of what APIs exist and how they work."
   ]
  },
  {
   "cell_type": "code",
   "execution_count": 151,
   "metadata": {},
   "outputs": [
    {
     "data": {
      "image/jpeg": "[encoded data removed]",
      "text/html": [
       "\n",
       "        <iframe\n",
       "            width=\"640\"\n",
       "            height=\"360\"\n",
       "            src=\"https://www.youtube.com/embed/abQl_BD-rQo\"\n",
       "            frameborder=\"0\"\n",
       "            allowfullscreen\n",
       "        ></iframe>\n",
       "        "
      ],
      "text/plain": [
       "<IPython.lib.display.YouTubeVideo at 0x134cdd9db80>"
      ]
     },
     "execution_count": 151,
     "metadata": {},
     "output_type": "execute_result"
    }
   ],
   "source": [
    "YouTubeVideo('abQl_BD-rQo', width=640, height=360)"
   ]
  },
  {
   "cell_type": "markdown",
   "metadata": {},
   "source": [
    "#### Building the queries\n",
    "We will now move on to understanding how we can interact with a web API in Python. First we will see how to build a query, which simply a web address. By typing in a specific web address the web server will receive information from us.\n",
    "\n",
    "In the example below we build a URL that allows us to check out which repositories Andreas BN has publicly available."
   ]
  },
  {
   "cell_type": "code",
   "execution_count": 51,
   "metadata": {
    "slideshow": {
     "slide_type": "fragment"
    }
   },
   "outputs": [
    {
     "name": "stdout",
     "output_type": "stream",
     "text": [
      "https://api.github.com/users/abjer/repos\n"
     ]
    }
   ],
   "source": [
    "server_url = 'https://api.github.com'\n",
    "endpoint_path = '/users/abjer/repos'\n",
    "url = server_url + endpoint_path\n",
    "print(url)"
   ]
  },
  {
   "cell_type": "markdown",
   "metadata": {
    "slideshow": {
     "slide_type": "slide"
    }
   },
   "source": [
    "#### Sending the query\n",
    "Python has a smart module, named `requests`, that allows us to interact with the web. When we request a URL we get a response in return. Among other things it allows us to inspect the HTML code. In the example below we query the URL for the GitHub API we made above. "
   ]
  },
  {
   "cell_type": "code",
   "execution_count": 49,
   "metadata": {
    "slideshow": {
     "slide_type": "fragment"
    }
   },
   "outputs": [
    {
     "ename": "ConnectionError",
     "evalue": "HTTPSConnectionPool(host='api.github.com', port=443): Max retries exceeded with url: /users/abjer/repos (Caused by NewConnectionError('<urllib3.connection.HTTPSConnection object at 0x000002582AB5EE80>: Failed to establish a new connection: [Errno 11001] getaddrinfo failed'))",
     "output_type": "error",
     "traceback": [
      "\u001b[1;31m---------------------------------------------------------------------------\u001b[0m",
      "\u001b[1;31mgaierror\u001b[0m                                  Traceback (most recent call last)",
      "\u001b[1;32m~\\anaconda3\\lib\\site-packages\\urllib3\\connection.py\u001b[0m in \u001b[0;36m_new_conn\u001b[1;34m(self)\u001b[0m\n\u001b[0;32m    158\u001b[0m         \u001b[1;32mtry\u001b[0m\u001b[1;33m:\u001b[0m\u001b[1;33m\u001b[0m\u001b[1;33m\u001b[0m\u001b[0m\n\u001b[1;32m--> 159\u001b[1;33m             conn = connection.create_connection(\n\u001b[0m\u001b[0;32m    160\u001b[0m                 \u001b[1;33m(\u001b[0m\u001b[0mself\u001b[0m\u001b[1;33m.\u001b[0m\u001b[0m_dns_host\u001b[0m\u001b[1;33m,\u001b[0m \u001b[0mself\u001b[0m\u001b[1;33m.\u001b[0m\u001b[0mport\u001b[0m\u001b[1;33m)\u001b[0m\u001b[1;33m,\u001b[0m \u001b[0mself\u001b[0m\u001b[1;33m.\u001b[0m\u001b[0mtimeout\u001b[0m\u001b[1;33m,\u001b[0m \u001b[1;33m**\u001b[0m\u001b[0mextra_kw\u001b[0m\u001b[1;33m\u001b[0m\u001b[1;33m\u001b[0m\u001b[0m\n",
      "\u001b[1;32m~\\anaconda3\\lib\\site-packages\\urllib3\\util\\connection.py\u001b[0m in \u001b[0;36mcreate_connection\u001b[1;34m(address, timeout, source_address, socket_options)\u001b[0m\n\u001b[0;32m     60\u001b[0m \u001b[1;33m\u001b[0m\u001b[0m\n\u001b[1;32m---> 61\u001b[1;33m     \u001b[1;32mfor\u001b[0m \u001b[0mres\u001b[0m \u001b[1;32min\u001b[0m \u001b[0msocket\u001b[0m\u001b[1;33m.\u001b[0m\u001b[0mgetaddrinfo\u001b[0m\u001b[1;33m(\u001b[0m\u001b[0mhost\u001b[0m\u001b[1;33m,\u001b[0m \u001b[0mport\u001b[0m\u001b[1;33m,\u001b[0m \u001b[0mfamily\u001b[0m\u001b[1;33m,\u001b[0m \u001b[0msocket\u001b[0m\u001b[1;33m.\u001b[0m\u001b[0mSOCK_STREAM\u001b[0m\u001b[1;33m)\u001b[0m\u001b[1;33m:\u001b[0m\u001b[1;33m\u001b[0m\u001b[1;33m\u001b[0m\u001b[0m\n\u001b[0m\u001b[0;32m     62\u001b[0m         \u001b[0maf\u001b[0m\u001b[1;33m,\u001b[0m \u001b[0msocktype\u001b[0m\u001b[1;33m,\u001b[0m \u001b[0mproto\u001b[0m\u001b[1;33m,\u001b[0m \u001b[0mcanonname\u001b[0m\u001b[1;33m,\u001b[0m \u001b[0msa\u001b[0m \u001b[1;33m=\u001b[0m \u001b[0mres\u001b[0m\u001b[1;33m\u001b[0m\u001b[1;33m\u001b[0m\u001b[0m\n",
      "\u001b[1;32m~\\anaconda3\\lib\\socket.py\u001b[0m in \u001b[0;36mgetaddrinfo\u001b[1;34m(host, port, family, type, proto, flags)\u001b[0m\n\u001b[0;32m    917\u001b[0m     \u001b[0maddrlist\u001b[0m \u001b[1;33m=\u001b[0m \u001b[1;33m[\u001b[0m\u001b[1;33m]\u001b[0m\u001b[1;33m\u001b[0m\u001b[1;33m\u001b[0m\u001b[0m\n\u001b[1;32m--> 918\u001b[1;33m     \u001b[1;32mfor\u001b[0m \u001b[0mres\u001b[0m \u001b[1;32min\u001b[0m \u001b[0m_socket\u001b[0m\u001b[1;33m.\u001b[0m\u001b[0mgetaddrinfo\u001b[0m\u001b[1;33m(\u001b[0m\u001b[0mhost\u001b[0m\u001b[1;33m,\u001b[0m \u001b[0mport\u001b[0m\u001b[1;33m,\u001b[0m \u001b[0mfamily\u001b[0m\u001b[1;33m,\u001b[0m \u001b[0mtype\u001b[0m\u001b[1;33m,\u001b[0m \u001b[0mproto\u001b[0m\u001b[1;33m,\u001b[0m \u001b[0mflags\u001b[0m\u001b[1;33m)\u001b[0m\u001b[1;33m:\u001b[0m\u001b[1;33m\u001b[0m\u001b[1;33m\u001b[0m\u001b[0m\n\u001b[0m\u001b[0;32m    919\u001b[0m         \u001b[0maf\u001b[0m\u001b[1;33m,\u001b[0m \u001b[0msocktype\u001b[0m\u001b[1;33m,\u001b[0m \u001b[0mproto\u001b[0m\u001b[1;33m,\u001b[0m \u001b[0mcanonname\u001b[0m\u001b[1;33m,\u001b[0m \u001b[0msa\u001b[0m \u001b[1;33m=\u001b[0m \u001b[0mres\u001b[0m\u001b[1;33m\u001b[0m\u001b[1;33m\u001b[0m\u001b[0m\n",
      "\u001b[1;31mgaierror\u001b[0m: [Errno 11001] getaddrinfo failed",
      "\nDuring handling of the above exception, another exception occurred:\n",
      "\u001b[1;31mNewConnectionError\u001b[0m                        Traceback (most recent call last)",
      "\u001b[1;32m~\\anaconda3\\lib\\site-packages\\urllib3\\connectionpool.py\u001b[0m in \u001b[0;36murlopen\u001b[1;34m(self, method, url, body, headers, retries, redirect, assert_same_host, timeout, pool_timeout, release_conn, chunked, body_pos, **response_kw)\u001b[0m\n\u001b[0;32m    669\u001b[0m             \u001b[1;31m# Make the request on the httplib connection object.\u001b[0m\u001b[1;33m\u001b[0m\u001b[1;33m\u001b[0m\u001b[1;33m\u001b[0m\u001b[0m\n\u001b[1;32m--> 670\u001b[1;33m             httplib_response = self._make_request(\n\u001b[0m\u001b[0;32m    671\u001b[0m                 \u001b[0mconn\u001b[0m\u001b[1;33m,\u001b[0m\u001b[1;33m\u001b[0m\u001b[1;33m\u001b[0m\u001b[0m\n",
      "\u001b[1;32m~\\anaconda3\\lib\\site-packages\\urllib3\\connectionpool.py\u001b[0m in \u001b[0;36m_make_request\u001b[1;34m(self, conn, method, url, timeout, chunked, **httplib_request_kw)\u001b[0m\n\u001b[0;32m    380\u001b[0m         \u001b[1;32mtry\u001b[0m\u001b[1;33m:\u001b[0m\u001b[1;33m\u001b[0m\u001b[1;33m\u001b[0m\u001b[0m\n\u001b[1;32m--> 381\u001b[1;33m             \u001b[0mself\u001b[0m\u001b[1;33m.\u001b[0m\u001b[0m_validate_conn\u001b[0m\u001b[1;33m(\u001b[0m\u001b[0mconn\u001b[0m\u001b[1;33m)\u001b[0m\u001b[1;33m\u001b[0m\u001b[1;33m\u001b[0m\u001b[0m\n\u001b[0m\u001b[0;32m    382\u001b[0m         \u001b[1;32mexcept\u001b[0m \u001b[1;33m(\u001b[0m\u001b[0mSocketTimeout\u001b[0m\u001b[1;33m,\u001b[0m \u001b[0mBaseSSLError\u001b[0m\u001b[1;33m)\u001b[0m \u001b[1;32mas\u001b[0m \u001b[0me\u001b[0m\u001b[1;33m:\u001b[0m\u001b[1;33m\u001b[0m\u001b[1;33m\u001b[0m\u001b[0m\n",
      "\u001b[1;32m~\\anaconda3\\lib\\site-packages\\urllib3\\connectionpool.py\u001b[0m in \u001b[0;36m_validate_conn\u001b[1;34m(self, conn)\u001b[0m\n\u001b[0;32m    975\u001b[0m         \u001b[1;32mif\u001b[0m \u001b[1;32mnot\u001b[0m \u001b[0mgetattr\u001b[0m\u001b[1;33m(\u001b[0m\u001b[0mconn\u001b[0m\u001b[1;33m,\u001b[0m \u001b[1;34m\"sock\"\u001b[0m\u001b[1;33m,\u001b[0m \u001b[1;32mNone\u001b[0m\u001b[1;33m)\u001b[0m\u001b[1;33m:\u001b[0m  \u001b[1;31m# AppEngine might not have  `.sock`\u001b[0m\u001b[1;33m\u001b[0m\u001b[1;33m\u001b[0m\u001b[0m\n\u001b[1;32m--> 976\u001b[1;33m             \u001b[0mconn\u001b[0m\u001b[1;33m.\u001b[0m\u001b[0mconnect\u001b[0m\u001b[1;33m(\u001b[0m\u001b[1;33m)\u001b[0m\u001b[1;33m\u001b[0m\u001b[1;33m\u001b[0m\u001b[0m\n\u001b[0m\u001b[0;32m    977\u001b[0m \u001b[1;33m\u001b[0m\u001b[0m\n",
      "\u001b[1;32m~\\anaconda3\\lib\\site-packages\\urllib3\\connection.py\u001b[0m in \u001b[0;36mconnect\u001b[1;34m(self)\u001b[0m\n\u001b[0;32m    307\u001b[0m         \u001b[1;31m# Add certificate verification\u001b[0m\u001b[1;33m\u001b[0m\u001b[1;33m\u001b[0m\u001b[1;33m\u001b[0m\u001b[0m\n\u001b[1;32m--> 308\u001b[1;33m         \u001b[0mconn\u001b[0m \u001b[1;33m=\u001b[0m \u001b[0mself\u001b[0m\u001b[1;33m.\u001b[0m\u001b[0m_new_conn\u001b[0m\u001b[1;33m(\u001b[0m\u001b[1;33m)\u001b[0m\u001b[1;33m\u001b[0m\u001b[1;33m\u001b[0m\u001b[0m\n\u001b[0m\u001b[0;32m    309\u001b[0m         \u001b[0mhostname\u001b[0m \u001b[1;33m=\u001b[0m \u001b[0mself\u001b[0m\u001b[1;33m.\u001b[0m\u001b[0mhost\u001b[0m\u001b[1;33m\u001b[0m\u001b[1;33m\u001b[0m\u001b[0m\n",
      "\u001b[1;32m~\\anaconda3\\lib\\site-packages\\urllib3\\connection.py\u001b[0m in \u001b[0;36m_new_conn\u001b[1;34m(self)\u001b[0m\n\u001b[0;32m    170\u001b[0m         \u001b[1;32mexcept\u001b[0m \u001b[0mSocketError\u001b[0m \u001b[1;32mas\u001b[0m \u001b[0me\u001b[0m\u001b[1;33m:\u001b[0m\u001b[1;33m\u001b[0m\u001b[1;33m\u001b[0m\u001b[0m\n\u001b[1;32m--> 171\u001b[1;33m             raise NewConnectionError(\n\u001b[0m\u001b[0;32m    172\u001b[0m                 \u001b[0mself\u001b[0m\u001b[1;33m,\u001b[0m \u001b[1;34m\"Failed to establish a new connection: %s\"\u001b[0m \u001b[1;33m%\u001b[0m \u001b[0me\u001b[0m\u001b[1;33m\u001b[0m\u001b[1;33m\u001b[0m\u001b[0m\n",
      "\u001b[1;31mNewConnectionError\u001b[0m: <urllib3.connection.HTTPSConnection object at 0x000002582AB5EE80>: Failed to establish a new connection: [Errno 11001] getaddrinfo failed",
      "\nDuring handling of the above exception, another exception occurred:\n",
      "\u001b[1;31mMaxRetryError\u001b[0m                             Traceback (most recent call last)",
      "\u001b[1;32m~\\anaconda3\\lib\\site-packages\\requests\\adapters.py\u001b[0m in \u001b[0;36msend\u001b[1;34m(self, request, stream, timeout, verify, cert, proxies)\u001b[0m\n\u001b[0;32m    438\u001b[0m             \u001b[1;32mif\u001b[0m \u001b[1;32mnot\u001b[0m \u001b[0mchunked\u001b[0m\u001b[1;33m:\u001b[0m\u001b[1;33m\u001b[0m\u001b[1;33m\u001b[0m\u001b[0m\n\u001b[1;32m--> 439\u001b[1;33m                 resp = conn.urlopen(\n\u001b[0m\u001b[0;32m    440\u001b[0m                     \u001b[0mmethod\u001b[0m\u001b[1;33m=\u001b[0m\u001b[0mrequest\u001b[0m\u001b[1;33m.\u001b[0m\u001b[0mmethod\u001b[0m\u001b[1;33m,\u001b[0m\u001b[1;33m\u001b[0m\u001b[1;33m\u001b[0m\u001b[0m\n",
      "\u001b[1;32m~\\anaconda3\\lib\\site-packages\\urllib3\\connectionpool.py\u001b[0m in \u001b[0;36murlopen\u001b[1;34m(self, method, url, body, headers, retries, redirect, assert_same_host, timeout, pool_timeout, release_conn, chunked, body_pos, **response_kw)\u001b[0m\n\u001b[0;32m    723\u001b[0m \u001b[1;33m\u001b[0m\u001b[0m\n\u001b[1;32m--> 724\u001b[1;33m             retries = retries.increment(\n\u001b[0m\u001b[0;32m    725\u001b[0m                 \u001b[0mmethod\u001b[0m\u001b[1;33m,\u001b[0m \u001b[0murl\u001b[0m\u001b[1;33m,\u001b[0m \u001b[0merror\u001b[0m\u001b[1;33m=\u001b[0m\u001b[0me\u001b[0m\u001b[1;33m,\u001b[0m \u001b[0m_pool\u001b[0m\u001b[1;33m=\u001b[0m\u001b[0mself\u001b[0m\u001b[1;33m,\u001b[0m \u001b[0m_stacktrace\u001b[0m\u001b[1;33m=\u001b[0m\u001b[0msys\u001b[0m\u001b[1;33m.\u001b[0m\u001b[0mexc_info\u001b[0m\u001b[1;33m(\u001b[0m\u001b[1;33m)\u001b[0m\u001b[1;33m[\u001b[0m\u001b[1;36m2\u001b[0m\u001b[1;33m]\u001b[0m\u001b[1;33m\u001b[0m\u001b[1;33m\u001b[0m\u001b[0m\n",
      "\u001b[1;32m~\\anaconda3\\lib\\site-packages\\urllib3\\util\\retry.py\u001b[0m in \u001b[0;36mincrement\u001b[1;34m(self, method, url, response, error, _pool, _stacktrace)\u001b[0m\n\u001b[0;32m    438\u001b[0m         \u001b[1;32mif\u001b[0m \u001b[0mnew_retry\u001b[0m\u001b[1;33m.\u001b[0m\u001b[0mis_exhausted\u001b[0m\u001b[1;33m(\u001b[0m\u001b[1;33m)\u001b[0m\u001b[1;33m:\u001b[0m\u001b[1;33m\u001b[0m\u001b[1;33m\u001b[0m\u001b[0m\n\u001b[1;32m--> 439\u001b[1;33m             \u001b[1;32mraise\u001b[0m \u001b[0mMaxRetryError\u001b[0m\u001b[1;33m(\u001b[0m\u001b[0m_pool\u001b[0m\u001b[1;33m,\u001b[0m \u001b[0murl\u001b[0m\u001b[1;33m,\u001b[0m \u001b[0merror\u001b[0m \u001b[1;32mor\u001b[0m \u001b[0mResponseError\u001b[0m\u001b[1;33m(\u001b[0m\u001b[0mcause\u001b[0m\u001b[1;33m)\u001b[0m\u001b[1;33m)\u001b[0m\u001b[1;33m\u001b[0m\u001b[1;33m\u001b[0m\u001b[0m\n\u001b[0m\u001b[0;32m    440\u001b[0m \u001b[1;33m\u001b[0m\u001b[0m\n",
      "\u001b[1;31mMaxRetryError\u001b[0m: HTTPSConnectionPool(host='api.github.com', port=443): Max retries exceeded with url: /users/abjer/repos (Caused by NewConnectionError('<urllib3.connection.HTTPSConnection object at 0x000002582AB5EE80>: Failed to establish a new connection: [Errno 11001] getaddrinfo failed'))",
      "\nDuring handling of the above exception, another exception occurred:\n",
      "\u001b[1;31mConnectionError\u001b[0m                           Traceback (most recent call last)",
      "\u001b[1;32m<ipython-input-49-e075ce272b82>\u001b[0m in \u001b[0;36m<module>\u001b[1;34m\u001b[0m\n\u001b[0;32m      1\u001b[0m \u001b[1;32mimport\u001b[0m \u001b[0mrequests\u001b[0m \u001b[1;31m# import the module requests\u001b[0m\u001b[1;33m\u001b[0m\u001b[1;33m\u001b[0m\u001b[0m\n\u001b[1;32m----> 2\u001b[1;33m \u001b[0mresponse\u001b[0m \u001b[1;33m=\u001b[0m \u001b[0mrequests\u001b[0m\u001b[1;33m.\u001b[0m\u001b[0mget\u001b[0m\u001b[1;33m(\u001b[0m\u001b[0murl\u001b[0m\u001b[1;33m)\u001b[0m \u001b[1;31m# submit query with `get` and save response as object\u001b[0m\u001b[1;33m\u001b[0m\u001b[1;33m\u001b[0m\u001b[0m\n\u001b[0m",
      "\u001b[1;32m~\\anaconda3\\lib\\site-packages\\requests\\api.py\u001b[0m in \u001b[0;36mget\u001b[1;34m(url, params, **kwargs)\u001b[0m\n\u001b[0;32m     74\u001b[0m \u001b[1;33m\u001b[0m\u001b[0m\n\u001b[0;32m     75\u001b[0m     \u001b[0mkwargs\u001b[0m\u001b[1;33m.\u001b[0m\u001b[0msetdefault\u001b[0m\u001b[1;33m(\u001b[0m\u001b[1;34m'allow_redirects'\u001b[0m\u001b[1;33m,\u001b[0m \u001b[1;32mTrue\u001b[0m\u001b[1;33m)\u001b[0m\u001b[1;33m\u001b[0m\u001b[1;33m\u001b[0m\u001b[0m\n\u001b[1;32m---> 76\u001b[1;33m     \u001b[1;32mreturn\u001b[0m \u001b[0mrequest\u001b[0m\u001b[1;33m(\u001b[0m\u001b[1;34m'get'\u001b[0m\u001b[1;33m,\u001b[0m \u001b[0murl\u001b[0m\u001b[1;33m,\u001b[0m \u001b[0mparams\u001b[0m\u001b[1;33m=\u001b[0m\u001b[0mparams\u001b[0m\u001b[1;33m,\u001b[0m \u001b[1;33m**\u001b[0m\u001b[0mkwargs\u001b[0m\u001b[1;33m)\u001b[0m\u001b[1;33m\u001b[0m\u001b[1;33m\u001b[0m\u001b[0m\n\u001b[0m\u001b[0;32m     77\u001b[0m \u001b[1;33m\u001b[0m\u001b[0m\n\u001b[0;32m     78\u001b[0m \u001b[1;33m\u001b[0m\u001b[0m\n",
      "\u001b[1;32m~\\anaconda3\\lib\\site-packages\\requests\\api.py\u001b[0m in \u001b[0;36mrequest\u001b[1;34m(method, url, **kwargs)\u001b[0m\n\u001b[0;32m     59\u001b[0m     \u001b[1;31m# cases, and look like a memory leak in others.\u001b[0m\u001b[1;33m\u001b[0m\u001b[1;33m\u001b[0m\u001b[1;33m\u001b[0m\u001b[0m\n\u001b[0;32m     60\u001b[0m     \u001b[1;32mwith\u001b[0m \u001b[0msessions\u001b[0m\u001b[1;33m.\u001b[0m\u001b[0mSession\u001b[0m\u001b[1;33m(\u001b[0m\u001b[1;33m)\u001b[0m \u001b[1;32mas\u001b[0m \u001b[0msession\u001b[0m\u001b[1;33m:\u001b[0m\u001b[1;33m\u001b[0m\u001b[1;33m\u001b[0m\u001b[0m\n\u001b[1;32m---> 61\u001b[1;33m         \u001b[1;32mreturn\u001b[0m \u001b[0msession\u001b[0m\u001b[1;33m.\u001b[0m\u001b[0mrequest\u001b[0m\u001b[1;33m(\u001b[0m\u001b[0mmethod\u001b[0m\u001b[1;33m=\u001b[0m\u001b[0mmethod\u001b[0m\u001b[1;33m,\u001b[0m \u001b[0murl\u001b[0m\u001b[1;33m=\u001b[0m\u001b[0murl\u001b[0m\u001b[1;33m,\u001b[0m \u001b[1;33m**\u001b[0m\u001b[0mkwargs\u001b[0m\u001b[1;33m)\u001b[0m\u001b[1;33m\u001b[0m\u001b[1;33m\u001b[0m\u001b[0m\n\u001b[0m\u001b[0;32m     62\u001b[0m \u001b[1;33m\u001b[0m\u001b[0m\n\u001b[0;32m     63\u001b[0m \u001b[1;33m\u001b[0m\u001b[0m\n",
      "\u001b[1;32m~\\anaconda3\\lib\\site-packages\\requests\\sessions.py\u001b[0m in \u001b[0;36mrequest\u001b[1;34m(self, method, url, params, data, headers, cookies, files, auth, timeout, allow_redirects, proxies, hooks, stream, verify, cert, json)\u001b[0m\n\u001b[0;32m    528\u001b[0m         }\n\u001b[0;32m    529\u001b[0m         \u001b[0msend_kwargs\u001b[0m\u001b[1;33m.\u001b[0m\u001b[0mupdate\u001b[0m\u001b[1;33m(\u001b[0m\u001b[0msettings\u001b[0m\u001b[1;33m)\u001b[0m\u001b[1;33m\u001b[0m\u001b[1;33m\u001b[0m\u001b[0m\n\u001b[1;32m--> 530\u001b[1;33m         \u001b[0mresp\u001b[0m \u001b[1;33m=\u001b[0m \u001b[0mself\u001b[0m\u001b[1;33m.\u001b[0m\u001b[0msend\u001b[0m\u001b[1;33m(\u001b[0m\u001b[0mprep\u001b[0m\u001b[1;33m,\u001b[0m \u001b[1;33m**\u001b[0m\u001b[0msend_kwargs\u001b[0m\u001b[1;33m)\u001b[0m\u001b[1;33m\u001b[0m\u001b[1;33m\u001b[0m\u001b[0m\n\u001b[0m\u001b[0;32m    531\u001b[0m \u001b[1;33m\u001b[0m\u001b[0m\n\u001b[0;32m    532\u001b[0m         \u001b[1;32mreturn\u001b[0m \u001b[0mresp\u001b[0m\u001b[1;33m\u001b[0m\u001b[1;33m\u001b[0m\u001b[0m\n",
      "\u001b[1;32m~\\anaconda3\\lib\\site-packages\\requests\\sessions.py\u001b[0m in \u001b[0;36msend\u001b[1;34m(self, request, **kwargs)\u001b[0m\n\u001b[0;32m    641\u001b[0m \u001b[1;33m\u001b[0m\u001b[0m\n\u001b[0;32m    642\u001b[0m         \u001b[1;31m# Send the request\u001b[0m\u001b[1;33m\u001b[0m\u001b[1;33m\u001b[0m\u001b[1;33m\u001b[0m\u001b[0m\n\u001b[1;32m--> 643\u001b[1;33m         \u001b[0mr\u001b[0m \u001b[1;33m=\u001b[0m \u001b[0madapter\u001b[0m\u001b[1;33m.\u001b[0m\u001b[0msend\u001b[0m\u001b[1;33m(\u001b[0m\u001b[0mrequest\u001b[0m\u001b[1;33m,\u001b[0m \u001b[1;33m**\u001b[0m\u001b[0mkwargs\u001b[0m\u001b[1;33m)\u001b[0m\u001b[1;33m\u001b[0m\u001b[1;33m\u001b[0m\u001b[0m\n\u001b[0m\u001b[0;32m    644\u001b[0m \u001b[1;33m\u001b[0m\u001b[0m\n\u001b[0;32m    645\u001b[0m         \u001b[1;31m# Total elapsed time of the request (approximately)\u001b[0m\u001b[1;33m\u001b[0m\u001b[1;33m\u001b[0m\u001b[1;33m\u001b[0m\u001b[0m\n",
      "\u001b[1;32m~\\anaconda3\\lib\\site-packages\\requests\\adapters.py\u001b[0m in \u001b[0;36msend\u001b[1;34m(self, request, stream, timeout, verify, cert, proxies)\u001b[0m\n\u001b[0;32m    514\u001b[0m                 \u001b[1;32mraise\u001b[0m \u001b[0mSSLError\u001b[0m\u001b[1;33m(\u001b[0m\u001b[0me\u001b[0m\u001b[1;33m,\u001b[0m \u001b[0mrequest\u001b[0m\u001b[1;33m=\u001b[0m\u001b[0mrequest\u001b[0m\u001b[1;33m)\u001b[0m\u001b[1;33m\u001b[0m\u001b[1;33m\u001b[0m\u001b[0m\n\u001b[0;32m    515\u001b[0m \u001b[1;33m\u001b[0m\u001b[0m\n\u001b[1;32m--> 516\u001b[1;33m             \u001b[1;32mraise\u001b[0m \u001b[0mConnectionError\u001b[0m\u001b[1;33m(\u001b[0m\u001b[0me\u001b[0m\u001b[1;33m,\u001b[0m \u001b[0mrequest\u001b[0m\u001b[1;33m=\u001b[0m\u001b[0mrequest\u001b[0m\u001b[1;33m)\u001b[0m\u001b[1;33m\u001b[0m\u001b[1;33m\u001b[0m\u001b[0m\n\u001b[0m\u001b[0;32m    517\u001b[0m \u001b[1;33m\u001b[0m\u001b[0m\n\u001b[0;32m    518\u001b[0m         \u001b[1;32mexcept\u001b[0m \u001b[0mClosedPoolError\u001b[0m \u001b[1;32mas\u001b[0m \u001b[0me\u001b[0m\u001b[1;33m:\u001b[0m\u001b[1;33m\u001b[0m\u001b[1;33m\u001b[0m\u001b[0m\n",
      "\u001b[1;31mConnectionError\u001b[0m: HTTPSConnectionPool(host='api.github.com', port=443): Max retries exceeded with url: /users/abjer/repos (Caused by NewConnectionError('<urllib3.connection.HTTPSConnection object at 0x000002582AB5EE80>: Failed to establish a new connection: [Errno 11001] getaddrinfo failed'))"
     ]
    }
   ],
   "source": [
    "import requests # import the module requests\n",
    "response = requests.get(url) # submit query with `get` and save response as object"
   ]
  },
  {
   "cell_type": "markdown",
   "metadata": {},
   "source": [
    "When we examine the response, we can see the HTML string is pretty long, so we limit the initial output to the first 1,000 characters. "
   ]
  },
  {
   "cell_type": "code",
   "execution_count": 154,
   "metadata": {
    "slideshow": {
     "slide_type": "fragment"
    }
   },
   "outputs": [
    {
     "name": "stdout",
     "output_type": "stream",
     "text": [
      "56402 \n",
      "\n",
      "[{\"id\":111244798,\"node_id\":\"MDEwOlJlcG9zaXRvcnkxMTEyNDQ3OTg=\",\"name\":\"abjer.github.io\",\"full_name\":\"abjer/abjer.github.io\",\"private\":false,\"owner\":{\"login\":\"abjer\",\"id\":6363844,\"node_id\":\"MDQ6VXNlcjYzNjM4NDQ=\",\"avatar_url\":\"https://avatars3.githubusercontent.com/u/6363844?v=4\",\"gravatar_id\":\"\",\"url\":\"https://api.github.com/users/abjer\",\"html_url\":\"https://github.com/abjer\",\"followers_url\":\"https://api.github.com/users/abjer/followers\",\"following_url\":\"https://api.github.com/users/abjer/following{/other_user}\",\"gists_url\":\"https://api.github.com/users/abjer/gists{/gist_id}\",\"starred_url\":\"https://api.github.com/users/abjer/starred{/owner}{/repo}\",\"subscriptions_url\":\"https://api.github.com/users/abjer/subscriptions\",\"organizations_url\":\"https://api.github.com/users/abjer/orgs\",\"repos_url\":\"https://api.github.com/users/abjer/repos\",\"events_url\":\"https://api.github.com/users/abjer/events{/privacy}\",\"received_events_url\":\"https://api.github.com/users/abjer/received_events\",\"type\":\"User\",\"s \n",
      "\n"
     ]
    }
   ],
   "source": [
    "print(len(response.text),'\\n') # print length of HTML\n",
    "print(response.text[:1000],'\\n') # print first 1,000 characters of HTML "
   ]
  },
  {
   "cell_type": "markdown",
   "metadata": {},
   "source": [
    "We notice how the structure resembles lists and dictionaries. Therefore, we try to convert it by assuming that it is structured as JSON. Voila! It now makes a lot of sense!"
   ]
  },
  {
   "cell_type": "code",
   "execution_count": 38,
   "metadata": {
    "scrolled": true
   },
   "outputs": [
    {
     "ename": "NameError",
     "evalue": "name 'response' is not defined",
     "output_type": "error",
     "traceback": [
      "\u001b[1;31m---------------------------------------------------------------------------\u001b[0m",
      "\u001b[1;31mNameError\u001b[0m                                 Traceback (most recent call last)",
      "\u001b[1;32m<ipython-input-38-710b87c35168>\u001b[0m in \u001b[0;36m<module>\u001b[1;34m\u001b[0m\n\u001b[1;32m----> 1\u001b[1;33m \u001b[0mresponse_json\u001b[0m \u001b[1;33m=\u001b[0m \u001b[0mresponse\u001b[0m\u001b[1;33m.\u001b[0m\u001b[0mjson\u001b[0m\u001b[1;33m(\u001b[0m\u001b[1;33m)\u001b[0m \u001b[1;31m# convert response to a list of dicts\u001b[0m\u001b[1;33m\u001b[0m\u001b[1;33m\u001b[0m\u001b[0m\n\u001b[0m\u001b[0;32m      2\u001b[0m \u001b[0mresponse_json\u001b[0m\u001b[1;33m[\u001b[0m\u001b[1;36m0\u001b[0m\u001b[1;33m]\u001b[0m\u001b[1;33m\u001b[0m\u001b[1;33m\u001b[0m\u001b[0m\n",
      "\u001b[1;31mNameError\u001b[0m: name 'response' is not defined"
     ]
    }
   ],
   "source": [
    "response_json = response.json() # convert response to a list of dicts\n",
    "response_json[0]"
   ]
  },
  {
   "cell_type": "markdown",
   "metadata": {},
   "source": [
    "## Introducing the punk API\n",
    "The [punk API](https://punkapi.com/) serves information about _beers_. It is a well made and well documented API which makes it great for learning about APIs. \n",
    "\n",
    "> **Ex. 2.2.1:** Read the documentation on the Punk API available [here](https://punkapi.com/documentation/v2). What is the server url (i.e. root endpoint) of the Punk API? Does it require authentication? Then use the Punk API to make a request for beers brewed before December, 2008 with an ABV of at least 8."
   ]
  },
  {
   "cell_type": "code",
   "execution_count": 53,
   "metadata": {},
   "outputs": [
    {
     "name": "stdout",
     "output_type": "stream",
     "text": [
      "15972 \n",
      "\n",
      "[{\"id\":23,\"name\":\"Storm\",\"tagline\":\"Islay Whisky Aged IPA.\",\"first_brewed\":\"12/2007\",\"description\":\"Dark and powerful Islay magic infuses this tropical sensation of an IPA. Using the original Punk IPA as a base, we boosted the ABV to 8% giving it some extra backbone to stand up to the peated smoke imported directly from Islay.\",\"image_url\":\"https://images.punkapi.com/v2/23.png\",\"abv\":8,\"ibu\":60,\"target_fg\":1010,\"target_og\":1082,\"ebc\":12,\"srm\":6,\"ph\":4.4,\"attenuation_level\":86,\"volume\":{\"value\":20,\"unit\":\"litres\"},\"boil_volume\":{\"value\":25,\"unit\":\"litres\"},\"method\":{\"mash_temp\":[{\"temp\":{\"value\":65,\"unit\":\"celsius\"},\"duration\":75}],\"fermentation\":{\"temp\":{\"value\":19,\"unit\":\"celsius\"}},\"twist\":\"Oak chips soaked in Islay whisky 50g\"},\"ingredients\":{\"malt\":[{\"name\":\"Extra Pale\",\"amount\":{\"value\":5.8,\"unit\":\"kilograms\"}}],\"hops\":[{\"name\":\"Ahtanum\",\"amount\":{\"value\":17.5,\"unit\":\"grams\"},\"add\":\"start\",\"attribute\":\"bitter\"},{\"name\":\"Chinook\",\"amount\":{\"value\":15,\"unit\":\"grams\"},\"add\":\"start\",\" \n",
      "\n"
     ]
    }
   ],
   "source": [
    "# The root endpoint:\n",
    "server_url = 'https://api.punkapi.com/v2'\n",
    "#There is no authentication needed\n",
    "\n",
    "# I specify where I want the path to go.\n",
    "endpoint_path = '/beers?brewed_before=12-2008&abv_gt=7'\n",
    "url = server_url + endpoint_path\n",
    "\n",
    "# Make request\n",
    "import requests # import the module requests\n",
    "response = requests.get(url) # submit query with `get` and save response as object\n",
    "\n",
    "print(len(response.text),'\\n') # print length of HTML\n",
    "print(response.text[:1000],'\\n') # print first 1,000 characters of HTML "
   ]
  },
  {
   "cell_type": "markdown",
   "metadata": {},
   "source": [
    "> **Ex. 2.2.2:** What object type is the API's JSON response? What about the individual items in the container? Convert the response object to a suitable format and answer the following questions:\n",
    ">> 1) How many beers are in the JSON object?\n",
    ">>\n",
    ">> 2) Print the names of the beers in the JSON object using lower case characters.\n",
    ">>\n",
    ">> 3) Select the beer called Paradox Islay from the JSON object.\n",
    ">>\n",
    ">> 4) Which hop ingredients does the Paradox Islay contain?\n"
   ]
  },
  {
   "cell_type": "code",
   "execution_count": 73,
   "metadata": {},
   "outputs": [
    {
     "name": "stdout",
     "output_type": "stream",
     "text": [
      "The API's JSON response is: <class 'list'>\n",
      "The individual items are: <class 'dict'>\n",
      "1) Number of beers: 8 \n",
      "2) Names of the beers: ['storm', 'zephyr', 'paradox islay', 'coffee imperial stout', 'original dogma (née speedball)', 'riptide', 'chaos theory', 'ab:03']\n",
      "3) The data for Paradox Islay is: {'id': 52, 'name': 'Paradox Islay', 'tagline': 'Ubiquitous Imperial Stout.', 'first_brewed': '04/2007', 'description': 'In 2006 James and Martin hijacked a beer dinner run by Michael Jackson, the acclaimed beer and whisky writer, and convinced him to taste one of their home brews. This was a defining moment in BrewDog prehistory, and that beer was the first incarnation of the ubiquitous Paradox. Aged in a variety of casks over the years, Paradox is dark, decadent and encapsulating. Can be enjoyed fresh; phenomenal when aged.', 'image_url': 'https://images.punkapi.com/v2/52.png', 'abv': 10, 'ibu': 55, 'target_fg': 1014, 'target_og': 1090, 'ebc': 300, 'srm': 152, 'ph': 4.4, 'attenuation_level': 84.4, 'volume': {'value': 20, 'unit': 'litres'}, 'boil_volume': {'value': 25, 'unit': 'litres'}, 'method': {'mash_temp': [{'temp': {'value': 65, 'unit': 'celsius'}, 'duration': 90}], 'fermentation': {'temp': {'value': 21, 'unit': 'celsius'}}, 'twist': 'Try ageing on oak chips, infusing with rum raisins, or vanilla pods'}, 'ingredients': {'malt': [{'name': 'Extra Pale', 'amount': {'value': 4.5, 'unit': 'kilograms'}}, {'name': 'Caramalt', 'amount': {'value': 0.55, 'unit': 'kilograms'}}, {'name': 'Munich', 'amount': {'value': 0.33, 'unit': 'kilograms'}}, {'name': 'Flaked Oats', 'amount': {'value': 1.35, 'unit': 'kilograms'}}, {'name': 'Dark Crystal', 'amount': {'value': 0.55, 'unit': 'kilograms'}}, {'name': 'Carafa Special Malt Type 1', 'amount': {'value': 0.18, 'unit': 'kilograms'}}, {'name': 'Carafa Special Malt Type 3', 'amount': {'value': 0.33, 'unit': 'kilograms'}}], 'hops': [{'name': 'Columbus', 'amount': {'value': 75, 'unit': 'grams'}, 'add': 'start', 'attribute': 'bitter'}, {'name': 'Columbus', 'amount': {'value': 25, 'unit': 'grams'}, 'add': 'middle', 'attribute': 'flavour'}, {'name': 'Saaz', 'amount': {'value': 25, 'unit': 'grams'}, 'add': 'end', 'attribute': 'flavour'}, {'name': 'First Gold', 'amount': {'value': 25, 'unit': 'grams'}, 'add': 'end', 'attribute': 'flavour'}], 'yeast': 'Wyeast 1272 - American Ale II™'}, 'food_pairing': ['Ancho chilli beef taco', 'Chocolate gateaux', 'Rum poached pears with dark chocolate sauce'], 'brewers_tips': 'The beauty of this beer is in how brilliantly it lends itself to infusing or ageing. Experiment with different additions when the beer is ageing, taste it regularly to gauge its progress, and make sure you package it at its peak.', 'contributed_by': 'Sam Mason <samjbmason>'}\n",
      "4) Paradox Islay contains the hop ingredients named: {'Columbus', 'First Gold', 'Saaz'}\n"
     ]
    }
   ],
   "source": [
    "response_json = response.json() # convert response to a list of dicts\n",
    "\n",
    "print(\"The API's JSON response is:\" , type(response_json))\n",
    "#print(response_json[0]) # see first response\n",
    "print(\"The individual items are:\" , type(response_json[0]))\n",
    "# Again, we have a dictionary setup in the JSON object\n",
    "# The individual items are stored as lists\n",
    "\n",
    "#1) How many beers are in the JSON object?\n",
    "print(\"1) Number of beers:\", len(response_json), \"\")\n",
    "# or print(f\"Number of beers {len(response_json)}\")\n",
    "\n",
    "#2) Print the names of the beers in the JSON object using lower case characters.\n",
    "print('2) Names of the beers:', [i['name'].lower() for i in response_json])\n",
    "    \n",
    "#3) Select the beer called Paradox Islay from the JSON object.\n",
    "# Paradox Islay is index 2 counting from 0\n",
    "print(\"3) The data for Paradox Islay is:\", response_json[2])\n",
    "\n",
    "#4) Which hop ingredients does the Paradox Islay contain?\n",
    "print(\"4) Paradox Islay contains the hop ingredients named:\", set(i['name'] for i in response_json[2]['ingredients']['hops']))\n",
    "\n",
    "\n"
   ]
  },
  {
   "cell_type": "markdown",
   "metadata": {},
   "source": [
    "> **Ex. 2.2.3:** Save the beers as a JSON file on your machine.\n",
    "\n",
    "> _Hint:_ you might want to take a look at the [json](https://docs.python.org/3/library/json.html) module.\n"
   ]
  },
  {
   "cell_type": "code",
   "execution_count": 77,
   "metadata": {},
   "outputs": [],
   "source": [
    "import json\n",
    "beers = response_json\n",
    "\n",
    "with open('beers.json', 'w') as f:\n",
    "    f.write(json.dumps(beers))\n",
    "\n",
    "with open(\"beers.json\", \"r\") as f:\n",
    "    beers = json.loads(f.read())"
   ]
  },
  {
   "cell_type": "markdown",
   "metadata": {},
   "source": [
    "<br>\n",
    "\n",
    "## The API for Statistics Denmark \n",
    "\n",
    "Statistics Denmark (DST) provide an API access to their aggregate data. For developers they supply a [console](https://api.statbank.dk/console) for testing. In this exercise we will code up a simple script which can collect data from the DST API. \n",
    "\n",
    "> **Ex 2.3.1:** Use the API console to construct a GET request which retrieves the table FOLK1A split by quarter. The return should be in JSON format. We want all available dates.\n",
    ">\n",
    ">Then write a function `construct_link()` which takes as inputs: a table ID (e.g. `'FOLK1A'`) and a list of strings like `['var1=*', 'var2=somevalue']`. The function should return the proper URL for getting a dataset with the specified variables (e.g. in this case all levels of var1, but only where var2=somevalue).\n",
    "\n",
    "> _Hint:_ The time variable is called 'tid'. To select all available values, set the value-id to '*'. Spend a little time with the console to get a sense of how the URLs are constructed.\n"
   ]
  },
  {
   "cell_type": "code",
   "execution_count": 2,
   "metadata": {},
   "outputs": [
    {
     "name": "stdout",
     "output_type": "stream",
     "text": [
      "https://api.statbank.dk/v1/data/FOLK1A/JSONSTAT?lang=en&Tid=*\n",
      "<class 'dict'>\n",
      "{'dataset': {'dimension': {'ContentsCode': {'label': 'Indhold', 'category': {'index': {'FOLK1A': 0}, 'label': {'FOLK1A': 'Population at the first day of the quarter'}, 'unit': {'FOLK1A': {'base': 'number', 'decimals': 0}}}}, 'Tid': {'label': 'time', 'category': {'index': {'2008K1': 0, '2008K2': 1, '2008K3': 2, '2008K4': 3, '2009K1': 4, '2009K2': 5, '2009K3': 6, '2009K4': 7, '2010K1': 8, '2010K2': 9, '2010K3': 10, '2010K4': 11, '2011K1': 12, '2011K2': 13, '2011K3': 14, '2011K4': 15, '2012K1': 16, '2012K2': 17, '2012K3': 18, '2012K4': 19, '2013K1': 20, '2013K2': 21, '2013K3': 22, '2013K4': 23, '2014K1': 24, '2014K2': 25, '2014K3': 26, '2014K4': 27, '2015K1': 28, '2015K2': 29, '2015K3': 30, '2015K4': 31, '2016K1': 32, '2016K2': 33, '2016K3': 34, '2016K4': 35, '2017K1': 36, '2017K2': 37, '2017K3': 38, '2017K4': 39, '2018K1': 40, '2018K2': 41, '2018K3': 42, '2018K4': 43, '2019K1': 44, '2019K2': 45, '2019K3': 46, '2019K4': 47, '2020K1': 48, '2020K2': 49, '2020K3': 50}, 'label': {'2008K1': '2008Q1', '2008K2': '2008Q2', '2008K3': '2008Q3', '2008K4': '2008Q4', '2009K1': '2009Q1', '2009K2': '2009Q2', '2009K3': '2009Q3', '2009K4': '2009Q4', '2010K1': '2010Q1', '2010K2': '2010Q2', '2010K3': '2010Q3', '2010K4': '2010Q4', '2011K1': '2011Q1', '2011K2': '2011Q2', '2011K3': '2011Q3', '2011K4': '2011Q4', '2012K1': '2012Q1', '2012K2': '2012Q2', '2012K3': '2012Q3', '2012K4': '2012Q4', '2013K1': '2013Q1', '2013K2': '2013Q2', '2013K3': '2013Q3', '2013K4': '2013Q4', '2014K1': '2014Q1', '2014K2': '2014Q2', '2014K3': '2014Q3', '2014K4': '2014Q4', '2015K1': '2015Q1', '2015K2': '2015Q2', '2015K3': '2015Q3', '2015K4': '2015Q4', '2016K1': '2016Q1', '2016K2': '2016Q2', '2016K3': '2016Q3', '2016K4': '2016Q4', '2017K1': '2017Q1', '2017K2': '2017Q2', '2017K3': '2017Q3', '2017K4': '2017Q4', '2018K1': '2018Q1', '2018K2': '2018Q2', '2018K3': '2018Q3', '2018K4': '2018Q4', '2019K1': '2019Q1', '2019K2': '2019Q2', '2019K3': '2019Q3', '2019K4': '2019Q4', '2020K1': '2020Q1', '2020K2': '2020Q2', '2020K3': '2020Q3'}}}, 'id': ['ContentsCode', 'Tid'], 'size': [1, 51], 'role': {'metric': ['ContentsCode'], 'time': ['Tid']}}, 'label': 'Population at the first day of the quarter by Indhold and time', 'source': 'Statistics Denmark', 'updated': '2020-08-11T06:00:00Z', 'value': [5475791, 5482266, 5489022, 5505995, 5511451, 5515287, 5519441, 5532531, 5534738, 5540241, 5543819, 5557709, 5560628, 5564219, 5566856, 5579204, 5580516, 5584758, 5587085, 5599665, 5602628, 5605836, 5608784, 5623501, 5627235, 5634437, 5639719, 5655750, 5659715, 5668743, 5678348, 5699220, 5707251, 5717014, 5724456, 5745526, 5748769, 5756170, 5760694, 5778570, 5781190, 5785864, 5789957, 5806015, 5806081, 5811413, 5814461, 5827463, 5822763, 5824857, 5825337]}}\n"
     ]
    }
   ],
   "source": [
    "# API i DST console: \n",
    "'https://api.statbank.dk/v1/data/FOLK1A/JSONSTAT?lang=en&Tid=*'\n",
    "\n",
    "def construct_link(table_ID, lst):\n",
    "    url = f'https://api.statbank.dk/v1/data/{table_ID}/JSONSTAT?lang=en'\n",
    "    for var in lst:\n",
    "        url += f'&{var}' #to be able to specify more variables\n",
    "    return url\n",
    "print(construct_link('FOLK1A', ['Tid=*']))\n",
    "\n",
    "import requests\n",
    "data = requests.get(construct_link('FOLK1A', ['Tid=*']))\n",
    "FOLK1A = data.json()\n",
    "print(type(FOLK1A)) # this is now a python dictionary\n",
    "print(FOLK1A)\n"
   ]
  },
  {
   "cell_type": "markdown",
   "metadata": {},
   "source": [
    "When executing the request in the console you should get a json file as output. Next lets write some code to load these json files directly into python. \n",
    "\n",
    "\n",
    "> **Ex. 2.3.2:** use the `requests` module (get it with `pip install requests`) and `construct_link()` to request birth data from the \"FOD\" table. Get all available years (variable \"Tid\"), but only female births (BARNKON=P) . Unpack the json payload and store the result. Wrap the whole thing in a function which takes an url as input and returns the corresponding output.\n",
    "\n",
    "> _Hint:_ The `requests.response` object has a `.json()` method. "
   ]
  },
  {
   "cell_type": "code",
   "execution_count": 20,
   "metadata": {},
   "outputs": [
    {
     "data": {
      "text/plain": [
       "{'dimension': {'BARNKON': {'label': 'sex of child',\n",
       "   'category': {'index': {'P': 0}, 'label': {'P': 'Girls'}}},\n",
       "  'ContentsCode': {'label': 'Indhold',\n",
       "   'category': {'index': {'FOD': 0},\n",
       "    'label': {'FOD': 'Live births'},\n",
       "    'unit': {'FOD': {'base': 'number', 'decimals': 0}}}},\n",
       "  'Tid': {'label': 'time',\n",
       "   'category': {'index': {'1973': 0,\n",
       "     '1974': 1,\n",
       "     '1975': 2,\n",
       "     '1976': 3,\n",
       "     '1977': 4,\n",
       "     '1978': 5,\n",
       "     '1979': 6,\n",
       "     '1980': 7,\n",
       "     '1981': 8,\n",
       "     '1982': 9,\n",
       "     '1983': 10,\n",
       "     '1984': 11,\n",
       "     '1985': 12,\n",
       "     '1986': 13,\n",
       "     '1987': 14,\n",
       "     '1988': 15,\n",
       "     '1989': 16,\n",
       "     '1990': 17,\n",
       "     '1991': 18,\n",
       "     '1992': 19,\n",
       "     '1993': 20,\n",
       "     '1994': 21,\n",
       "     '1995': 22,\n",
       "     '1996': 23,\n",
       "     '1997': 24,\n",
       "     '1998': 25,\n",
       "     '1999': 26,\n",
       "     '2000': 27,\n",
       "     '2001': 28,\n",
       "     '2002': 29,\n",
       "     '2003': 30,\n",
       "     '2004': 31,\n",
       "     '2005': 32,\n",
       "     '2006': 33,\n",
       "     '2007': 34,\n",
       "     '2008': 35,\n",
       "     '2009': 36,\n",
       "     '2010': 37,\n",
       "     '2011': 38,\n",
       "     '2012': 39,\n",
       "     '2013': 40,\n",
       "     '2014': 41,\n",
       "     '2015': 42,\n",
       "     '2016': 43,\n",
       "     '2017': 44,\n",
       "     '2018': 45,\n",
       "     '2019': 46},\n",
       "    'label': {'1973': '1973',\n",
       "     '1974': '1974',\n",
       "     '1975': '1975',\n",
       "     '1976': '1976',\n",
       "     '1977': '1977',\n",
       "     '1978': '1978',\n",
       "     '1979': '1979',\n",
       "     '1980': '1980',\n",
       "     '1981': '1981',\n",
       "     '1982': '1982',\n",
       "     '1983': '1983',\n",
       "     '1984': '1984',\n",
       "     '1985': '1985',\n",
       "     '1986': '1986',\n",
       "     '1987': '1987',\n",
       "     '1988': '1988',\n",
       "     '1989': '1989',\n",
       "     '1990': '1990',\n",
       "     '1991': '1991',\n",
       "     '1992': '1992',\n",
       "     '1993': '1993',\n",
       "     '1994': '1994',\n",
       "     '1995': '1995',\n",
       "     '1996': '1996',\n",
       "     '1997': '1997',\n",
       "     '1998': '1998',\n",
       "     '1999': '1999',\n",
       "     '2000': '2000',\n",
       "     '2001': '2001',\n",
       "     '2002': '2002',\n",
       "     '2003': '2003',\n",
       "     '2004': '2004',\n",
       "     '2005': '2005',\n",
       "     '2006': '2006',\n",
       "     '2007': '2007',\n",
       "     '2008': '2008',\n",
       "     '2009': '2009',\n",
       "     '2010': '2010',\n",
       "     '2011': '2011',\n",
       "     '2012': '2012',\n",
       "     '2013': '2013',\n",
       "     '2014': '2014',\n",
       "     '2015': '2015',\n",
       "     '2016': '2016',\n",
       "     '2017': '2017',\n",
       "     '2018': '2018',\n",
       "     '2019': '2019'}}},\n",
       "  'id': ['BARNKON', 'ContentsCode', 'Tid'],\n",
       "  'size': [1, 1, 47],\n",
       "  'role': {'metric': ['ContentsCode'], 'time': ['Tid']}},\n",
       " 'label': 'Live births by sex of child, Indhold and time',\n",
       " 'source': 'Statistics Denmark',\n",
       " 'updated': '2020-02-11T07:00:00Z',\n",
       " 'value': [34996,\n",
       "  34771,\n",
       "  35260,\n",
       "  31533,\n",
       "  30055,\n",
       "  30161,\n",
       "  28909,\n",
       "  27941,\n",
       "  25972,\n",
       "  25595,\n",
       "  24821,\n",
       "  25228,\n",
       "  26284,\n",
       "  26878,\n",
       "  27142,\n",
       "  28520,\n",
       "  29876,\n",
       "  30813,\n",
       "  31353,\n",
       "  32914,\n",
       "  32760,\n",
       "  34027,\n",
       "  33885,\n",
       "  32819,\n",
       "  32899,\n",
       "  32116,\n",
       "  32341,\n",
       "  32652,\n",
       "  31961,\n",
       "  31109,\n",
       "  31441,\n",
       "  31539,\n",
       "  31459,\n",
       "  31580,\n",
       "  31267,\n",
       "  31507,\n",
       "  30557,\n",
       "  30946,\n",
       "  28984,\n",
       "  28131,\n",
       "  27283,\n",
       "  27616,\n",
       "  28357,\n",
       "  29833,\n",
       "  29930,\n",
       "  29865,\n",
       "  29648]}"
      ]
     },
     "execution_count": 20,
     "metadata": {},
     "output_type": "execute_result"
    }
   ],
   "source": [
    "# if request module not installed, then run: pip install requests\n",
    "import requests\n",
    "\n",
    "# Create function\n",
    "def getdata(url_in):\n",
    "    data_in = requests.get(url_in)\n",
    "    data_out = data_in.json()['dataset']\n",
    "    return data_out\n",
    "\n",
    "#Specify the link\n",
    "url_in = construct_link('FOD', ['Tid=*','BARNKON=P'])\n",
    "\n",
    "#Save the data from the function and display it\n",
    "FOD = getdata(url_in)\n",
    "FOD"
   ]
  },
  {
   "cell_type": "code",
   "execution_count": 22,
   "metadata": {},
   "outputs": [],
   "source": [
    "# HANDIN"
   ]
  },
  {
   "cell_type": "markdown",
   "metadata": {},
   "source": [
    "> **Ex. 2.3.3:** Extract the number of girls born each year. Store the results as a list."
   ]
  },
  {
   "cell_type": "code",
   "execution_count": 24,
   "metadata": {},
   "outputs": [
    {
     "name": "stdout",
     "output_type": "stream",
     "text": [
      "[34996, 34771, 35260, 31533, 30055, 30161, 28909, 27941, 25972, 25595, 24821, 25228, 26284, 26878, 27142, 28520, 29876, 30813, 31353, 32914, 32760, 34027, 33885, 32819, 32899, 32116, 32341, 32652, 31961, 31109, 31441, 31539, 31459, 31580, 31267, 31507, 30557, 30946, 28984, 28131, 27283, 27616, 28357, 29833, 29930, 29865, 29648]\n"
     ]
    }
   ],
   "source": [
    "girls = FOD['value']\n",
    "print(girls)"
   ]
  },
  {
   "cell_type": "markdown",
   "metadata": {},
   "source": [
    "> **Ex. 2.3.4:** Repeat 2.3.2 and 2.3.3 but this time only get boy births (BARNKON=D). Store the numbers in a new list and use the `plot_births` (supplied below) function to plot the data. If you don't already have matplotlib installed run `pip install matplotlib`."
   ]
  },
  {
   "cell_type": "code",
   "execution_count": 178,
   "metadata": {},
   "outputs": [
    {
     "name": "stdout",
     "output_type": "stream",
     "text": [
      "Requirement already satisfied: matplotlib in c:\\users\\miche\\anaconda3\\lib\\site-packages (3.2.2)\n",
      "Requirement already satisfied: cycler>=0.10 in c:\\users\\miche\\anaconda3\\lib\\site-packages (from matplotlib) (0.10.0)\n",
      "Requirement already satisfied: kiwisolver>=1.0.1 in c:\\users\\miche\\anaconda3\\lib\\site-packages (from matplotlib) (1.2.0)\n",
      "Requirement already satisfied: python-dateutil>=2.1 in c:\\users\\miche\\anaconda3\\lib\\site-packages (from matplotlib) (2.8.1)\n",
      "Requirement already satisfied: pyparsing!=2.0.4,!=2.1.2,!=2.1.6,>=2.0.1 in c:\\users\\miche\\anaconda3\\lib\\site-packages (from matplotlib) (2.4.7)\n",
      "Requirement already satisfied: numpy>=1.11 in c:\\users\\miche\\anaconda3\\lib\\site-packages (from matplotlib) (1.18.5)\n",
      "Requirement already satisfied: six in c:\\users\\miche\\anaconda3\\lib\\site-packages (from cycler>=0.10->matplotlib) (1.15.0)\n",
      "Note: you may need to restart the kernel to use updated packages.\n"
     ]
    }
   ],
   "source": [
    "#if not installed, run: pip install matplotlib"
   ]
  },
  {
   "cell_type": "code",
   "execution_count": 27,
   "metadata": {},
   "outputs": [],
   "source": [
    "# Just run this once, do not change it.\n",
    "import matplotlib.pyplot as plt \n",
    "\n",
    "def plot_births(boys, girls):\n",
    "    \"\"\" Plots lineplot of the number of births split by gender.\n",
    "    \n",
    "    Args: \n",
    "        boys: a list of boy births by year\n",
    "        girls: a list of girl births by year\n",
    "    \"\"\"\n",
    "    if not len(boys) == len(girls):\n",
    "        raise ValueError('There must be the same number of observations for boys and girls')\n",
    "    \n",
    "    labels = [f'{year}' for year in range(1973,2018)]\n",
    "    \n",
    "    plt.plot(range(len(boys)), boys, color = 'blue', label = 'boys')\n",
    "    plt.plot(range(len(boys)), girls, color = 'red', label = 'girls')\n",
    "    plt.xticks([i for i in range(len(boys)) if i%4 == 0],\n",
    "               [l for i,l in zip(range(len(boys)),labels) if i%4 == 0],\n",
    "               rotation = 'vertical')\n",
    "    plt.legend()\n",
    "    plt.show()"
   ]
  },
  {
   "cell_type": "code",
   "execution_count": 28,
   "metadata": {},
   "outputs": [
    {
     "name": "stdout",
     "output_type": "stream",
     "text": [
      "[36899, 36556, 36811, 33734, 31823, 31875, 30555, 29352, 27117, 27063, 26001, 26572, 27465, 28434, 29079, 30324, 31475, 32620, 33005, 34812, 34609, 35639, 35886, 34819, 34749, 34058, 33879, 34432, 33497, 32966, 33158, 33070, 32823, 33404, 32815, 33531, 32261, 32465, 30014, 29785, 28590, 29254, 29848, 31781, 31467, 31611, 31519]\n"
     ]
    },
    {
     "data": {
      "image/png": "[encoded data removed]",
      "text/plain": [
       "<Figure size 432x288 with 1 Axes>"
      ]
     },
     "metadata": {
      "needs_background": "light"
     },
     "output_type": "display_data"
    }
   ],
   "source": [
    "#Specify the link\n",
    "url_in = construct_link('FOD', ['Tid=*','BARNKON=D'])\n",
    "\n",
    "#Save the data from the function and display it\n",
    "boys = getdata(url_in)['value']\n",
    "print(boys)\n",
    "\n",
    "plot_births(boys, girls)"
   ]
  },
  {
   "cell_type": "markdown",
   "metadata": {},
   "source": [
    "The final question in this module is optional and only for those curious in learning more.\n",
    "\n",
    ">**(Bonus question) Ex. 2.3.5:** Go to [https://kristianuruplarsen.github.io/PyDST/](https://kristianuruplarsen.github.io/PyDST/) follow the installation instructions and import PyDST. Try to replicate the birth figure from 2.3.4 using PyDST. Use [the documentation](https://kristianuruplarsen.github.io/PyDST/connection) to learn how the package works."
   ]
  },
  {
   "cell_type": "code",
   "execution_count": 26,
   "metadata": {},
   "outputs": [],
   "source": [
    "# [Answer to Ex. 2.3.5]"
   ]
  }
 ],
 "metadata": {
  "kernelspec": {
   "display_name": "Python 3",
   "language": "python",
   "name": "python3"
  },
  "language_info": {
   "codemirror_mode": {
    "name": "ipython",
    "version": 3
   },
   "file_extension": ".py",
   "mimetype": "text/x-python",
   "name": "python",
   "nbconvert_exporter": "python",
   "pygments_lexer": "ipython3",
   "version": "3.8.3"
  }
 },
 "nbformat": 4,
 "nbformat_minor": 4
}
